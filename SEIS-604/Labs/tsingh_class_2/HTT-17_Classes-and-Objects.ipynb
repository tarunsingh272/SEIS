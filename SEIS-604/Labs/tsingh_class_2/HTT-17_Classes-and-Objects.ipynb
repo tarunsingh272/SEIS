{
 "cells": [
  {
   "cell_type": "markdown",
   "id": "47ca5c95",
   "metadata": {},
   "source": [
    "## HTT Chapter 17: Classes and Objects - The Basics\n",
    "\n",
    "based on \"How to Think Like a Computer Scientist in Python\":\n",
    "\n",
    "https://runestone.academy/runestone/books/published/thinkcspy/ClassesBasics/toctree.html\n",
    "\n",
    "Summaries and this notebook by:\n",
    "\n",
    "Eric V. Level  \n",
    "Graduate Programs in Software  \n",
    "University of St. Thomas, St. Paul, MN  \n"
   ]
  },
  {
   "cell_type": "markdown",
   "id": "ac7b3107",
   "metadata": {},
   "source": [
    "### 17.1 – Object-Oriented Programming\n",
    "\n",
    "***Object-oriented programming (OOP)*** is a major programming paradigm.\n",
    "\n",
    "***Programming paradigm*** => a fundamental style of computer programming, offering particular concepts and abstractions in the representation and implementation of computation.\n",
    "\n",
    "Python is a **multiple-paradigm programming language**, supporting different ways of structuring computations.\n",
    "\n",
    "We have dealt with Python as a **procedural language**, structured around functions or procedures.\n",
    "\n",
    "We have also seen examples of classes and objects of those classes, supporting the **OOP paradigm**:\n",
    "\n",
    "- `turtle.Turtle` is a ___class___ \n",
    "    \n",
    "- `alex = turtle.Turtle()` creates a new ___object___ referenced by `alex`\n",
    "\n",
    "- `alex.forward(47)` invokes the ___method___ `forward()` against the object `alex`"
   ]
  },
  {
   "cell_type": "markdown",
   "id": "058f68f2",
   "metadata": {},
   "source": [
    "### 17.2 – A Change of Perspective\n",
    "\n",
    "OOP is a \"repackaging\" of the elements of procedural programming.\n",
    "\n",
    "\"Procedural\" means => Data and their types are manipulated by named groups of operations called functions.\n",
    "\n",
    "\"Object-oriented\" means => Objects and their classes are manipulated by ***methods***: functions associated with objects.\n",
    "\n",
    "Key idea: data (***attributes***) and methods are bundled into a single entity.\n",
    "\n",
    "Key idea: invoking method against object is like sending a message to a receiver, requesting some task to be performed."
   ]
  },
  {
   "cell_type": "markdown",
   "id": "1ff416b1",
   "metadata": {},
   "source": [
    "### 17.3 – Objects Revisited\n",
    "\n",
    "An object is a structured area of memory, organized something like this: \n",
    "\n",
    "<img src=\"images/_17_3_1-image.png\" width=\"600\" height=\"600\" align=\"center\"/>\n",
    "\n",
    "If you have a reference `ref` to an object, invoke its __method__ using ___dot___ notation: `ref.set_field(47)`\n",
    "\n",
    "Access its ___attributes___ (fields) using the same notation: `ref._some_field`\n",
    "\n",
    "Objects have ***state*** == the values of all of its attributes at any point in time.\n",
    "\n",
    "You can change (\"mutate\") an object's state in two ways:\n",
    "\n",
    "- **Invoke a method** against the object, where the method's code changes one or more of its attributes:\n",
    "\n",
    "`ref.set_name(\"Moxie\")`\n",
    "- **Directly assign** a new value to an attribute, accessed via the object's reference:\n",
    "\n",
    "`ref._name = \"Moxie\"`"
   ]
  },
  {
   "cell_type": "markdown",
   "id": "7959ef2f",
   "metadata": {},
   "source": [
    "### 17.4 – User-Defined Classes\n",
    "\n",
    "Define your own classes using the `class` keyword:"
   ]
  },
  {
   "cell_type": "code",
   "execution_count": 1,
   "id": "db572e26",
   "metadata": {},
   "outputs": [],
   "source": [
    "class Point: \n",
    "    \"\"\" Point class for representing and manipulating x,y coordinates. \"\"\"\n",
    "    def __init__(self):\n",
    "        \"\"\" Create a new point at the origin \"\"\"        \n",
    "        self.x = 0\n",
    "        self.y = 0"
   ]
  },
  {
   "cell_type": "markdown",
   "id": "e05e39fe",
   "metadata": {},
   "source": [
    "Within the class body, declare methods by ***indenting them***.\n",
    "\n",
    "***Every*** method of the class must have a `self` parameter – or it's **NOT** a method.\n",
    "- Instead, it's just a utility function inside the class.\n",
    "\n",
    "Within method code, `self.attribute` accesses the attribute `attribute` within the current object.\t\n",
    "\n",
    "- Assign to `self.attribute` to create it or change its value  \n",
    "\n",
    "- Use `self.attribute` as an expression to access its value. \n",
    "\n",
    "A ***constructor*** for objects of a class is defined by declaring the `__init__(self,...)` method.\n",
    "- Pronounce it the Pythonic way:  __\"dunder init\"__"
   ]
  },
  {
   "cell_type": "code",
   "execution_count": 2,
   "id": "02fc4584",
   "metadata": {},
   "outputs": [
    {
     "name": "stdout",
     "output_type": "stream",
     "text": [
      "Nothing seems to have happened with the points\n"
     ]
    }
   ],
   "source": [
    "# _17_4_1_chp13_classes1.py\n",
    "\n",
    "class Point:\n",
    "    \"\"\" Point class for representing and manipulating x,y coordinates. \"\"\"\n",
    "    def __init__(self):\n",
    "        \"\"\" Create a new point at the origin \"\"\"\n",
    "        self.x = 0\n",
    "        self.y = 0 \n",
    " \n",
    "p = Point()         # Instantiate an object of type Point\n",
    "q = Point()         # and make a second point\n",
    "\n",
    "print(\"Nothing seems to have happened with the points\")\n"
   ]
  },
  {
   "cell_type": "markdown",
   "id": "8f570b3a",
   "metadata": {},
   "source": [
    "Note the assignments to `self.x` and `self.y`.  To access the attributes of any Python object, we must use such **dot notation** applied to an object reference."
   ]
  },
  {
   "cell_type": "markdown",
   "id": "5f0819aa",
   "metadata": {},
   "source": [
    "Try running the constructor within Python Tutor:\n",
    "    \n",
    "https://runestone.academy/runestone/books/published/thinkcspy/ClassesBasics/UserDefinedClasses.html#chp13_points "
   ]
  },
  {
   "cell_type": "markdown",
   "id": "479d7a5e",
   "metadata": {},
   "source": [
    "Here it is again, with code to use the created objects.  Here we show two objects that are not the same:"
   ]
  },
  {
   "cell_type": "code",
   "execution_count": 3,
   "id": "85add66f",
   "metadata": {},
   "outputs": [
    {
     "name": "stdout",
     "output_type": "stream",
     "text": [
      "<__main__.Point object at 0x10373b3d0>\n",
      "<__main__.Point object at 0x10373b550> 4352882000\n",
      "<__main__.Point object at 0x10373b3d0> 4352881616\n",
      "False\n"
     ]
    }
   ],
   "source": [
    "# _17_4_3_chp13_classes2.py (+ mods)\n",
    "\n",
    "class Point:\n",
    "    \"\"\" Point class for representing and manipulating x,y coordinates. \"\"\"\n",
    "\n",
    "    def __init__(self,x=0,y=0):\n",
    "        \"\"\" Create a new point at the origin \"\"\"\n",
    "        self.x = x\n",
    "        self.y = y\n",
    "\n",
    "p = Point()         # Instantiate an object of type Point\n",
    "q = Point()         # and make a second point\n",
    "\n",
    "print(p)\n",
    "\n",
    "# we need to teach Point how to return its str image, instead of this default one\n",
    "#  we also show the id (address) of each object:\n",
    "\n",
    "# => we have two Point objects, each occupying a different place in memory\n",
    "\n",
    "print(q, id(q))\n",
    "print(p, id(p))  \n",
    "\n",
    "# p is not the same object as q:\n",
    "\n",
    "print(p is q)\n"
   ]
  },
  {
   "cell_type": "markdown",
   "id": "c0c9788e",
   "metadata": {},
   "source": [
    "Constructors **initialize** newly-created object instances, typically using the passed parameters:"
   ]
  },
  {
   "cell_type": "code",
   "execution_count": 4,
   "id": "a53e691a",
   "metadata": {},
   "outputs": [],
   "source": [
    "origin = Point(1,-2) # sets origin.x to 1, origin.y to -2"
   ]
  },
  {
   "cell_type": "code",
   "execution_count": 5,
   "id": "2cc8a548",
   "metadata": {},
   "outputs": [
    {
     "data": {
      "text/plain": [
       "-2"
      ]
     },
     "execution_count": 5,
     "metadata": {},
     "output_type": "execute_result"
    }
   ],
   "source": [
    "origin.x\n",
    "origin.y"
   ]
  },
  {
   "cell_type": "markdown",
   "id": "e68948f0",
   "metadata": {},
   "source": [
    "Creating a new object is also called ***instantiating*** an object."
   ]
  },
  {
   "cell_type": "markdown",
   "id": "fea557ca",
   "metadata": {},
   "source": [
    "### 17.5 – Improving Our Constructor\n",
    "\n",
    "By adding parameters to the `Point` constructor, you can initialize the `x` and `y` fields (`Point`'s ***attributes***) to passed arguments.\n",
    "\n",
    "Run in Python Tutor:"
   ]
  },
  {
   "cell_type": "markdown",
   "id": "ab21d2a8",
   "metadata": {},
   "source": [
    "https://runestone.academy/runestone/books/published/thinkcspy/ClassesBasics/ImprovingourConstructor.html#chp13_improveconstructor"
   ]
  },
  {
   "cell_type": "markdown",
   "id": "91b1a27f",
   "metadata": {},
   "source": [
    "Here's a picture representing this example:"
   ]
  },
  {
   "cell_type": "markdown",
   "id": "38c644a9",
   "metadata": {},
   "source": [
    "<img src=\"images/_17_5_2-image.png\" width=\"400\" height=\"400\" align=\"left\"/>"
   ]
  },
  {
   "cell_type": "markdown",
   "id": "f98cca8c",
   "metadata": {},
   "source": [
    "### 17.6 – Adding Other Methods to Our Class\n",
    "\n",
    "Other methods are defined in a similar way: \n",
    "\n",
    "```\n",
    "class Point:    \n",
    "    def get_X(self):        \n",
    "        return self.x\n",
    "```\n",
    "\n",
    "\"Getter\" methods just return the values of an object's fields, without changing an object's state (== values of its fields).\n",
    "\n",
    "```\n",
    "print (my_point.get_X()) # no self in call!\n",
    "```\n",
    "\n",
    "You can also access an object's fields directly through its reference:\n",
    "```\n",
    "print (my_point.x)\n",
    "```\n",
    "\n",
    "Suggestion: access an object's state through getter methods."
   ]
  },
  {
   "cell_type": "code",
   "execution_count": 6,
   "id": "f8b0451f",
   "metadata": {},
   "outputs": [
    {
     "name": "stdout",
     "output_type": "stream",
     "text": [
      "0\n",
      "0\n",
      "0.0\n"
     ]
    }
   ],
   "source": [
    "# _17_6_1_class_chp13_classes4.py\n",
    "\n",
    "class Point:\n",
    "    \"\"\" Point class for representing and manipulating x,y coordinates. \"\"\"\n",
    "\n",
    "    def __init__(self, initX, initY):\n",
    "        \"\"\" Create a new point at the given coordinates. \"\"\"\n",
    "        self.x = initX\n",
    "        self.y = initY\n",
    "\n",
    "    def getX(self):\n",
    "        return self.x\n",
    "\n",
    "    def getY(self):\n",
    "        return self.y\n",
    "\n",
    "    def distanceFromOrigin(self):\n",
    "        return ((self.x ** 2) + (self.y ** 2)) ** 0.5\n",
    "\n",
    "\n",
    "p = Point(0, 0)\n",
    "print(p.getX())\n",
    "print(p.getY())\n",
    "print(p.distanceFromOrigin())"
   ]
  },
  {
   "cell_type": "markdown",
   "id": "b87fddf9",
   "metadata": {},
   "source": [
    "Now we add another method `distanceFromOrigin`:"
   ]
  },
  {
   "cell_type": "code",
   "execution_count": 7,
   "id": "9374a0df",
   "metadata": {
    "scrolled": true
   },
   "outputs": [
    {
     "name": "stdout",
     "output_type": "stream",
     "text": [
      "5.0\n"
     ]
    }
   ],
   "source": [
    "# _17_6_2_chp13_classes5.py\n",
    "\n",
    "#\n",
    "# HTT Ch 16 code example:\n",
    "#\n",
    "# Section 16.6, example 2: chp13_classes5\n",
    "#\n",
    "\n",
    "class Point:\n",
    "    \"\"\" Point class for representing and manipulating x,y coordinates. \"\"\"\n",
    "\n",
    "    def __init__(self, initX, initY):\n",
    "        \"\"\" Create a new point at the given coordinates. \"\"\"\n",
    "        self.x = initX\n",
    "        self.y = initY\n",
    "\n",
    "    def getX(self):\n",
    "        return self.x\n",
    "\n",
    "    def getY(self):\n",
    "        return self.y\n",
    "\n",
    "    def distanceFromOrigin(self):\n",
    "        return ((self.x ** 2) + (self.y ** 2)) ** 0.5\n",
    "\n",
    "\n",
    "p = Point(3, 4)\n",
    "print(p.distanceFromOrigin())"
   ]
  },
  {
   "cell_type": "markdown",
   "id": "d047d655",
   "metadata": {},
   "source": [
    "Notice:  no arguments to `distanceFromOrigin()` - since all needed data is within object."
   ]
  },
  {
   "cell_type": "markdown",
   "id": "cc7002d9",
   "metadata": {},
   "source": [
    "### 17.7 – Objects as Arguments and Parameters\n",
    "\n",
    "You may pass object references as arguments to either a function or a method."
   ]
  },
  {
   "cell_type": "code",
   "execution_count": 8,
   "id": "f037e1e2",
   "metadata": {},
   "outputs": [
    {
     "name": "stdout",
     "output_type": "stream",
     "text": [
      "5.0\n"
     ]
    }
   ],
   "source": [
    "# _17_7_1_chp13_classes6.py\n",
    "\n",
    "#\n",
    "# HTT Ch 17 code example:\n",
    "#\n",
    "# Section 17.7, example 1: chp13_classes6\n",
    "#\n",
    "\n",
    "import math\n",
    "\n",
    "class Point:\n",
    "    \"\"\" Point class for representing and manipulating x,y coordinates. \"\"\"\n",
    "\n",
    "    def __init__(self, initX, initY):\n",
    "        \"\"\" Create a new point at the given coordinates. \"\"\"\n",
    "        self.x = initX\n",
    "        self.y = initY\n",
    "    \n",
    "    def getX(self):\n",
    "        return self.x\n",
    "\n",
    "    def getY(self):\n",
    "        return self.y\n",
    "\n",
    "    def distanceFromOrigin(self):\n",
    "        \n",
    "        return ((self.x ** 2) + (self.y ** 2)) ** 0.5\n",
    "    \n",
    "def distance(point1, point2):\n",
    "    xdiff = point2.getX() - point1.getX()\n",
    "    ydiff = point2.getY() - point1.getY()\n",
    "\n",
    "    dist = math.sqrt(xdiff**2 + ydiff**2)\n",
    "    return dist\n",
    "\n",
    "p = Point(4, 3)\n",
    "q = Point(0, 0)\n",
    "print(distance(p, q))"
   ]
  },
  {
   "cell_type": "markdown",
   "id": "0e0c78ab",
   "metadata": {},
   "source": [
    "Note that `distance(point1,point2)` is defined in the above, but is ___not___ a method with the `Point` class.\n",
    "\n",
    "You can still define functions that are ___NOT___ declared within class body:"
   ]
  },
  {
   "cell_type": "markdown",
   "id": "4663e471",
   "metadata": {},
   "source": [
    "We can also add new methods to a class as needed:"
   ]
  },
  {
   "cell_type": "code",
   "execution_count": 9,
   "id": "c563ba94",
   "metadata": {},
   "outputs": [
    {
     "name": "stdout",
     "output_type": "stream",
     "text": [
      "5.0\n"
     ]
    },
    {
     "data": {
      "text/plain": [
       "<__main__.Point at 0x1036758e0>"
      ]
     },
     "execution_count": 9,
     "metadata": {},
     "output_type": "execute_result"
    }
   ],
   "source": [
    "class Point:\n",
    "    \"\"\" Point class for representing and manipulating x,y coordinates. \"\"\"\n",
    "\n",
    "    def __init__(self, initX, initY):\n",
    "        \"\"\" Create a new point at the given coordinates. \"\"\"\n",
    "        self.x = initX\n",
    "        self.y = initY\n",
    "\n",
    "    def getX(self):\n",
    "        return self.x\n",
    "\n",
    "    def getY(self):\n",
    "        return self.y\n",
    "\n",
    "    def distanceFromOrigin(self):\n",
    "        return ((self.x ** 2) + (self.y ** 2)) ** 0.5\n",
    " \n",
    "# add new method   \n",
    "    def midpoint(self,p):    \n",
    "        new_point = Point((self.x+p.x)/2,(self.y+p.y)/2)\n",
    "        return new_point\n",
    "    \n",
    "# a function NOT within class\n",
    "def distance(point1, point2):\n",
    "    xdiff = point2.getX() - point1.getX()\n",
    "    ydiff = point2.getY() - point1.getY()\n",
    "\n",
    "    dist = math.sqrt(xdiff**2 + ydiff**2)\n",
    "    return dist\n",
    "\n",
    "p = Point(4, 3)\n",
    "q = Point(0, 0)\n",
    "print(distance(p, q))\n",
    "\n",
    "point_1 = Point(0.0,47.0)\n",
    "point_2 = Point(47.0,0.0)\n",
    "mid_point = point_1.midpoint(point_2)\n",
    "mid_point"
   ]
  },
  {
   "cell_type": "markdown",
   "id": "28cd6e40",
   "metadata": {},
   "source": [
    "A function or method may also create and return a new object – as the above example illustrates."
   ]
  },
  {
   "cell_type": "markdown",
   "id": "6dda457b",
   "metadata": {},
   "source": [
    "### 17.8 – Converting an Object to a String\n",
    "\n",
    "Declare a `__str__(self)` method (\"dunder str\") for converting an object to a string:\n",
    "\n",
    "`class Point:    \n",
    "    def __str__(self):    \n",
    "        return \"x=\" + str(self.x) + \", y=\" + str(self.y) `\n",
    "\n",
    "Build a string that describes the state of the object and return it."
   ]
  },
  {
   "cell_type": "markdown",
   "id": "009da10a",
   "metadata": {},
   "source": [
    "Here is previous code with `__str__()` defined:"
   ]
  },
  {
   "cell_type": "code",
   "execution_count": 10,
   "id": "8d78bfc2",
   "metadata": {},
   "outputs": [
    {
     "name": "stdout",
     "output_type": "stream",
     "text": [
      "p is: x=4, y=3\n",
      "q is: x=0, y=0\n",
      "distance between p and q is: 5.0\n",
      "point_1 is: x=0.0, y=47.0\n",
      "point_2 is: x=47.0, y=0.0\n",
      "midpoint between point_1 and point_2 is: x=23.5, y=23.5\n"
     ]
    }
   ],
   "source": [
    "# previous example + __str__() defined (_17_8_2_chp13_classesstr2.py code)\n",
    "\n",
    "import math\n",
    "class Point:\n",
    "    \"\"\" Point class for representing and manipulating x,y coordinates. \"\"\"\n",
    "\n",
    "    def __init__(self, initX, initY):\n",
    "        \"\"\" Create a new point at the given coordinates. \"\"\"\n",
    "        self.x = initX\n",
    "        self.y = initY\n",
    "\n",
    "    def getX(self):\n",
    "        return self.x\n",
    "\n",
    "    def getY(self):\n",
    "        return self.y\n",
    "\n",
    "    def distanceFromOrigin(self):\n",
    "        return ((self.x ** 2) + (self.y ** 2)) ** 0.5\n",
    " \n",
    "    def midpoint(self,p):    \n",
    "        new_point = Point((self.x+p.x)/2,(self.y+p.y)/2)\n",
    "        return new_point\n",
    "    \n",
    "    def __str__(self): # \"dunder str\" defined\n",
    "        return \"x=\" + str(self.x) + \", y=\" + str(self.y)\n",
    "    \n",
    "# a function NOT within class\n",
    "def distance(point1, point2):\n",
    "    xdiff = point2.getX() - point1.getX()\n",
    "    ydiff = point2.getY() - point1.getY()\n",
    "\n",
    "    dist = math.sqrt(xdiff**2 + ydiff**2)\n",
    "    return dist\n",
    "\n",
    "p = Point(4, 3)\n",
    "q = Point(0, 0)\n",
    "print (\"p is:\",p)\n",
    "print (\"q is:\",q)\n",
    "print(\"distance between p and q is:\",distance(p, q))\n",
    "\n",
    "point_1 = Point(0.0,47.0)\n",
    "point_2 = Point(47.0,0.0)\n",
    "mid_point = point_1.midpoint(point_2)\n",
    "print (\"point_1 is:\",str(point_1))\n",
    "print (\"point_2 is:\",point_2)\n",
    "print (\"midpoint between point_1 and point_2 is:\", mid_point)"
   ]
  },
  {
   "cell_type": "markdown",
   "id": "ae97b50f",
   "metadata": {},
   "source": [
    "Invoke your \"dunder-str\" method using `str(..)`"
   ]
  },
  {
   "cell_type": "code",
   "execution_count": 11,
   "id": "2f84c072",
   "metadata": {},
   "outputs": [
    {
     "name": "stdout",
     "output_type": "stream",
     "text": [
      "x=0, y=0\n"
     ]
    }
   ],
   "source": [
    "p = Point(0,0)\n",
    "print(str(p)) # same as print(p.__str__())"
   ]
  },
  {
   "cell_type": "markdown",
   "id": "da16f665",
   "metadata": {},
   "source": [
    "If you print the object reference `p`, `str(p`) is invoked **automatically**:\n",
    "    \n",
    "    print(p) # same as print(str(p))"
   ]
  },
  {
   "cell_type": "markdown",
   "id": "3ea1ee4f",
   "metadata": {},
   "source": [
    "### 17.9 – Instances as Return Values\n",
    "\n",
    "As shown earlier in 17.7, a function or a method may return an object reference (\"return an object\"):\n",
    "\n",
    "**Note**: `halfway()` is same method as earlier `midpoint()`"
   ]
  },
  {
   "cell_type": "code",
   "execution_count": 12,
   "id": "b29dcacb",
   "metadata": {},
   "outputs": [
    {
     "name": "stdout",
     "output_type": "stream",
     "text": [
      "x=4.0, y=8.0\n",
      "4.0\n",
      "8.0\n"
     ]
    }
   ],
   "source": [
    "class Point:\n",
    "\n",
    "    def __init__(self, initX, initY):\n",
    "        \"\"\" Create a new point at the given coordinates. \"\"\"\n",
    "        self.x = initX\n",
    "        self.y = initY\n",
    "\n",
    "    def getX(self):\n",
    "        return self.x\n",
    "\n",
    "    def getY(self):\n",
    "        return self.y\n",
    "\n",
    "    def distanceFromOrigin(self):\n",
    "        return ((self.x ** 2) + (self.y ** 2)) ** 0.5\n",
    "\n",
    "    def __str__(self):\n",
    "        return \"x=\" + str(self.x) + \", y=\" + str(self.y)\n",
    "\n",
    "    def halfway(self, target): # same functionality as earlier midpoint()\n",
    "         mx = (self.x + target.x) / 2\n",
    "         my = (self.y + target.y) / 2\n",
    "         return Point(mx, my)\n",
    "\n",
    "p = Point(3, 4)\n",
    "q = Point(5, 12)\n",
    "mid = p.halfway(q)\n",
    "\n",
    "print(mid)\n",
    "print(mid.getX())\n",
    "print(mid.getY())"
   ]
  },
  {
   "cell_type": "markdown",
   "id": "b872834e",
   "metadata": {},
   "source": [
    "### 17.10 – Glossary\n",
    "\n",
    "Know these!\n",
    "\n",
    "***attribute***\n",
    "\n",
    "One of the named data items that makes up an instance.\n",
    "\n",
    "***class***\n",
    "\n",
    "A class can be thought of as a template for the objects that are instances of it. It defines a data type. A class can be provided by the Python system or be user-defined.\n",
    "\n",
    "***constructor***\n",
    "\n",
    "Every class has a “factory”, called by the same name as the class, for making new instances. If the class has an initializer method, this method is used to get the attributes (i.e. the state) of the new object properly set up.\n",
    "\n",
    "***initializer method***\n",
    "\n",
    "A special method in Python (called `__init__`) that is invoked automatically to set a newly-created object’s attributes to their initial (factory-default) state.\n",
    "\n",
    "***instance***\n",
    "\n",
    "An object whose type is of some class. Instance and object are used interchangeably.\n",
    "\n",
    "***instantiate***\n",
    "\n",
    "To create an instance of a class, and to run its initializer.\n",
    "\n",
    "***method***\n",
    "\n",
    "A function that is defined inside a class definition and is invoked on instances of that class.\n",
    "\n",
    "***object***\n",
    "\n",
    "A compound form of data that is often used to model a thing or concept in the real world. It bundles together the data and the operations that are relevant for that thing or concept. It has the type of its defining class. Instance and object are used interchangeably.\n",
    "\n",
    "***object-oriented programming***\n",
    "\n",
    "A powerful style of programming in which data and the operations that manipulate it are organized into classes and methods.\n",
    "\n",
    "***object-oriented language***\n",
    "\n",
    "A language that provides features, such as user-defined classes and inheritance, that facilitate object-oriented programming.\n"
   ]
  }
 ],
 "metadata": {
  "kernelspec": {
   "display_name": "Python 3 (ipykernel)",
   "language": "python",
   "name": "python3"
  },
  "language_info": {
   "codemirror_mode": {
    "name": "ipython",
    "version": 3
   },
   "file_extension": ".py",
   "mimetype": "text/x-python",
   "name": "python",
   "nbconvert_exporter": "python",
   "pygments_lexer": "ipython3",
   "version": "3.9.15"
  }
 },
 "nbformat": 4,
 "nbformat_minor": 5
}
