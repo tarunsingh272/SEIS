{
 "cells": [
  {
   "cell_type": "markdown",
   "id": "47ca5c95",
   "metadata": {},
   "source": [
    "## HTTP Chapter 19: Inheritance\n",
    "\n",
    "based on \"How to Think Like a Computer Scientist in Python\":\n",
    "\n",
    "https://runestone.academy/runestone/books/published/thinkcspy/Inheritance/toctree.html\n",
    "\n",
    "Summaries and this notebook by:\n",
    "\n",
    "Eric V. Level  \n",
    "Graduate Programs in Software  \n",
    "University of St. Thomas, St. Paul, MN  \n"
   ]
  },
  {
   "cell_type": "markdown",
   "id": "27e94b4d",
   "metadata": {},
   "source": [
    "### 19.1 Pillars of OOP"
   ]
  },
  {
   "cell_type": "markdown",
   "id": "bfb33605",
   "metadata": {},
   "source": [
    "Object-oriented programming involves four key ideas: encapsulation, information hiding, inheritance, and polymorphism. Encapsulation is the idea that a class can package some data together with the methods that manipulate the data. This is a powerful capability, and the chief idea that distinguishes OOP from structured programming. Information Hiding promotes quality code by allowing objects to protect their state against direct manipulation by code using the object. Python, like many languages, provides mechanisms to achieve information hiding, but we do not cover them in this book. Inheritance and polymorphism are mechanisms that help to enable code reuse and contract-based programming, and are the subject of this chapter.\n"
   ]
  },
  {
   "cell_type": "markdown",
   "id": "0d086be2",
   "metadata": {},
   "source": [
    "Four key OOP concepts:\n",
    "    \n",
    "**Encapsulation**  \n",
    "**Information Hiding**  \n",
    "**Inheritance**  \n",
    "**Polymorphism**  "
   ]
  },
  {
   "cell_type": "markdown",
   "id": "cea94418",
   "metadata": {},
   "source": [
    "***Encapsulation***: objects combine data with methods that manipulate the data"
   ]
  },
  {
   "cell_type": "markdown",
   "id": "813d1aac",
   "metadata": {},
   "source": [
    "### 19.2 Introduction to Inheritance"
   ]
  },
  {
   "cell_type": "markdown",
   "id": "af34ecdc",
   "metadata": {},
   "source": [
    "Recall the `Point` class from earlier in the book:"
   ]
  },
  {
   "cell_type": "code",
   "execution_count": 1,
   "id": "7126dbb7",
   "metadata": {},
   "outputs": [
    {
     "name": "stdout",
     "output_type": "stream",
     "text": [
      "x=7, y=6\n"
     ]
    }
   ],
   "source": [
    "# _19_2_1_pointclass_1.py\n",
    "\n",
    "class Point:\n",
    "\n",
    "    def __init__(self, initX, initY):\n",
    "        self.x = initX\n",
    "        self.y = initY\n",
    "\n",
    "    def distanceFromOrigin(self):\n",
    "        return ((self.x ** 2) + (self.y ** 2)) ** 0.5\n",
    "\n",
    "    def __str__(self):\n",
    "        return \"x=\" + str(self.x) + \", y=\" + str(self.y)\n",
    "\n",
    "p = Point(7, 6)\n",
    "print(p)\n"
   ]
  },
  {
   "cell_type": "markdown",
   "id": "3e21ccb8",
   "metadata": {},
   "source": [
    "Now, suppose we want to create a class that works like `Point` in every respect, but also keeps track of a short description for the point. We could create a `LabeledPoint` class by copying and pasting the definition for `Point`, changing the name to `LabeledPoint`, and modifying the class to suit our purposes. However, any time you copy and paste code, keep in mind that you are copying and pasting bugs that may exist in the code. Inheritance provides a way to reuse the definition of `Point` without having to copy and paste.\n",
    "\n",
    "We begin like this:"
   ]
  },
  {
   "cell_type": "code",
   "execution_count": 2,
   "id": "8363b66a",
   "metadata": {},
   "outputs": [],
   "source": [
    "# _19_2_2_labeledpoint.py\n",
    "\n",
    "class LabeledPoint(Point):\n",
    "    pass\n"
   ]
  },
  {
   "cell_type": "markdown",
   "id": "3f1649bc",
   "metadata": {},
   "source": [
    "This example defines a class named `LabeledPoint` that inherits from the `Point` class. Putting the name `Point` in parenthesis tells Python that the new class, `LabeledPoint`, begins with all of the methods defined in its parent, `Point`. For example, we can instantiate `LabeledPoint` using the `Point` constructor, and invoke any `Point` methds we want to on it:\n",
    "\n",
    "```\n",
    "p = LabeledPoint(7,6)  \n",
    "dist = p.distanceFromOrigin()  \n",
    "```\n",
    "\n",
    "Now, let’s refine `LabeledPoint` so that it holds a label, along with the `x` and `y` coordinates:"
   ]
  },
  {
   "cell_type": "code",
   "execution_count": 3,
   "id": "80fe7413",
   "metadata": {},
   "outputs": [
    {
     "name": "stdout",
     "output_type": "stream",
     "text": [
      "x=7, y=6 (Here)\n"
     ]
    }
   ],
   "source": [
    "# _19_2_3_labeledpoint_2.py\n",
    "\n",
    "class LabeledPoint(Point):\n",
    "\n",
    "    def __init__(self, initX, initY, label):\n",
    "        self.x = initX\n",
    "        self.y = initY\n",
    "        self.label = label\n",
    "\n",
    "    def __str__(self):\n",
    "        return \"x=\" + str(self.x) + \", y=\" + str(self.y) + \" (\" + self.label + \")\"\n",
    "\n",
    "labeledPt = LabeledPoint(7,6,\"Here\")\n",
    "print(labeledPt)\n"
   ]
  },
  {
   "cell_type": "markdown",
   "id": "bcc7cddc",
   "metadata": {},
   "source": [
    "Here, we have redefined two of the methods that `LabeledPoint` inherits from `Point`: `__init__()` and `__str__()`. This is called ***overriding***. When a child class redefines methods that are defined in its parent, we say that the child overrides the functionality inherited from its parent. When both the parent class and child class have a method with the same name, an invocation of the method on an instance of the child class executes code in the child’s class; an invocation of the method on an instance of the parent class executes code in the parent’s class. For example, consider the following:"
   ]
  },
  {
   "cell_type": "code",
   "execution_count": 4,
   "id": "9bd9dbe9",
   "metadata": {},
   "outputs": [
    {
     "name": "stdout",
     "output_type": "stream",
     "text": [
      "x=5, y=10\n",
      "x=7, y=6 (Here)\n",
      "x=5, y=10\n",
      "x=7, y=6 (Here)\n"
     ]
    }
   ],
   "source": [
    "# _19_2_4_combinedpts.py\n",
    "\n",
    "pt = Point(5,10)\n",
    "print (pt)\n",
    "\n",
    "labeledPt = LabeledPoint(7, 6, \"Here\")\n",
    "print (labeledPt)\n",
    "\n",
    "ptStr = str(pt)\n",
    "print (ptStr)\n",
    "\n",
    "labeledPtStr = str(labeledPt)\n",
    "print(labeledPtStr)\n"
   ]
  },
  {
   "cell_type": "markdown",
   "id": "c9768836",
   "metadata": {},
   "source": [
    "In Line 4, the call to `str(pt)` invokes the `__str__()` method in `Point`, because `pt` refers to an instance of `Point`. In Line 5, the call to `str(labeledPt)` invokes the `__str__()` method in `LabeledPoint`, because `labeledPt` refers to an instance of `LabeledPoint`."
   ]
  },
  {
   "cell_type": "markdown",
   "id": "e7da2ebb",
   "metadata": {},
   "source": [
    "### 19.3 Extending"
   ]
  },
  {
   "cell_type": "markdown",
   "id": "b85e554e",
   "metadata": {},
   "source": [
    "If you compare the code in the `__init__` methods of `Point` and `LabeledPoint`, you can see that there is some duplication–the initialization of `x` and `y`. We can eliminate the duplication by having `LabeledPoint`’s `__init__()` method invoke `Point`’s `__init__()` method. That way, each class will be responsible for initializing its own instance variables.\n",
    "\n",
    "A method in a child class that overrides a method in the parent can invoke the overridden method using `super()`, like this:\n",
    "\n",
    "```\n",
    " class LabeledPoint(Point):\n",
    "\n",
    "     def __init__(self, initX, initY, label):\n",
    "\n",
    "         super().__init__(initX, initY)\n",
    "\n",
    "         self.label = label\n",
    "```\n",
    "\n",
    "In this example, line 4 invokes the `__init__()` method in `Point`, passing the values of `initX` and `initY` to be used in initializing the `x` and `y` instance variables.\n",
    "\n",
    "Here is a complete code listing showing both classes, with a version of `__str__()` for `LabeledPoint` that invokes its parent’s implementation using `super()` to avoid duplicating the functionality provided in `Point`."
   ]
  },
  {
   "cell_type": "code",
   "execution_count": 5,
   "id": "eb5450e9",
   "metadata": {},
   "outputs": [
    {
     "name": "stdout",
     "output_type": "stream",
     "text": [
      "x=7, y=6 (Here)\n",
      "9.219544457292887\n"
     ]
    }
   ],
   "source": [
    "# _19_3_1_combined_pts_1.py\n",
    "\n",
    "class Point:\n",
    "\n",
    "    def __init__(self, initX, initY):\n",
    "        self.x = initX\n",
    "        self.y = initY\n",
    "\n",
    "    def distanceFromOrigin(self):\n",
    "        return ((self.x ** 2) + (self.y ** 2)) ** 0.5\n",
    "\n",
    "    def __str__(self):\n",
    "        return \"x=\" + str(self.x) + \", y=\" + str(self.y)\n",
    "\n",
    "class LabeledPoint(Point):\n",
    "\n",
    "    def __init__(self, initX, initY, label):\n",
    "        super().__init__(initX, initY)\n",
    "        self.label = label\n",
    "\n",
    "    def __str__(self):\n",
    "        return super().__str__() + \" (\" + self.label + \")\"\n",
    "\n",
    "p = LabeledPoint(7,6,\"Here\")\n",
    "print(p)\n",
    "print(p.distanceFromOrigin())\n"
   ]
  },
  {
   "cell_type": "code",
   "execution_count": null,
   "id": "3fce82fc",
   "metadata": {},
   "outputs": [],
   "source": []
  },
  {
   "cell_type": "markdown",
   "id": "70c2e4c9",
   "metadata": {},
   "source": [
    "### 19.4 Reuse Through Composition"
   ]
  },
  {
   "cell_type": "markdown",
   "id": "561eec0f",
   "metadata": {},
   "source": [
    "Inheritance is not the only way to reuse code. Composition occurs when an object stores a reference to one or more objects in one of its instance variables. The object is thus able to reuse code in the objects it embeds within itself.\n",
    "\n",
    "For example, our `LabeledPoint` example could have been implemented as follows:"
   ]
  },
  {
   "cell_type": "code",
   "execution_count": 6,
   "id": "e2c6dde3",
   "metadata": {},
   "outputs": [
    {
     "name": "stdout",
     "output_type": "stream",
     "text": [
      "x=7, y=6 (Here)\n",
      "9.219544457292887\n"
     ]
    }
   ],
   "source": [
    "# _19_4_1_pt_composition_1.py\n",
    "\n",
    "class Point:\n",
    "\n",
    "    def __init__(self, initX, initY):\n",
    "        self.x = initX\n",
    "        self.y = initY\n",
    "\n",
    "    def distanceFromOrigin(self):\n",
    "        return ((self.x ** 2) + (self.y ** 2)) ** 0.5\n",
    "\n",
    "    def __str__(self):\n",
    "        return \"x=\" + str(self.x) + \", y=\" + str(self.y)\n",
    "\n",
    "class LabeledPoint:\n",
    "\n",
    "    def __init__(self, initX, initY, label):\n",
    "        self.point = Point(initX, initY)\n",
    "        self.label = label\n",
    "\n",
    "    def distanceFromOrigin(self):\n",
    "        return self.point.distanceFromOrigin()\n",
    "\n",
    "    def __str__(self):\n",
    "        return str(self.point) + \" (\" + self.label + \")\"\n",
    "\n",
    "p = LabeledPoint(7,6,\"Here\")\n",
    "print(p)\n",
    "print(p.distanceFromOrigin())\n"
   ]
  },
  {
   "cell_type": "markdown",
   "id": "80359dbf",
   "metadata": {},
   "source": [
    "The first thing to notice about this version of `LabeledPoint` is that it does not inherit from `Point`. Instead, its constructor instantiates a `Point` and stores a reference to it in its point instance variable so that it can be used by the other methods.\n",
    "\n",
    "Next, notice how the `distanceFromOrigin()` method reuses the code in `Point` by invoking it. We say that `LabeledPoint`’s `distanceFromOrigin()` delegates its implementation to `Point`’s implementation.\n",
    "\n",
    "Finally, notice how the `__str__()` method also reuses the code in `Point` by calling `str(self.point)`."
   ]
  },
  {
   "cell_type": "markdown",
   "id": "81bd7d55",
   "metadata": {},
   "source": [
    "### 19.5 Class Diagrams!"
   ]
  },
  {
   "attachments": {
    "_19_5_1-image.png": {
     "image/png": "[encoded data removed]"
    }
   },
   "cell_type": "markdown",
   "id": "3585b40a",
   "metadata": {},
   "source": [
    "![_19_5_1-image.png](attachment:_19_5_1-image.png)"
   ]
  },
  {
   "attachments": {
    "_19_5_2-image.png": {
     "image/png": "[encoded data removed]"
    }
   },
   "cell_type": "markdown",
   "id": "897ae109",
   "metadata": {},
   "source": [
    "![_19_5_2-image.png](attachment:_19_5_2-image.png)"
   ]
  },
  {
   "cell_type": "markdown",
   "id": "0ea06118",
   "metadata": {},
   "source": [
    "### 19.6 - Composition vs. Inheritance"
   ]
  },
  {
   "cell_type": "markdown",
   "id": "35a91137",
   "metadata": {},
   "source": [
    "Now you have seen two ways for a class to reuse code in another class. So, is one better than the other? When do you use inheritance, and when is composition the better choice?\n",
    "\n",
    "Although the subject of this chapter is inheritance, the truth is that composition is usually a better choice than inheritance to reuse code. Perhaps 95% of cases where you are debating about choosing inheritance or composition, you should choose composition. It’s hard to go wrong with composition, but you can get into all kinds of trouble if you go with inheritance and inheritance is not an appropriate choice.\n",
    "\n",
    "So, it’s easier to address the question of which technique to use by defining when inheritance is an appropriate choice. Inheritance is appropriate when the proposed child class (the one reusing the functionality in its parent) represents a specialization of its parent. Class A is a specialization of Class B if class A represents a specific type of class B. This is generally the case if you can fill in the following sentence with the names of the proposed child and parent classes:\n",
    "\n",
    "**(child class) is a type of (parent class)**\n",
    "\n",
    "Let’s try some examples. Using the `LabeledPoint` example from the previous section: “`LabeledPoint` is a type of `Point`.” Since a `LabeledPoint` is a specific type of `Point` – a `Point` that has a label – that sentence makes sense. `LabeledPoint` is a specialization of `Point`, and inheritance is an appropriate choice.\n",
    "\n",
    "Now, suppose you wanted to define a class that represents a rectangle. Like a `Point`, a `Rectangle` would need to keep track of an `x` and `y` location to determine its position, and might also have a width and a height. You’re thinking about defining `Rectangle` to inherit from `Point`, so that it reuses all of `Point`’s functionality (like knowing its position and calculating its distance from origin), and adding just the two new instance variables it needs for its width and height. From a pure code reuse standpoint, inheritance seems plausible. But wait–let’s apply the “is-a” linguistic test. Filling in the blanks in the sentence template above, we get: “`Rectangle` is a type of `Point`.” Most people would feel there is something wrong with that statement. A rectangle is not a more specific type of a point. A rectangle contains points and consists of points, but is not itself a point. Thus, it fails the linguistic test; composition is the better choice here.\n",
    "\n",
    "So what happens if you decide to ignore the linguistic test and go ahead and make `Rectangle` inherit from `Point`? In some cases, you won’t run into trouble right away. Often, the difficulties don’t start to crop up until later, when you decide to add more methods to `Point` (the parent) that aren’t appropriate for `Rectangle` (the child). This leads to a program that is confusing to understand and contains bugs that occur when methods intended for `Point` are invoked on `Rectangle` instances by mistake. Also, since inheritance is the strongest form of relationship between classes, changes to code in a parent class have a stronger likelihood of breaking code in its children than would tend to occur if composition were used.\n",
    "\n",
    "Inheritance is a powerful feature and, when used appropriately, a terrific way to reuse code. But, like most power tools, it can cut you up pretty badly if you don’t know what you are doing. Use it with caution and respect."
   ]
  },
  {
   "cell_type": "markdown",
   "id": "8a8d5cae",
   "metadata": {},
   "source": [
    "### 19.7 - Case Study: Structured Postal Addresses"
   ]
  },
  {
   "cell_type": "markdown",
   "id": "0c876a47",
   "metadata": {},
   "source": [
    "Postal addresses are interesting things. Every country has its own format for postal addresses, and sometimes one country can have multiple address formats.\n",
    "\n",
    "Postal addresses generally consist of a few standard elements: the recipient name; street address; city or locality; state or province; and a postal code. However, other elements are often included, such as neighborhood, district, post office identifier, and so on. For example, the following is\n",
    "\n",
    "    Mr. Abe Jones\n",
    "    Acme Corporation\n",
    "    123 Somewhere Ln\n",
    "    Greenville, SC 29609\n",
    "    USA\n",
    "\n",
    "This same address would be written as follows for delivery to the Netherlands (in the example, the street, city, and state are unchanged, even though they do not exist in the Netherlands):\n",
    "\n",
    "    Acme Corporation\n",
    "    Mr. Abe Jones\n",
    "    Somewhere Ln 123\n",
    "    29609 SC Greenville\n",
    "    NETHERLANDS\n",
    "\n",
    "Addresses in Ireland are complex, having up to 12 parts (such as building name and number, primary and secondary thoroughfare, primary and secondary locality, town, county, …) plus an Eircode, a unique identifier assigned to each of the ~2 million addresses in Ireland. For example, Abe might live at the following address (English translation is given in parentheses, and would be omitted):\n",
    "\n",
    "    Abe Jones\n",
    "    Cnoc na Sceiche (The Hill of the Thorn)\n",
    "    Leac an Anfa (The Flagstone of the Storm)\n",
    "    Cathair na Mart (The City of the Beeves)\n",
    "    Co. Mhaigh Eo (The County of the Plain of the Yews)\n",
    "    A65 F4E2\n",
    "    IRELAND\n",
    "\n",
    "(One would think that since each address has its own unique Eircode, it ought to be possible to address mail to Abe Jones, A65 F4E2, IRELAND. On second thought, perhaps that is not such a great idea. Can you imagine the practical concerns with such a scheme?)"
   ]
  },
  {
   "cell_type": "markdown",
   "id": "4569dea4",
   "metadata": {},
   "source": [
    "#### 19.7.1 - Storing Postal Addresses"
   ]
  },
  {
   "cell_type": "markdown",
   "id": "380d9b60",
   "metadata": {},
   "source": [
    "Suppose we want to write a contact management application. Among other things, the application stores names and addresses. What would be the best way to design a class that holds the information for an address? One approach would be to store the parts of the address that are consistent, such as the recipient name and the country, in instance variables, and store the rest of the address as a list of address lines:"
   ]
  },
  {
   "cell_type": "code",
   "execution_count": 7,
   "id": "71e1587d",
   "metadata": {},
   "outputs": [
    {
     "name": "stdout",
     "output_type": "stream",
     "text": [
      "<__main__.Address object at 0x1042d9940>\n"
     ]
    }
   ],
   "source": [
    "# _19_7_1_address_class_1.py\n",
    "\n",
    "class Address:\n",
    "    def __init__(self, recipient, addressLines, country):\n",
    "        self.country = country\n",
    "        self.recipient = recipient\n",
    "        self.addressLines = addressLines\n",
    "\n",
    "\n",
    "addr = Address('Abe Jones', ['123 Somewhere Ln', 'Greenville, SC  29609'], 'USA')\n",
    "print(addr)\n"
   ]
  },
  {
   "cell_type": "markdown",
   "id": "64a01ed1",
   "metadata": {},
   "source": [
    "This approach treats an address as a collection of unstructured bits of information. If we want to look up an address, we can search by full name or country, but if we want to find all addresses in Greenville, or all addresses in zip code 29609, we can’t do it very easily, since information such as city and zip code is mashed together in an unstructured address line along with the state abbreviation.\n",
    "\n",
    "An approach that stores addresses as structured pieces of information might look like this:"
   ]
  },
  {
   "cell_type": "code",
   "execution_count": 8,
   "id": "332c6dc5",
   "metadata": {},
   "outputs": [
    {
     "name": "stdout",
     "output_type": "stream",
     "text": [
      "Abe Jones\n",
      "103 Anywhere Ln\n",
      "Greenville, SC  29609\n",
      "USA\n"
     ]
    }
   ],
   "source": [
    "# _19_7_1_2_structured_addr_1\n",
    "\n",
    "class StructuredAddress:\n",
    "    def __init__(self, country, recipient, street, city, state, postalCode):\n",
    "        self.country = country\n",
    "        self.recipient = recipient\n",
    "        self.street = street\n",
    "        self.city = city\n",
    "        self.state = state\n",
    "        self.postalCode = postalCode\n",
    "\n",
    "    def display(self):\n",
    "        print(self.recipient)\n",
    "        print(self.street)\n",
    "        print(self.city + \", \" + self.state + \"  \" + self.postalCode)\n",
    "        print(self.country)\n",
    "\n",
    "addr = StructuredAddress('USA', 'Abe Jones', '103 Anywhere Ln',\n",
    "               'Greenville', 'SC', '29609')\n",
    "addr.display()\n"
   ]
  },
  {
   "cell_type": "markdown",
   "id": "9bc55c2c",
   "metadata": {},
   "source": [
    "Now, if we have a list of `StructuredAddress` objects and we want to find all of the ones that hold addresses in Greenville, we can do it much more easily:\n",
    "\n",
    "`for addr in addrList:\n",
    "    if addr.city == 'Greenville':\n",
    "        addr.display()\n",
    "`\n"
   ]
  },
  {
   "cell_type": "markdown",
   "id": "9d87ccda",
   "metadata": {},
   "source": [
    "#### 19.7.2 - Storing International Addresses"
   ]
  },
  {
   "cell_type": "markdown",
   "id": "39f0d8ee",
   "metadata": {},
   "source": [
    "But now we have another problem. Our `StructuredAddress` works fine for U.S. addresses, but not for those of other countries. Suppose we want to handle Irish and Italian addresses. We might enhance the display() method to handle these with appropriate logic:\n",
    "\n",
    "```\n",
    "    def display(self):\n",
    "        print(self.recipient)\n",
    "\n",
    "        if self.country == 'USA':\n",
    "            print(self.street)\n",
    "            print(self.city + \", \" + self.state + \"  \" + self.postalCode)\n",
    "        elif self.country == 'IRELAND':\n",
    "            print(self.postalCode)\n",
    "        elif self.country == 'ITALY':\n",
    "            print(self.street)\n",
    "            print(self.postalCode + ' ' + self.city + ' ' + self.state)\n",
    "        else:\n",
    "            pass\n",
    "\n",
    "        print(self.country)\n",
    "```\n",
    "\n",
    "This example works for Italian addresses because they conveniently have the same elements as U.S. addresses (just displayed in a slightly different order). For Irish addresses, we ignore the complicated address format and assume that the Irish post office will get mail to the recipient because of Ireland’s unique Eircode scheme. But what if we wanted to include the additional elements of Irish addresses? We might create additional instance variables for those elements in our `StructuredAddress` class. However, you can probably see that approach will quickly become unwieldy."
   ]
  },
  {
   "cell_type": "markdown",
   "id": "e67d7b10",
   "metadata": {},
   "source": [
    "#### 19.7.3 - Inheritance Applied"
   ]
  },
  {
   "cell_type": "markdown",
   "id": "674a8349",
   "metadata": {},
   "source": [
    "Let’s apply inheritance to the problem of managing structured postal addresses. We will define a base class that contains the attributes in common to all postal addresses: recipient and country."
   ]
  },
  {
   "cell_type": "code",
   "execution_count": 9,
   "id": "bc7607dd",
   "metadata": {},
   "outputs": [],
   "source": [
    "# _19_7_3_1_base_postal.py\n",
    "\n",
    "class BasePostalAddress:\n",
    "    def __init__(self, country, recipient):\n",
    "        self.country = country\n",
    "        self.recipient = recipient\n",
    "\n",
    "    def display(self):\n",
    "        print(self.recipient)\n",
    "        print(self.country)\n",
    "\n",
    "    def validate(self):\n",
    "        return self.recipient != '' and self.country != ''\n"
   ]
  },
  {
   "cell_type": "markdown",
   "id": "08333d32",
   "metadata": {},
   "source": [
    "This class isn’t very useful by itself; relatively few people in the world could receive mail addressed to them using only their name and country. But it does establish two methods to perform functionality we want all addresses to perform: display themselves, and check whether the required information is present and of an appropriate length.\n",
    "\n",
    "Next, we build on `BasePostalAddress` by creating a separate class for each country that inherits from it:"
   ]
  },
  {
   "cell_type": "code",
   "execution_count": 10,
   "id": "66db434b",
   "metadata": {},
   "outputs": [],
   "source": [
    "# _19_7_3_2_international_postal.py\n",
    "\n",
    "class IrishPostalAddress(BasePostalAddress):\n",
    "    def __init__(self, recipient, postalCode):\n",
    "        super().__init__(\"IRELAND\", recipient)\n",
    "        self.postalCode = postalCode\n",
    "\n",
    "    def display(self):\n",
    "        print(self.recipient)\n",
    "        print(self.postalCode)\n",
    "        print(self.country)\n",
    "\n",
    "    def validate(self):\n",
    "        return super().validate() and len(self.postalCode) == 7\n",
    "\n",
    "class USPostalAddress(BasePostalAddress):\n",
    "    def __init__(self, recipient, street, city, state, zipcode):\n",
    "        super().__init__(\"USA\", recipient)\n",
    "        self.street = street\n",
    "        self.city = city\n",
    "        self.state = state\n",
    "        self.zip = zipcode\n",
    "\n",
    "    def display(self):\n",
    "        print(self.recipient)\n",
    "        print(self.street)\n",
    "        print(self.city + \", \" + self.state + \"  \" + self.zip)\n",
    "        print(self.country)\n",
    "\n",
    "    def validate(self):\n",
    "        return (super().validate() and self.city != '' and\n",
    "            len(self.state) == 2 and\n",
    "            (len(self.zip) == 5 or len(self.zip) == 9))\n",
    "            # (len(self.postalCode) == 5 or len(self.postalCode) == 9)) # book's code has an error\n"
   ]
  },
  {
   "cell_type": "code",
   "execution_count": 11,
   "id": "28f7424a",
   "metadata": {},
   "outputs": [
    {
     "data": {
      "text/plain": [
       "False"
      ]
     },
     "execution_count": 11,
     "metadata": {},
     "output_type": "execute_result"
    }
   ],
   "source": [
    "test = USPostalAddress(\"me\",\"47 main\",\"shoreview\",\"mn\",\"5512\")\n",
    "test.validate()"
   ]
  },
  {
   "cell_type": "markdown",
   "id": "0a0e2126",
   "metadata": {},
   "source": [
    "#### 19.7.4 - A List of Addresses"
   ]
  },
  {
   "cell_type": "markdown",
   "id": "701e45a3",
   "metadata": {},
   "source": [
    "Now, let’s construct a list containing both US and Irish addresses, and display them using a loop:"
   ]
  },
  {
   "cell_type": "code",
   "execution_count": 12,
   "id": "8228fd2c",
   "metadata": {},
   "outputs": [
    {
     "name": "stdout",
     "output_type": "stream",
     "text": [
      "Alf Jones\n",
      "A26F4G9\n",
      "IRELAND\n",
      "Abe Jones\n",
      "103 Anywhere Ln\n",
      "Greenville, SC  29609\n",
      "USA\n",
      "Gabe Jones\n",
      "A65F4E2\n",
      "IRELAND\n"
     ]
    }
   ],
   "source": [
    "# _19_7_4_1_postal_list_ac.py\n",
    "\n",
    "addrList = [IrishPostalAddress(\"Alf Jones\", \"A26F4G9\"),\n",
    "            USPostalAddress(\"Abe Jones\", \"103 Anywhere Ln\",\n",
    "                \"Greenville\", \"SC\", \"29609\"),\n",
    "            IrishPostalAddress(\"Gabe Jones\", \"A65F4E2\")]\n",
    "\n",
    "for addr in addrList:\n",
    "    addr.display()\n"
   ]
  },
  {
   "cell_type": "markdown",
   "id": "0a90cdb8",
   "metadata": {},
   "source": [
    "Normally, if a program iterates over a list that contains different types of objects, it has to be careful about making assumptions about the methods and operations that it can invoke on the different objects in the list, since an attempt to invoke a method or apply an operator to an object that does not support the method or operator will result in a runtime error. In this case, we know that all of the objects in the list inherit from `BasePostalAddress`. It is safe to invoke any methods defined in `BasePostalAddress`, since all children of `BasePostalAddress` are guaranteed to contain those methods. Programs that use inheritance often contain loops like this.\n",
    "\n",
    "Notice something else. As the loop iterates over the list, each time the `display()` method is invoked, the computer will execute the one that is defined for the specific object referenced by addr. The first time through the loop, `addr` references an `IrishPostalAddress`, so the `display()` method for Irish addresses is invoked. The second time through the loop, the `display()` method in `USPostalAddress` is invoked. This behavior—where the computer always executes the method that is defined for the object being referenced—is called ***polymorphism***. Python exhibits this behavior whether or not the objects in question utilize inheritance, but languages like Java and C++, polymorphism is available only through inheritance."
   ]
  },
  {
   "cell_type": "markdown",
   "id": "c4ab9274",
   "metadata": {},
   "source": [
    "#### 19.7.5 - Using ```isinstance()```"
   ]
  },
  {
   "cell_type": "markdown",
   "id": "614aff74",
   "metadata": {},
   "source": [
    "Let’s try something else with our list of addresses. Suppose we wanted to display all addresses with a given city. We might write some code like this:\n",
    "\n",
    "```\n",
    "for addr in addrList:\n",
    "    if addr.city == 'Greenville':\n",
    "        addr.display()\n",
    "```\n",
    "However, we would get into trouble on the first iteration of the loop. The first address is an Irish address, which does not have a city attribute. Python would raise an error. We want to perform this test only for US addresses.\n",
    "\n",
    "In this case, since all addresses have a country attribute, we could write the loop this way:\n",
    "\n",
    "```\n",
    "for addr in addrList:\n",
    "    if addr.country == 'USA' and addr.city == 'Greenville':\n",
    "        addr.display()\n",
    "```\n",
    "Another way to test the address is to find out if the object belongs to a specific class. Python provides the `isinstance()` function for this purpose. `isinstance()` is designed for situations where you want to access a field or invoke a method on an object, but you want to do so only if the object provides the needed functionality. Given an object obj and a class cls, `isinstance(obj, cls)` returns `True` if `obj` is an instance of `cls` (or a subclass of `cls`), and `False` if it is not. Here is how we might use it in our loop:\n",
    "\n",
    "```\n",
    "for addr in addrList:\n",
    "    if isinstance(addr, USPostalAddress) and addr.city == 'Greenville':\n",
    "        addr.display()\n",
    "```\n",
    "In this version of the code, the `city` attribute will be tested only if `addr` references an instance of `USPostalAddress`, or a child of `USPostalAddress` (which would also have a `city` attribute).\n",
    "\n",
    "Now that you’ve learned about `isinstance()`, you should know that, like inheritance itself, `isinstance()` should be used sparingly. Code that invokes `isinstance()` is often performing work on an object that the object should be designed to do itself, and is not utilizing inheritance and polymorphism to its full potential.\n",
    "\n",
    "To make this loop better utilize inheritance and polymorphism, we need a way to test each address to see if it is in a given city. Let’s add a method to `BasePostalAddress` for this purpose. It will return a boolean indicating whether the address is in a certain city.\n",
    "\n",
    "```\n",
    "class BasePostalAddress:\n",
    "\n",
    "    ...\n",
    "\n",
    "    def isInCity(self, city):\n",
    "        return False\n",
    "```\n",
    "\n",
    "`BasePostalAddresses` do not have a `city` attribute, so they just return `False`. `USPostalAddresses` do have a `city`, so we’ll override this method for that class:\n",
    "\n",
    "```\n",
    "class USPostalAddress:\n",
    "\n",
    "    ...\n",
    "\n",
    "    def isInCity(self, city):\n",
    "        return self.city == city\n",
    "```\n",
    "Now, we rewrite our loop to use `isInCity()` to perform the test:\n",
    "\n",
    "```\n",
    "for addr in addrList:\n",
    "    if addr.isInCity('Greenville'):\n",
    "        addr.display()\n",
    "```\n",
    "\n",
    "Notice how we’ve eliminated the `isinstance()` test. Also, notice how this test works for `IrishPostalAddress` objects, even though we didn’t define `isInCity()` for `IrishPostalAddress`, since `IrishPostalAddress` inherits its version from `BasePostalAddress`.\n"
   ]
  },
  {
   "cell_type": "markdown",
   "id": "b872834e",
   "metadata": {},
   "source": [
    "### 19.8 – No Glossary!"
   ]
  }
 ],
 "metadata": {
  "kernelspec": {
   "display_name": "Python 3 (ipykernel)",
   "language": "python",
   "name": "python3"
  },
  "language_info": {
   "codemirror_mode": {
    "name": "ipython",
    "version": 3
   },
   "file_extension": ".py",
   "mimetype": "text/x-python",
   "name": "python",
   "nbconvert_exporter": "python",
   "pygments_lexer": "ipython3",
   "version": "3.9.15"
  }
 },
 "nbformat": 4,
 "nbformat_minor": 5
}
