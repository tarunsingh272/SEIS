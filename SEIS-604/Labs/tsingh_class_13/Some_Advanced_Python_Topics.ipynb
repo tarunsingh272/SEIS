{
 "cells": [
  {
   "cell_type": "markdown",
   "id": "c37d3ab2",
   "metadata": {},
   "source": [
    "## Some Advanced Python Topics (Class 13)\n",
    "\n",
    "This notebook references these Python tutorials and resources:\n",
    "\n",
    " __Python Distilled__, by David Beazley; Pearson; 1st edition (September 22, 2021), ISBN-10: 0134173279, ISBN-13: 978-0134173276\n",
    "  \n",
    " __Regular Expressions: Regexes in Python (Part 1)__:  \n",
    " https://realpython.com/regex-python/#regexes-in-python-and-their-uses\n",
    "\n",
    "\n",
    "This notebook by:\n",
    "\n",
    "***Eric V. Level***  \n",
    "\n",
    "Graduate Programs in Software Engineering and Data Science  \n",
    "University of St Thomas\n",
    "St Paul, MN\n",
    "\n"
   ]
  },
  {
   "cell_type": "markdown",
   "id": "27c19c7d",
   "metadata": {},
   "source": [
    "### Notebook Objectives\n",
    "\n",
    "- To review the idea of \"Python protocols\" from D. Beazley's book, and explore how to implement them in your classes.\n",
    "\n",
    "- To understand and know how to use regular expressions via the `regex` package, from the RealPython.com website."
   ]
  },
  {
   "cell_type": "markdown",
   "id": "dc9edddd",
   "metadata": {},
   "source": [
    "### \"Python Distilled\" (PD, Chapter 4.8-4.18):  Object Protocols"
   ]
  },
  {
   "cell_type": "markdown",
   "id": "eb36eac1",
   "metadata": {},
   "source": [
    "#### 4.8 Object Protocols and Data Abstraction"
   ]
  },
  {
   "cell_type": "markdown",
   "id": "5885dcb2",
   "metadata": {},
   "source": [
    "Most Python language features are defined by protocols. Consider the following function:"
   ]
  },
  {
   "cell_type": "code",
   "execution_count": 1,
   "id": "46fc62a8",
   "metadata": {},
   "outputs": [],
   "source": [
    "def compute_cost(unit_price, num_units):\n",
    "    return unit_price * num_units"
   ]
  },
  {
   "cell_type": "markdown",
   "id": "ee16a1ae",
   "metadata": {},
   "source": [
    "Now, ask yourself the question: What inputs are allowed? The answer is deceptively simple—everything is allowed! At first glance, this function looks like it might apply to numbers:"
   ]
  },
  {
   "cell_type": "code",
   "execution_count": 2,
   "id": "f368d473",
   "metadata": {},
   "outputs": [
    {
     "data": {
      "text/plain": [
       "62.5"
      ]
     },
     "execution_count": 2,
     "metadata": {},
     "output_type": "execute_result"
    }
   ],
   "source": [
    "compute_cost(1.25, 50)"
   ]
  },
  {
   "cell_type": "markdown",
   "id": "a0106275",
   "metadata": {},
   "source": [
    "Indeed, it works as expected. However, the function works with much more. You can use specialized numbers such as fractions or decimals:"
   ]
  },
  {
   "cell_type": "code",
   "execution_count": 14,
   "id": "88b27699",
   "metadata": {},
   "outputs": [
    {
     "data": {
      "text/plain": [
       "Fraction(125, 2)"
      ]
     },
     "execution_count": 14,
     "metadata": {},
     "output_type": "execute_result"
    }
   ],
   "source": [
    "from fractions import Fraction\n",
    "# from ourfraction import Fraction\n",
    "compute_cost(Fraction(5, 4), 50)\n",
    "# Fraction(125, 2)"
   ]
  },
  {
   "cell_type": "code",
   "execution_count": 12,
   "id": "c7a7cc00",
   "metadata": {},
   "outputs": [
    {
     "data": {
      "text/plain": [
       "Decimal('62.50')"
      ]
     },
     "execution_count": 12,
     "metadata": {},
     "output_type": "execute_result"
    }
   ],
   "source": [
    "from decimal import Decimal\n",
    "compute_cost(Decimal('1.25'), Decimal('50'))"
   ]
  },
  {
   "cell_type": "markdown",
   "id": "d41eee9e",
   "metadata": {},
   "source": [
    "Not only that—the function works with arrays and other complex structures from packages such as `numpy`. \n",
    "\n",
    "For example:"
   ]
  },
  {
   "cell_type": "code",
   "execution_count": 5,
   "id": "4327e027",
   "metadata": {},
   "outputs": [
    {
     "data": {
      "text/plain": [
       "array([62.5 , 42.  , 76.25])"
      ]
     },
     "execution_count": 5,
     "metadata": {},
     "output_type": "execute_result"
    }
   ],
   "source": [
    "import numpy as np\n",
    "prices = np.array([1.25, 2.10, 3.05])\n",
    "units = np.array([50, 20, 25])\n",
    "compute_cost(prices, units)"
   ]
  },
  {
   "cell_type": "markdown",
   "id": "7cc6e163",
   "metadata": {},
   "source": [
    "The function might even work in unexpected ways:"
   ]
  },
  {
   "cell_type": "code",
   "execution_count": 6,
   "id": "a6c1b949",
   "metadata": {},
   "outputs": [
    {
     "data": {
      "text/plain": [
       "'a lota lota lota lota lota lota lota lota lota lot'"
      ]
     },
     "execution_count": 6,
     "metadata": {},
     "output_type": "execute_result"
    }
   ],
   "source": [
    "compute_cost('a lot', 10)"
   ]
  },
  {
   "cell_type": "markdown",
   "id": "25fb4ab9",
   "metadata": {},
   "source": [
    "And yet, certain combinations of types fail:"
   ]
  },
  {
   "cell_type": "code",
   "execution_count": 15,
   "id": "2e3877fe",
   "metadata": {},
   "outputs": [
    {
     "data": {
      "text/plain": [
       "Fraction(125, 2)"
      ]
     },
     "execution_count": 15,
     "metadata": {},
     "output_type": "execute_result"
    }
   ],
   "source": [
    "#from ourfraction import Fraction\n",
    "compute_cost(Fraction(5, 4), 50)"
   ]
  },
  {
   "cell_type": "markdown",
   "id": "20902c86",
   "metadata": {},
   "source": [
    "Unlike a compiler for a static language, Python does not verify correct program behavior in advance. Instead, the behavior of an object is determined by a dynamic process that involves the dispatch of so-called **“special” or “magic” methods**. The names of these special methods are always preceded and followed by double underscores (`__`). The methods are automatically triggered by the interpreter as a program executes. For example, the operation `x * y` is carried out by a method `x.__mul__(y)`. The names of these methods and their corresponding operators are hard-wired. The behavior of any given object depends entirely on the set of special methods that it implements.\n",
    "\n",
    "The next few sections describe the special methods associated with different categories of core interpreter features. These categories are sometimes called **“protocols.”** An object, including a user-defined class, may define any combination of these features to make the object behave in different ways."
   ]
  },
  {
   "cell_type": "markdown",
   "id": "3b51dfbb",
   "metadata": {},
   "source": [
    "### PD - 4.9 Object Protocol"
   ]
  },
  {
   "cell_type": "markdown",
   "id": "dbebc829",
   "metadata": {},
   "source": [
    "The methods in Table 4.1 are related to the overall management of objects. This includes object creation, initialization, destruction, and representation."
   ]
  },
  {
   "cell_type": "markdown",
   "id": "d5605c4b",
   "metadata": {},
   "source": [
    "#### Table 4.1 Methods for Object Management\n",
    "\n",
    "**Method                         \n",
    "    Description**\n",
    "\n",
    "`__new__(cls [,*args [,**kwargs]])`  \n",
    "\tA static method called to create a new instance.\n",
    "\n",
    "`__init__(self [,*args [,**kwargs]])`  \n",
    "\tCalled to initialize a new instance after it’s been created.\n",
    "\n",
    "`__del__(self)`  \n",
    "\tCalled when an instance is being destroyed.\n",
    "\n",
    "`__repr__(self)`  \n",
    "\tCreate a string representation."
   ]
  },
  {
   "cell_type": "markdown",
   "id": "1bafed3c",
   "metadata": {},
   "source": [
    "The `__new__()` and `__init__()` methods are used together to create and initialize instances. When an object is created by calling `SomeClass(args)`, it is translated into the following steps:"
   ]
  },
  {
   "cell_type": "code",
   "execution_count": 22,
   "id": "7e911cbf",
   "metadata": {},
   "outputs": [
    {
     "name": "stdout",
     "output_type": "stream",
     "text": [
      "Are we having fun yet\n"
     ]
    },
    {
     "data": {
      "text/plain": [
       "\"'Are we having fun yet'\""
      ]
     },
     "execution_count": 22,
     "metadata": {},
     "output_type": "execute_result"
    }
   ],
   "source": [
    "st = \"Are we having fun yet\"\n",
    "print(st)\n",
    "st\n",
    "repr(st)"
   ]
  },
  {
   "cell_type": "code",
   "execution_count": 16,
   "id": "04054142",
   "metadata": {},
   "outputs": [],
   "source": [
    "class SomeClass():\n",
    "    def __init__(self,l):\n",
    "        print (\"SomeClass instance initialized!\")"
   ]
  },
  {
   "cell_type": "code",
   "execution_count": 17,
   "id": "62b5b64b",
   "metadata": {
    "scrolled": true
   },
   "outputs": [
    {
     "name": "stdout",
     "output_type": "stream",
     "text": [
      "SomeClass instance initialized!\n"
     ]
    }
   ],
   "source": [
    "args = []\n",
    "x = SomeClass.__new__(SomeClass, args)\n",
    "if isinstance(x, SomeClass):\n",
    "    x.__init__(args)"
   ]
  },
  {
   "cell_type": "markdown",
   "id": "a76d1851",
   "metadata": {},
   "source": [
    "Normally, these steps are handled behind the scenes and you don’t need to worry about it. The most common method implemented in a class is `__init__()`. Use of `__new__()` almost always indicates the presence of advanced magic related to instance creation (for example, it is used in class methods that want to bypass `__init__()` or in certain creational design patterns such as singletons or caching). The implementation of `__new__()` doesn’t necessarily need to return an instance of the class in question—if not, the subsequent call to `__init__()` on creation is skipped.\n",
    "\n",
    "The `__del__()` method is invoked when an instance is about to be **garbage-collected**. This method is invoked only when an instance is no longer in use. Note that the statement `del x` only decrements the instance reference count and doesn’t necessarily result in a call to this function. `__del__()` is almost never defined unless an instance needs to perform additional resource management steps upon destruction.\n",
    "\n",
    "The `__repr__()` method, called by the built-in `repr()` function, creates a string representation of an object that can be useful for debugging and printing. This is also the method responsible for creating the output of values you see when inspecting variables in the interactive interpreter. The convention is for `__repr__()` to return an expression string that can be evaluated to re-create the object using `eval()`. For example:"
   ]
  },
  {
   "cell_type": "code",
   "execution_count": 18,
   "id": "018976ff",
   "metadata": {},
   "outputs": [
    {
     "name": "stdout",
     "output_type": "stream",
     "text": [
      "<class 'str'> [2, 3, 4, 5]\n",
      "<class 'list'> [2, 3, 4, 5]\n"
     ]
    }
   ],
   "source": [
    "a = [2, 3, 4, 5]   # Create a list\n",
    "s = repr(a)        # s = '[2, 3, 4, 5]'\n",
    "print (type(s),s)\n",
    "b = eval(s)        # Turns s back into a list\n",
    "print (type(b),b)"
   ]
  },
  {
   "cell_type": "markdown",
   "id": "52b6e8f0",
   "metadata": {},
   "source": [
    "If a string expression cannot be created, the convention is for `__repr__()` to return a string of the form `<...message...>`, as shown here:"
   ]
  },
  {
   "cell_type": "code",
   "execution_count": 19,
   "id": "e18f1e25",
   "metadata": {},
   "outputs": [
    {
     "data": {
      "text/plain": [
       "\"<_io.TextIOWrapper name='foo.txt' mode='r' encoding='UTF-8'>\""
      ]
     },
     "execution_count": 19,
     "metadata": {},
     "output_type": "execute_result"
    }
   ],
   "source": [
    "f = open('foo.txt')\n",
    "a = repr(f)\n",
    "a\n",
    "# a = \"<_io.TextIOWrapper name='foo.txt' mode='r' encoding='UTF-8'>"
   ]
  },
  {
   "cell_type": "markdown",
   "id": "96d1dd2f",
   "metadata": {},
   "source": [
    "### PD - 4.10 Number Protocol"
   ]
  },
  {
   "cell_type": "markdown",
   "id": "335396a1",
   "metadata": {},
   "source": [
    "Table 4.2 lists special methods that objects must implement to provide mathematical operations."
   ]
  },
  {
   "cell_type": "markdown",
   "id": "8fef7dbd",
   "metadata": {},
   "source": [
    "#### Table 4.2 Methods for Mathematical Operations\n",
    "\n",
    "```\n",
    "Method                     Operation\n",
    "\n",
    "__add__(self, other)       self + other\n",
    "__sub__(self, other)       self - other\n",
    "__mul__(self, other)       self * other\n",
    "__truediv__(self, other)   self / other\n",
    "__floordiv__(self, other)  self // other\n",
    "__mod__(self, other)       self % other\n",
    "__matmul__(self, other)    self @ other\n",
    "__divmod__(self, other)    divmod(self, other)\n",
    "__pow__(self, other [, modulo])   self ** other, pow(self, other, modulo)\n",
    "__lshift__(self, other)    self << other\n",
    "__rshift__(self, other)    self >> other\n",
    "__and__(self, other)       self & other\n",
    "__or__(self, other)        self | other\n",
    "__xor__(self, other)       self ^ other\n",
    "__radd__(self, other)      other + self\n",
    "__rsub__(self, other)      other - self\n",
    "__rmul__(self, other)      other * self\n",
    "__rtruediv__(self, other)  other / self\n",
    "__rfloordiv__(self, other) other // self\n",
    "__rmod__(self, other)      other % self\n",
    "__rmatmul__(self, other)   other @ self\n",
    "__rdivmod__(self, other)   divmod(other, self)\n",
    "__rpow__(self, other)      other ** self\n",
    "__rlshift__(self, other)   other << self\n",
    "__rrshift__(self, other)   other >> self\n",
    "__rand__(self, other)      other & self\n",
    "__ror__(self, other)       other | self\n",
    "__rxor__(self, other)      other ^ self\n",
    "__iadd__(self, other)      self += other\n",
    "__isub__(self, other)      self -= other\n",
    "__imul__(self, other)      self *= other\n",
    "__itruediv__(self, other)  self /= other\n",
    "__ifloordiv__(self, other) self //= other\n",
    "__imod__(self, other)      self %= other\n",
    "__imatmul__(self, other)   self @= other\n",
    "__ipow__(self, other)      self **= other\n",
    "__iand__(self, other)      self &= other\n",
    "__ior__(self, other)       self |= other\n",
    "__ixor__(self, other)      self ^= other\n",
    "__ilshift__(self, other)   self <<= other\n",
    "__irshift__(self, other)   self >>= other\n",
    "__neg__(self)              –self\n",
    "__pos__(self)              +self\n",
    "__invert__(self)           ~self\n",
    "__abs__(self)              abs(self)\n",
    "__round__(self, n)         round(self, n)\n",
    "__floor__(self)            math.floor(self)\n",
    "__ceil__(self)             math.ceil(self)\n",
    "__trunc__(self)            math.trunc(self)\n",
    "```"
   ]
  },
  {
   "cell_type": "markdown",
   "id": "b758c98b",
   "metadata": {},
   "source": [
    "#### Fraction from DSP-1 book, augmented with some of the above..."
   ]
  },
  {
   "cell_type": "code",
   "execution_count": 20,
   "id": "c5c929ad",
   "metadata": {},
   "outputs": [
    {
     "name": "stdout",
     "output_type": "stream",
     "text": [
      "1/2\n",
      "2/3\n",
      "7/6\n",
      "calling __eq__()\n",
      "False\n",
      "calling __eq__()\n",
      "True\n"
     ]
    },
    {
     "ename": "TypeError",
     "evalue": "'<' not supported between instances of 'Fraction' and 'Fraction'",
     "output_type": "error",
     "traceback": [
      "\u001b[0;31m---------------------------------------------------------------------------\u001b[0m",
      "\u001b[0;31mTypeError\u001b[0m                                 Traceback (most recent call last)",
      "Cell \u001b[0;32mIn[20], line 47\u001b[0m\n\u001b[1;32m     44\u001b[0m \u001b[38;5;66;03m# added to book's code\u001b[39;00m\n\u001b[1;32m     45\u001b[0m \u001b[38;5;28mprint\u001b[39m (x\u001b[38;5;241m!=\u001b[39my)\u001b[38;5;66;03m# no __ne__, so __eq__ used and negated..\u001b[39;00m\n\u001b[0;32m---> 47\u001b[0m \u001b[38;5;28mprint\u001b[39m (\u001b[43mx\u001b[49m\u001b[38;5;241;43m<\u001b[39;49m\u001b[43my\u001b[49m) \u001b[38;5;66;03m# not implemented...yet\u001b[39;00m\n",
      "\u001b[0;31mTypeError\u001b[0m: '<' not supported between instances of 'Fraction' and 'Fraction'"
     ]
    }
   ],
   "source": [
    "# _dsp-1_13_1_2_3-fraction_class.py\n",
    "\n",
    "def gcd(m, n):\n",
    "    while m % n != 0:\n",
    "        m, n = n, m % n\n",
    "    return n\n",
    "\n",
    "class Fraction:\n",
    "    def __init__(self, top, bottom):\n",
    "        self.num = top\n",
    "        self.den = bottom\n",
    "\n",
    "    def __str__(self):\n",
    "        return \"{:d}/{:d}\".format(self.num, self.den)\n",
    "\n",
    "    def __eq__(self, other_fraction):\n",
    "        first_num = self.num * other_fraction.den\n",
    "        second_num = other_fraction.num * self.den\n",
    "        print (\"calling __eq__()\")\n",
    "        return first_num == second_num\n",
    "\n",
    "    def __add__(self, other_fraction):\n",
    "        new_num = self.num * other_fraction.den \\\n",
    "        + self.den * other_fraction.num\n",
    "        new_den = self.den * other_fraction.den\n",
    "        cmmn = gcd(new_num, new_den)\n",
    "        return Fraction(new_num // cmmn, new_den // cmmn)\n",
    "\n",
    "    def show(self):\n",
    "        print(\"{:d}/{:d}\".format(self.num, self.den))\n",
    "        \n",
    "    def __repr__(self): # added \n",
    "        ''' finish this'''\n",
    "        to_return = f'Fraction({self.num},{self.den})'\n",
    "        return to_return\n",
    "\n",
    "x = Fraction(1, 2)\n",
    "x.show()\n",
    "y = Fraction(2, 3)\n",
    "print(y)\n",
    "print(x + y) # uses __add__\n",
    "print(x == y)\n",
    "\n",
    "# added to book's code\n",
    "print (x!=y)# no __ne__, so __eq__ used and negated..\n",
    "\n",
    "print (x<y) # not implemented...yet\n"
   ]
  },
  {
   "cell_type": "markdown",
   "id": "35915286",
   "metadata": {},
   "source": [
    "When presented with an expression such as `x + y`, the interpreter invokes a combination of the methods `x.__add__(y)` or `y.__radd__(x)` to carry out the operation. The initial choice is to try `x.__add__(y)` in all cases except for the special case where `y` happens to be a subtype of `x`; in that case, `y.__radd__(x)` executes first. If the initial method fails by returning `NotImplemented`, an attempt is made to invoke the operation with reversed operands such as `y.__radd__(x)`. If this second attempt fails, the entire operation fails. Here is an example:"
   ]
  },
  {
   "cell_type": "code",
   "execution_count": 23,
   "id": "f4cd85ad",
   "metadata": {},
   "outputs": [],
   "source": [
    "a = 42       # int\n",
    "b = 3.7      # float"
   ]
  },
  {
   "cell_type": "code",
   "execution_count": 24,
   "id": "46ca3f12",
   "metadata": {},
   "outputs": [
    {
     "data": {
      "text/plain": [
       "NotImplemented"
      ]
     },
     "execution_count": 24,
     "metadata": {},
     "output_type": "execute_result"
    }
   ],
   "source": [
    "a.__add__(b) # not implemented: "
   ]
  },
  {
   "cell_type": "code",
   "execution_count": 25,
   "id": "d3000fc1",
   "metadata": {},
   "outputs": [
    {
     "data": {
      "text/plain": [
       "45.7"
      ]
     },
     "execution_count": 25,
     "metadata": {},
     "output_type": "execute_result"
    }
   ],
   "source": [
    "b.__radd__(a)"
   ]
  },
  {
   "cell_type": "code",
   "execution_count": 26,
   "id": "faa21a00",
   "metadata": {},
   "outputs": [
    {
     "data": {
      "text/plain": [
       "True"
      ]
     },
     "execution_count": 26,
     "metadata": {},
     "output_type": "execute_result"
    }
   ],
   "source": [
    "isinstance(47,int)"
   ]
  },
  {
   "cell_type": "code",
   "execution_count": 27,
   "id": "5d5cf6e9",
   "metadata": {},
   "outputs": [
    {
     "data": {
      "text/plain": [
       "False"
      ]
     },
     "execution_count": 27,
     "metadata": {},
     "output_type": "execute_result"
    }
   ],
   "source": [
    "isinstance(47,float) "
   ]
  },
  {
   "cell_type": "code",
   "execution_count": 28,
   "id": "1966e5cf",
   "metadata": {},
   "outputs": [
    {
     "data": {
      "text/plain": [
       "True"
      ]
     },
     "execution_count": 28,
     "metadata": {},
     "output_type": "execute_result"
    }
   ],
   "source": [
    "issubclass(type(int),type(float))"
   ]
  },
  {
   "cell_type": "code",
   "execution_count": 29,
   "id": "20552652",
   "metadata": {},
   "outputs": [
    {
     "data": {
      "text/plain": [
       "True"
      ]
     },
     "execution_count": 29,
     "metadata": {},
     "output_type": "execute_result"
    }
   ],
   "source": [
    "issubclass(type(float),type(int)) # ??"
   ]
  },
  {
   "cell_type": "markdown",
   "id": "c88c5cfc",
   "metadata": {},
   "source": [
    "This example might seem surprising but it reflects the fact that integers don’t actually know anything about floating-point numbers. However, floating-point numbers do know about integers—as integers are, mathematically, a special kind of floating-point numbers. Thus, the reversed operand produces the correct answer.\n",
    "\n",
    "The methods `__iadd__()`, `__isub__()`, and so forth are used to support in-place arithmetic operators such as `a += b` and `a -= b` (also known as *augmented assignment*). A distinction is made between these operators and the standard arithmetic methods because the implementation of the in-place operators might be able to provide certain customizations or performance optimizations. For instance, if the object is not shared, the value of an object could be modified in place without allocating a newly created object for the result. If the in-place operators are left undefined, an operation such as `a += b` is evaluated using `a = a + b` instead.\n",
    "\n",
    "There are no methods that can be used to define the behavior of the logical `and`, `or`, or `not` operators. The `and` and `or` operators implement short-circuit evaluation where evaluation stops if the final result can already be determined. For example:"
   ]
  },
  {
   "cell_type": "code",
   "execution_count": 30,
   "id": "63fc8473",
   "metadata": {},
   "outputs": [
    {
     "data": {
      "text/plain": [
       "True"
      ]
     },
     "execution_count": 30,
     "metadata": {},
     "output_type": "execute_result"
    }
   ],
   "source": [
    "True or 1/0      # Does not evaluate 1/0: short circuit!"
   ]
  },
  {
   "cell_type": "markdown",
   "id": "e9925343",
   "metadata": {},
   "source": [
    "This behavior involving unevaluated subexpressions **can’t be expressed** using the evaluation rules of a normal function or method. Thus, there is no protocol or set of methods for redefining it. Instead, it is handled as a special case deep inside the implementation of Python itself."
   ]
  },
  {
   "cell_type": "markdown",
   "id": "8c18c63e",
   "metadata": {},
   "source": [
    "### PD - 4.11 Comparison Protocol"
   ]
  },
  {
   "cell_type": "markdown",
   "id": "e0c52e54",
   "metadata": {},
   "source": [
    "Objects can be compared in various ways. The most basic check is an identity check with the `is` operator. For example, `a is b`. Identity does not consider the values stored inside of an object, even if they happen to be the same. For example:"
   ]
  },
  {
   "cell_type": "code",
   "execution_count": 31,
   "id": "b4c7f5f4",
   "metadata": {},
   "outputs": [
    {
     "data": {
      "text/plain": [
       "True"
      ]
     },
     "execution_count": 31,
     "metadata": {},
     "output_type": "execute_result"
    }
   ],
   "source": [
    "a = [1, 2, 3]\n",
    "b = a\n",
    "a is b"
   ]
  },
  {
   "cell_type": "code",
   "execution_count": 32,
   "id": "9a0297ee",
   "metadata": {},
   "outputs": [
    {
     "data": {
      "text/plain": [
       "False"
      ]
     },
     "execution_count": 32,
     "metadata": {},
     "output_type": "execute_result"
    }
   ],
   "source": [
    "c = [1, 2, 3]\n",
    "a is c"
   ]
  },
  {
   "cell_type": "markdown",
   "id": "89ee14fc",
   "metadata": {},
   "source": [
    "The `is` operator is an internal part of Python that can’t be redefined. All other comparisons on objects are implemented by the methods in Table 4.3."
   ]
  },
  {
   "cell_type": "markdown",
   "id": "8bf59679",
   "metadata": {},
   "source": [
    "#### Table 4.3 Methods for Instance Comparison and Hashing\n",
    "```\n",
    "Method                  Description\n",
    "\n",
    "__bool__(self)          Returns False or True for truth-value testing                        __eq__(self, other)     self == other\n",
    "__ne__(self, other)     self != other\n",
    "__lt__(self, other)     self < other\n",
    "__le__(self, other)     self <= other\n",
    "__gt__(self, other)     self > other\n",
    "__ge__(self, other)     self >= other\n",
    "__hash__(self)          Computes an integer hash index\n",
    "```"
   ]
  },
  {
   "cell_type": "markdown",
   "id": "1b371c36",
   "metadata": {},
   "source": [
    "The `__bool__()` method, if present, is used to determine the truth value when an object is tested as part of a condition or conditional expression. For example:"
   ]
  },
  {
   "cell_type": "markdown",
   "id": "a90fb2e9",
   "metadata": {},
   "source": [
    "```\n",
    "if a:              # Executes a.__bool__()\n",
    "   ...\n",
    "else:\n",
    "   ...\n",
    "```"
   ]
  },
  {
   "cell_type": "markdown",
   "id": "ee2d2575",
   "metadata": {},
   "source": [
    "If `__bool__()` is undefined, then `__len__()` is used as a fallback. If both `__bool__()` and `__len__()` are undefined, an object is simply considered to be `True`.\n",
    "\n",
    "The `__eq__()` method is used to determine basic equality for use with the `==` and `!=` operators. The default implementation of `__eq__()` compares objects by identity using the `is` operator. The `__ne__()` method, if present, can be used to implement special processing for `!=`, but is usually not required as long as `__eq__()` is defined.\n",
    "\n",
    "Ordering is determined by the relational operators (`<`, `>`, `<=`, and `>=`) using methods such as `__lt__()` and `__gt__()`. As with other mathematical operations, the evaluation rules are subtle. To evaluate `a < b`, the interpreter will first try to execute `a.__lt__(b)` except where `b` is a subtype of `a`. In that one specific case, `b.__gt__(a)` executes instead. If this initial method is not defined or returns `NotImplemented`, the interpreter tries a reversed comparison, calling `b.__gt__(a)`. Similar rules apply to operators such as `<=` and `>=`. For example, evaluating `<=` first tries to evaluate `a.__le__(b)`. If not implemented, `b.__ge__(a)` is tried.\n",
    "\n",
    "Each of the comparison methods takes two arguments and is allowed to return any kind of value, including a Boolean value, a list, or any other Python type. For instance, a numerical package might use this to perform an element-wise comparison of two matrices, returning a matrix with the results. If comparison is not possible, the methods should return the built-in object `NotImplemented`. This is not the same as the `NotImplementedError` exception. For example:"
   ]
  },
  {
   "cell_type": "code",
   "execution_count": 33,
   "id": "1cedd86c",
   "metadata": {},
   "outputs": [
    {
     "data": {
      "text/plain": [
       "NotImplemented"
      ]
     },
     "execution_count": 33,
     "metadata": {},
     "output_type": "execute_result"
    }
   ],
   "source": [
    "a = 42      # int\n",
    "b = 52.3    # float\n",
    "a.__lt__(b)"
   ]
  },
  {
   "cell_type": "code",
   "execution_count": 34,
   "id": "f30e73cc",
   "metadata": {},
   "outputs": [
    {
     "data": {
      "text/plain": [
       "True"
      ]
     },
     "execution_count": 34,
     "metadata": {},
     "output_type": "execute_result"
    }
   ],
   "source": [
    "b.__gt__(a)"
   ]
  },
  {
   "cell_type": "markdown",
   "id": "04e9eeae",
   "metadata": {},
   "source": [
    "It is not necessary for an ordered object to implement all of the comparison operations in Table 4.3. If you want to be able to sort objects or use functions such as `min()` or `max()`, then `__lt__()` must be minimally defined. If you are adding comparison operators to a user-defined class, the `@total_ordering` class decorator in the `functools` module may be of some use. It can generate all of the methods as long as you minimally implement `__eq__()` and one of the other comparisons.\n",
    "\n",
    "The `__hash__()` method is defined on instances that are to be placed into a set or be used as keys in a mapping (dictionary). The value returned is an integer that should be the same for two instances that compare as equal. Moreover, `__eq__()` should always be defined together with `__hash__()` because the two methods work together. The value returned by `__hash__()` is typically used as an internal implementation detail of various data structures. However, it’s possible for two different objects to have the same hash value. Therefore, `__eq__()` is necessary to resolve potential collisions."
   ]
  },
  {
   "cell_type": "code",
   "execution_count": 35,
   "id": "9ada08e5",
   "metadata": {},
   "outputs": [
    {
     "name": "stdout",
     "output_type": "stream",
     "text": [
      "47\n",
      "47\n",
      "7975181688420203625\n",
      "-4652752973849767532\n"
     ]
    }
   ],
   "source": [
    "print (hash(47.0))\n",
    "print (hash(47))\n",
    "print (hash(\"47\"))\n",
    "print (hash(\"48\"))"
   ]
  },
  {
   "cell_type": "markdown",
   "id": "46ff96fc",
   "metadata": {},
   "source": [
    "#### Fraction, again with comparisons added"
   ]
  },
  {
   "cell_type": "markdown",
   "id": "1f811777",
   "metadata": {},
   "source": [
    "### PD - 4.12 Conversion Protocols"
   ]
  },
  {
   "cell_type": "markdown",
   "id": "e2491101",
   "metadata": {},
   "source": [
    "Sometimes, you must convert an object to a built-in type such as a string or a number. The methods in Table 4.4 can be defined for this purpose."
   ]
  },
  {
   "cell_type": "markdown",
   "id": "38a0e5b8",
   "metadata": {},
   "source": [
    "#### Table 4.4 Methods for Conversions\n",
    "\n",
    "```\n",
    "Method                              Description\n",
    "\n",
    "__str__(self)                       Conversion to a string\n",
    "__bytes__(self)                     Conversion to bytes\n",
    "__format__(self, format_spec)       Creates a formatted representation\n",
    "__bool__(self)                      bool(self)\n",
    "__int__(self)                       int(self)\n",
    "__float__(self)                     float(self)\n",
    "__complex__(self)                   complex(self)\n",
    "__index__(self)                     Conversion to a integer index [self]\n",
    "```\t"
   ]
  },
  {
   "cell_type": "code",
   "execution_count": 37,
   "id": "b7d0053f",
   "metadata": {},
   "outputs": [
    {
     "data": {
      "text/plain": [
       "complex"
      ]
     },
     "execution_count": 37,
     "metadata": {},
     "output_type": "execute_result"
    }
   ],
   "source": [
    "type(0+1j)"
   ]
  },
  {
   "cell_type": "markdown",
   "id": "ac2857e1",
   "metadata": {},
   "source": [
    "The `__str__()` method is called by the built-in `str()` function and by functions related to printing. The `__format__()` method is called by the `format()` function or the `format()` method of strings. The `format_spec` argument is a string containing the format specification. This string is the same as the `format_spec` argument to `format()`. For example:"
   ]
  },
  {
   "cell_type": "code",
   "execution_count": 38,
   "id": "cc54a481",
   "metadata": {},
   "outputs": [
    {
     "data": {
      "text/plain": [
       "b'\\x00\\x00\\x00\\x00\\x00\\x00\\x00\\x00\\x00\\x00\\x00\\x00\\x00\\x00\\x00\\x00\\x00\\x00\\x00\\x00\\x00\\x00\\x00\\x00\\x00\\x00\\x00\\x00\\x00\\x00\\x00\\x00\\x00\\x00\\x00\\x00\\x00\\x00\\x00\\x00\\x00\\x00\\x00\\x00\\x00\\x00\\x00'"
      ]
     },
     "execution_count": 38,
     "metadata": {},
     "output_type": "execute_result"
    }
   ],
   "source": [
    "bytes(47)"
   ]
  },
  {
   "cell_type": "code",
   "execution_count": 36,
   "id": "ea328ecf",
   "metadata": {},
   "outputs": [
    {
     "ename": "TypeError",
     "evalue": "unsupported format string passed to Fraction.__format__",
     "output_type": "error",
     "traceback": [
      "\u001b[0;31m---------------------------------------------------------------------------\u001b[0m",
      "\u001b[0;31mTypeError\u001b[0m                                 Traceback (most recent call last)",
      "Cell \u001b[0;32mIn[36], line 2\u001b[0m\n\u001b[1;32m      1\u001b[0m spec \u001b[38;5;241m=\u001b[39m \u001b[38;5;124m'\u001b[39m\u001b[38;5;124m>10\u001b[39m\u001b[38;5;124m'\u001b[39m\n\u001b[0;32m----> 2\u001b[0m \u001b[38;5;28mprint\u001b[39m(\u001b[38;5;124mf\u001b[39m\u001b[38;5;124m'\u001b[39m\u001b[38;5;132;01m{\u001b[39;00mx\u001b[38;5;132;01m:\u001b[39;00m\u001b[38;5;124mspec\u001b[39m\u001b[38;5;132;01m}\u001b[39;00m\u001b[38;5;124m'\u001b[39m)                 \u001b[38;5;66;03m# Calls x.__format__('spec')\u001b[39;00m\n\u001b[1;32m      3\u001b[0m \u001b[38;5;28mprint\u001b[39m(\u001b[38;5;28mformat\u001b[39m(x, \u001b[38;5;124m'\u001b[39m\u001b[38;5;124mspec\u001b[39m\u001b[38;5;124m'\u001b[39m))           \u001b[38;5;66;03m# Calls x.__format__('spec')\u001b[39;00m\n\u001b[1;32m      4\u001b[0m \u001b[38;5;28mprint\u001b[39m(\u001b[38;5;124m'\u001b[39m\u001b[38;5;124mx is \u001b[39m\u001b[38;5;124m{\u001b[39m\u001b[38;5;124m0:spec}\u001b[39m\u001b[38;5;124m'\u001b[39m \u001b[38;5;241m.\u001b[39mformat(x))  \u001b[38;5;66;03m# Calls x.__format__('spec')\u001b[39;00m\n",
      "\u001b[0;31mTypeError\u001b[0m: unsupported format string passed to Fraction.__format__"
     ]
    }
   ],
   "source": [
    "spec = '>10'\n",
    "print(f'{x:spec}')                 # Calls x.__format__('spec')\n",
    "print(format(x, 'spec'))           # Calls x.__format__('spec')\n",
    "print('x is {0:spec}' .format(x))  # Calls x.__format__('spec')"
   ]
  },
  {
   "cell_type": "markdown",
   "id": "11759b46",
   "metadata": {},
   "source": [
    "The syntax of the format specification is arbitrary and can be customized on an object-by-object basis. However, there is a standard set of conventions used for the built-in types. More information about string formatting, including the general format of the specifier, can be found in Chapter 9.\n",
    "\n",
    "The `__bytes__()` method is used to create a byte representation if an instance is passed to `bytes()`. Not all types support byte conversion.\n",
    "\n",
    "The numeric conversions `__bool__()`, `__int__()`, `__float__()`, and `__complex__()` are expected to produce a value of the corresponding built-in type.\n",
    "\n",
    "Python never performs implicit type conversions using these methods. Thus, even if an object `x` implements an `__int__()` method, the expression `3 + x` will still produce a `TypeError`. The only way to execute `__int__()` is through an explicit use of the `int()` function.\n",
    "\n",
    "The `__index__()` method performs an integer conversion of an object when it’s used in an operation that requires an integer value. This includes indexing in sequence operations. For example, if items is a list, performing an operation such as `items[x]` will attempt to execute `items[x.__index__()]` if `x` is not an integer. `__index__()` is also used in various base conversions such as `oct(x)` and `hex(x)`."
   ]
  },
  {
   "cell_type": "markdown",
   "id": "9fd3e85f",
   "metadata": {},
   "source": [
    "### PD - 4.13 Container Protocol"
   ]
  },
  {
   "cell_type": "markdown",
   "id": "a2213f90",
   "metadata": {},
   "source": [
    "The methods in Table 4.5 are used by objects that want to implement containers of various kinds—lists, dicts, sets, and so on."
   ]
  },
  {
   "cell_type": "markdown",
   "id": "2317cd07",
   "metadata": {},
   "source": [
    "#### Table 4.5 Methods for Containers\n",
    "```\n",
    "Method                            Description\n",
    "\n",
    "__len__(self)                     Returns the length of self\n",
    "__getitem__(self, key)            Returns self[key]\n",
    "__setitem__(self, key, value)     Sets self[key] = value\n",
    "__delitem__(self, key)            Deletes self[key]\n",
    "__contains__(self, obj)           obj in self\n",
    "```"
   ]
  },
  {
   "cell_type": "markdown",
   "id": "ae225dc8",
   "metadata": {},
   "source": [
    "Here’s an example:"
   ]
  },
  {
   "cell_type": "code",
   "execution_count": 39,
   "id": "d0b87b2f",
   "metadata": {},
   "outputs": [
    {
     "name": "stdout",
     "output_type": "stream",
     "text": [
      "6\n",
      "3\n",
      "[1, 7, 3, 4, 5, 6]\n",
      "[1, 7, 4, 5, 6]\n"
     ]
    },
    {
     "data": {
      "text/plain": [
       "True"
      ]
     },
     "execution_count": 39,
     "metadata": {},
     "output_type": "execute_result"
    }
   ],
   "source": [
    "a = [1, 2, 3, 4, 5, 6]\n",
    "\n",
    "print (len(a))       # a.__len__()\n",
    "x = a[2]             # x = a.__getitem__(2)\n",
    "print(x)\n",
    "a[1] = 7             # a.__setitem__(1,7)\n",
    "print (a)\n",
    "del a[2]             # a.__delitem__(2)\n",
    "print (a)\n",
    "5 in a               # a.__contains__(5)"
   ]
  },
  {
   "cell_type": "markdown",
   "id": "4a1de9ed",
   "metadata": {},
   "source": [
    "The `__len__()` method is called by the built-in `len()` function to return a nonnegative length. This function also determines truth values unless the `__bool__()` method has also been defined.\n",
    "\n",
    "For accessing individual items, the `__getitem__()` method can return an item by key value. The key can be any Python object, but it is expected to be an integer for ordered sequences such as lists and arrays. The `__setitem__()` method assigns a value to an element. The `__delitem__()` method is invoked whenever the `del` operation is applied to a single element. The `__contains__()` method is used to implement the `in` operator.\n",
    "\n",
    "Slicing operations such as `x = s[i:j]` are also implemented using `__getitem__()`, `__setitem__()`, and `__delitem__()`. For slices, a special slice instance is passed as the key. This instance has attributes that describe the range of the slice being requested. For example:"
   ]
  },
  {
   "cell_type": "code",
   "execution_count": 40,
   "id": "c6e88c05",
   "metadata": {},
   "outputs": [],
   "source": [
    "a = [1,2,3,4,5,6]\n",
    "x = a[1:5]           # x = a.__getitem__(slice(1, 5, None))\n",
    "a[1:3] = [10,11,12]  # a.__setitem__(slice(1, 3, None), [10, 11, 12])\n",
    "del a[1:4]           # a.__delitem__(slice(1, 4, None))"
   ]
  },
  {
   "cell_type": "markdown",
   "id": "705ec3ac",
   "metadata": {},
   "source": [
    "The slicing features of Python are more powerful than many programmers realize. For example, the following variations of extended slicing are all supported and may be useful for working with multidimensional data structures such as matrices and arrays:"
   ]
  },
  {
   "cell_type": "code",
   "execution_count": 41,
   "id": "a7cb2692",
   "metadata": {},
   "outputs": [
    {
     "name": "stdout",
     "output_type": "stream",
     "text": [
      "[[ 0  1  2  3  4  5  6  7  8  9]\n",
      " [10 11 12 13 14 15 16 17 18 19]\n",
      " [20 21 22 23 24 25 26 27 28 29]\n",
      " [30 31 32 33 34 35 36 37 38 39]\n",
      " [40 41 42 43 44 45 46 47 48 49]\n",
      " [50 51 52 53 54 55 56 57 58 59]\n",
      " [60 61 62 63 64 65 66 67 68 69]\n",
      " [70 71 72 73 74 75 76 77 78 79]\n",
      " [80 81 82 83 84 85 86 87 88 89]\n",
      " [90 91 92 93 94 95 96 97 98 99]]\n",
      "a== [[0 1 2 3 4 5 6 7 8 9]]\n",
      "b== [[13 14 15 16 17 18 19]\n",
      " [23 24 25 26 27 28 29]\n",
      " [33 34 35 36 37 38 39]\n",
      " [43 44 45 46 47 48 49]\n",
      " [53 54 55 56 57 58 59]\n",
      " [63 64 65 66 67 68 69]\n",
      " [73 74 75 76 77 78 79]\n",
      " [83 84 85 86 87 88 89]\n",
      " [93 94 95 96 97 98 99]]\n",
      "c== []\n"
     ]
    }
   ],
   "source": [
    "import numpy as np\n",
    "# units = np.array([50, 20, 25])\n",
    "\n",
    "# m = numpy.array(5,5)\n",
    "m = np.arange(100).reshape(10, 10)\n",
    "print (m)\n",
    "a = m[0:100:10]          # Strided slice (step=10)\n",
    "b = m[1:10, 3:20]        # Multidimensional slice\n",
    "c = m[0:100:10, 50:75:5] # Multiple dimensions with strides\n",
    "# m[0:5, 5:10] = n         # extended slice assignment\n",
    "# del m[:10, 15:]          # extended slice deletion\n",
    "\n",
    "print(\"a==\",a)\n",
    "print(\"b==\",b)\n",
    "print(\"c==\",c)"
   ]
  },
  {
   "cell_type": "markdown",
   "id": "351008a5",
   "metadata": {},
   "source": [
    "The general format for each dimension of an extended slice is `i:j[:stride]`, where `stride` is optional. As with ordinary slices, you can omit the starting or ending values for each part of a slice.\n",
    "\n",
    "In addition, the `Ellipsis` (written as `...`) is available to denote any number of trailing or leading dimensions in an extended slice:"
   ]
  },
  {
   "cell_type": "code",
   "execution_count": 42,
   "id": "eac7e3f3",
   "metadata": {},
   "outputs": [
    {
     "ename": "ValueError",
     "evalue": "could not broadcast input array from shape (10,0) into shape (0,10)",
     "output_type": "error",
     "traceback": [
      "\u001b[0;31m---------------------------------------------------------------------------\u001b[0m",
      "\u001b[0;31mValueError\u001b[0m                                Traceback (most recent call last)",
      "Cell \u001b[0;32mIn[42], line 2\u001b[0m\n\u001b[1;32m      1\u001b[0m a \u001b[38;5;241m=\u001b[39m m[\u001b[38;5;241m.\u001b[39m\u001b[38;5;241m.\u001b[39m\u001b[38;5;241m.\u001b[39m, \u001b[38;5;241m10\u001b[39m:\u001b[38;5;241m20\u001b[39m]    \u001b[38;5;66;03m# extended slice access with Ellipsis\u001b[39;00m\n\u001b[0;32m----> 2\u001b[0m \u001b[43mm\u001b[49m\u001b[43m[\u001b[49m\u001b[38;5;241;43m10\u001b[39;49m\u001b[43m:\u001b[49m\u001b[38;5;241;43m20\u001b[39;49m\u001b[43m,\u001b[49m\u001b[43m \u001b[49m\u001b[38;5;241;43m.\u001b[39;49m\u001b[38;5;241;43m.\u001b[39;49m\u001b[38;5;241;43m.\u001b[39;49m\u001b[43m]\u001b[49m \u001b[38;5;241m=\u001b[39m a  \u001b[38;5;66;03m# changed from book: fix this!\u001b[39;00m\n",
      "\u001b[0;31mValueError\u001b[0m: could not broadcast input array from shape (10,0) into shape (0,10)"
     ]
    }
   ],
   "source": [
    "a = m[..., 10:20]    # extended slice access with Ellipsis\n",
    "m[10:20, ...] = a  # changed from book: fix this!"
   ]
  },
  {
   "cell_type": "markdown",
   "id": "3658a1d4",
   "metadata": {},
   "source": [
    "When using extended slices, the `__getitem__()`, `__setitem__()`, and `__delitem__()` methods implement access, modification, and deletion, respectively. However, instead of an integer, the value passed to these methods is a tuple containing a combination of slice or `Ellipsis` objects. For example,"
   ]
  },
  {
   "cell_type": "code",
   "execution_count": 43,
   "id": "6ced4840",
   "metadata": {},
   "outputs": [
    {
     "data": {
      "text/plain": [
       "array([[ 0,  5],\n",
       "       [10, 15],\n",
       "       [20, 25],\n",
       "       [30, 35],\n",
       "       [40, 45],\n",
       "       [50, 55],\n",
       "       [60, 65],\n",
       "       [70, 75],\n",
       "       [80, 85],\n",
       "       [90, 95]])"
      ]
     },
     "execution_count": 43,
     "metadata": {},
     "output_type": "execute_result"
    }
   ],
   "source": [
    "a = m[0:10, 0:100:5, ...]\n",
    "a"
   ]
  },
  {
   "cell_type": "markdown",
   "id": "acd6607d",
   "metadata": {},
   "source": [
    "invokes `__getitem__()` as follows:"
   ]
  },
  {
   "cell_type": "code",
   "execution_count": 44,
   "id": "90fca3d3",
   "metadata": {},
   "outputs": [
    {
     "data": {
      "text/plain": [
       "array([[ 0,  5],\n",
       "       [10, 15],\n",
       "       [20, 25],\n",
       "       [30, 35],\n",
       "       [40, 45],\n",
       "       [50, 55],\n",
       "       [60, 65],\n",
       "       [70, 75],\n",
       "       [80, 85],\n",
       "       [90, 95]])"
      ]
     },
     "execution_count": 44,
     "metadata": {},
     "output_type": "execute_result"
    }
   ],
   "source": [
    "a = m.__getitem__((slice(0,10,None), slice(0,100,5), Ellipsis))\n",
    "a"
   ]
  },
  {
   "cell_type": "markdown",
   "id": "47a2b9c5",
   "metadata": {},
   "source": [
    "Python strings, tuples, and lists currently provide some support for extended slices. No part of Python or its standard library make use of multidimensional slicing or the `Ellipsis`. Those features are reserved purely for third-party libraries and frameworks. Perhaps the most common place you would see them used is in a library such as `numpy`."
   ]
  },
  {
   "cell_type": "markdown",
   "id": "b3466d43",
   "metadata": {},
   "source": [
    "### PD - 4.14 Iteration Protocol"
   ]
  },
  {
   "cell_type": "markdown",
   "id": "7623f350",
   "metadata": {},
   "source": [
    "If an instance, `obj`, supports iteration, it provides a method, `obj.__iter__()`, that returns an **iterator**. An iterator `iter`, in turn, implements a single method, `iter.__next__()`, that returns the next object or raises `StopIteration` to signal the end of iteration. These methods are used by the implementation of the `for` statement as well as other operations that implicitly perform iteration. For example, the statement `for x in s` is carried out by performing these steps:"
   ]
  },
  {
   "cell_type": "code",
   "execution_count": 45,
   "id": "59cf1c37",
   "metadata": {},
   "outputs": [
    {
     "name": "stdout",
     "output_type": "stream",
     "text": [
      "1\n",
      "2\n",
      "47\n"
     ]
    }
   ],
   "source": [
    "s = [1,2,47]\n",
    "_iter = s.__iter__()\n",
    "while True:\n",
    "    try:\n",
    "        x = _iter.__next__()\n",
    "        print (x)\n",
    "    except StopIteration:\n",
    "        break\n",
    "    # Do statements in body of for loop\n",
    "    ..."
   ]
  },
  {
   "cell_type": "markdown",
   "id": "ddce35cb",
   "metadata": {},
   "source": [
    "An object may optionally provide a reversed iterator if it implements the `__reversed__()` special method. This method should return an iterator object with the same interface as a normal iterator (that is, a `__next__()` method that raises `StopIteration` at the end of iteration). This method is used by the built-in `reversed()` function. For example:"
   ]
  },
  {
   "cell_type": "code",
   "execution_count": 46,
   "id": "efcfedfb",
   "metadata": {},
   "outputs": [
    {
     "name": "stdout",
     "output_type": "stream",
     "text": [
      "3\n",
      "2\n",
      "1\n"
     ]
    }
   ],
   "source": [
    "for x in reversed([1,2,3]):\n",
    "    print(x)"
   ]
  },
  {
   "cell_type": "markdown",
   "id": "ee88d816",
   "metadata": {},
   "source": [
    "A common implementation technique for iteration is to use a generator function involving `yield`. For example:"
   ]
  },
  {
   "cell_type": "code",
   "execution_count": 47,
   "id": "736b5a79",
   "metadata": {},
   "outputs": [
    {
     "name": "stdout",
     "output_type": "stream",
     "text": [
      "0.0\n",
      "0.1\n",
      "0.2\n",
      "0.30000000000000004\n",
      "0.4\n",
      "0.5\n",
      "0.6\n",
      "0.7\n",
      "0.7999999999999999\n",
      "0.8999999999999999\n",
      "0.9999999999999999\n"
     ]
    }
   ],
   "source": [
    "# this is how range() is implemented...\n",
    "\n",
    "class FRange:\n",
    "    def __init__(self, start, stop, step):\n",
    "        self.start = start\n",
    "        self.stop = stop\n",
    "        self.step = step\n",
    "\n",
    "    def __iter__(self):\n",
    "        x = self.start\n",
    "        while x < self.stop:\n",
    "            yield x\n",
    "            x += self.step\n",
    "\n",
    "# Example use:\n",
    "nums = FRange(0.0, 1.0, 0.1)\n",
    "for x in nums:\n",
    "    print(x)     # 0.0, 0.1, 0.2, 0.3, ..."
   ]
  },
  {
   "cell_type": "code",
   "execution_count": 48,
   "id": "4f681a23",
   "metadata": {},
   "outputs": [
    {
     "name": "stdout",
     "output_type": "stream",
     "text": [
      "<class 'range'>\n"
     ]
    }
   ],
   "source": [
    "print(type(range(47)))"
   ]
  },
  {
   "cell_type": "markdown",
   "id": "752b0653",
   "metadata": {},
   "source": [
    "This works because generator functions conform to the iteration protocol themselves. It’s a bit easier to implement an iterator in this way since you only have to worry about the `__iter__()` method. The rest of the iteration machinery is already provided by the generator."
   ]
  },
  {
   "cell_type": "markdown",
   "id": "18e3d128",
   "metadata": {},
   "source": [
    "### PD - 4.15 Attribute Protocol"
   ]
  },
  {
   "cell_type": "markdown",
   "id": "80276a72",
   "metadata": {},
   "source": [
    "The methods in Table 4.6 read, write, and delete the attributes of an object using the dot (`.`) operator and the `del` operator, respectively."
   ]
  },
  {
   "cell_type": "markdown",
   "id": "bcdca1c8",
   "metadata": {},
   "source": [
    "**Table 4.6 Methods for Attribute Access**\n",
    "\n",
    "```\n",
    "Method                          Description\n",
    "\n",
    "__getattribute__(self, name)    Returns the attribute self.name  \n",
    "__getattr__(self, name)         Returns the attribute self.name if it’s not found \n",
    "                                  through __getattribute__()\n",
    "__setattr__(self, name, value)  Sets the attribute self.name = value\n",
    "__delattr__(self, name)         Deletes the attribute del self.name\n",
    "```"
   ]
  },
  {
   "cell_type": "markdown",
   "id": "5d5ee6f6",
   "metadata": {},
   "source": [
    "Whenever an attribute is accessed, the `__getattribute__()` method is invoked. If the attribute is located, its value is returned. Otherwise, the `__getattr__()` method is invoked. The default behavior of `__getattr__()` is to raise an `AttributeError` exception. The `__setattr__()` method is always invoked when setting an attribute, and the `__delattr__()` method is always invoked when deleting an attribute.\n",
    "\n",
    "These methods are fairly blunt, in that they allow a type to completely redefine attribute access for all attributes. User-defined classes can define properties and descriptors which allow for more fine-grained control of attribute access. This is discussed further in Chapter 7."
   ]
  },
  {
   "cell_type": "markdown",
   "id": "e6933e18",
   "metadata": {},
   "source": [
    "### PD - 4.16 Function Protocol"
   ]
  },
  {
   "cell_type": "markdown",
   "id": "3f088c63",
   "metadata": {},
   "source": [
    "An object can emulate a function by providing the `__call__()` method. If an object `x` provides this method, it can be invoked like a function. That is, `x(arg1, arg2, ...)` invokes `x.__call__(arg1, arg2, ...)`.\n",
    "\n",
    "There are many built-in types that support function calls. For example, types implement `__call__()` to create new instances. Bound methods implement `__call__()` to pass the `self` argument to instance methods. Library functions such as `functools.partial()` also create objects that emulate functions."
   ]
  },
  {
   "cell_type": "markdown",
   "id": "b611bd06",
   "metadata": {},
   "source": [
    "### PD - 4.17 Context Manager Protocol"
   ]
  },
  {
   "cell_type": "markdown",
   "id": "e90cdc85",
   "metadata": {},
   "source": [
    "The with statement allows a sequence of statements to execute under the control of an instance known as a **context manager**. The general syntax is as follows:\n",
    "```\n",
    "with context [as var]:\n",
    "     statements\n",
    "```\n",
    "A context object shown here is expected to implement the methods listed in Table 4.7."
   ]
  },
  {
   "cell_type": "markdown",
   "id": "438d790a",
   "metadata": {},
   "source": [
    "**Table 4.7 Methods for Context Managers**\n",
    "\n",
    "```\n",
    "Method             Description\n",
    "\n",
    "__enter__(self)    Called when entering a new context.  \n",
    "                   The return value is placed in the variable listed with the `as`   \n",
    "                   specifier to the `with` statement.  \n",
    "\n",
    "__exit__(self, type, value, tb)\n",
    "                   Called when leaving a context. If an exception occurred, \n",
    "                   type, value, and tb have the exception type, value, and traceback  \n",
    "                   information.  \n",
    "```"
   ]
  },
  {
   "cell_type": "markdown",
   "id": "177a9d97",
   "metadata": {},
   "source": [
    "\n",
    "The `__enter__()` method is invoked when the `with` statement executes. The value returned by this method is placed into the variable specified with the optional `as var` specifier. The `__exit__()` method is called as soon as control flow leaves the block of statements associated with the `with` statement. As arguments, `__exit__()` receives the current exception type, `value`, and a traceback if an exception has been raised. If no errors are being handled, all three values are set to `None`. The `__exit__()` method should return `True` or `False` to indicate if a raised exception was handled or not. If `True` is returned, any pending exception is cleared and program execution continues normally with the first statement after the `with` block.\n",
    "\n",
    "The primary use of the context management interface is to allow for simplified resource control on objects involving system state such as open files, network connections, and locks. By implementing this interface, an object can safely clean up resources when execution leaves a context in which an object is being used. Further details are found in Chapter 3."
   ]
  },
  {
   "cell_type": "markdown",
   "id": "eb2b6132",
   "metadata": {},
   "source": [
    "### PD - 4.18 Final Words: On Being Pythonic"
   ]
  },
  {
   "cell_type": "markdown",
   "id": "7b6a4aa6",
   "metadata": {},
   "source": [
    "A commonly cited design goal is to write code that is “Pythonic.” That can mean many things, but basically it encourages you to follow established idioms used by the rest of Python. That means knowing Python’s protocols for containers, iterables, resource management, and so forth. Many of Python’s most popular frameworks use these protocols to provide good user experience. You should strive for that as well.\n",
    "\n",
    "Of the different protocols, three deserve special attention because of their widespread use. One is creating a proper object representation using the `__repr__()` method. Python programs are often debugged and experimented with at the interactive REPL. It is also common to output objects using `print()` or a logging library. If you make it easy to observe the state of your objects, it will make all of these things easier.\n",
    "\n",
    "Second, iterating over data is one of the most common programming tasks. If you’re going to do it, you should make your code work with Python’s `for` statement. Many core parts of Python and the standard library are designed to work with iterable objects. By supporting iteration in the usual way, you’ll automatically get a significant amount of extra functionality and your code will be intuitive to other programmers.\n",
    "\n",
    "Finally, use context managers and the `with` statement for the common programming pattern where statements get sandwiched between some kind of startup and teardown steps—for example, opening and closing resources, acquiring and releasing locks, subscribing and unsubscribing, and so on."
   ]
  },
  {
   "cell_type": "markdown",
   "id": "6e8d5182",
   "metadata": {},
   "source": [
    "#### The following tutorial is from the `realpython.com` (RP) web site."
   ]
  },
  {
   "cell_type": "markdown",
   "id": "3863a749",
   "metadata": {},
   "source": [
    "### RP - Regular Expressions:  Regexes in Python (1)"
   ]
  },
  {
   "cell_type": "markdown",
   "id": "5947e8b6",
   "metadata": {},
   "source": [
    "\n",
    "\n",
    "### Table of Contents\n",
    "\n",
    "1. Regexes in Python and Their Uses\n",
    "        - A (Very Brief) History of Regular Expressions\n",
    "        - The re Module\n",
    "        - How to Import re.search()\n",
    "        - First Pattern-Matching Example\n",
    "        - Python Regex Metacharacters\n",
    "2. Metacharacters Supported by the re Module\n",
    "        - Metacharacters That Match a Single Character\n",
    "        Escaping Metacharacters\n",
    "        Anchors\n",
    "        Quantifiers\n",
    "        Grouping Constructs and Backreferences\n",
    "        Lookahead and Lookbehind Assertions\n",
    "        Miscellaneous Metacharacters\n",
    "3. Modified Regular Expression Matching With Flags\n",
    "        Supported Regular Expression Flags\n",
    "        Combining <flags> Arguments in a Function Call\n",
    "        Setting and Clearing Flags Within a Regular Expression\n",
    "4. Conclusion\n",
    "\n"
   ]
  },
  {
   "cell_type": "markdown",
   "id": "c7a881d1",
   "metadata": {},
   "source": [
    "In this tutorial, you’ll explore regular expressions, also known as regexes, in Python. A regex is a special sequence of characters that defines a pattern for complex string-matching functionality.\n",
    "\n",
    "Earlier in this series, in the tutorial Strings and Character Data in Python, you learned how to define and manipulate string objects. Since then, you’ve seen some ways to determine whether two strings match each other:\n",
    "\n",
    "- You can test whether two strings are equal using the equality (==) operator.\n",
    "\n",
    "- You can test whether one string is a substring of another with the in operator or the built-in string methods `.find()` and `.index()`.\n",
    "\n",
    "String matching like this is a common task in programming, and you can get a lot done with string operators and built-in methods. At times, though, you may need more sophisticated pattern-matching capabilities.\n",
    "\n",
    "In this tutorial, you’ll learn:\n",
    "\n",
    "- How to access the re module, which implements regex matching in Python\n",
    "- How to use re.search() to match a pattern against a string\n",
    "- How to create complex matching pattern with regex metacharacters\n",
    "\n",
    "Fasten your seat belt! Regex syntax takes a little getting used to. But once you get comfortable with it, you’ll find regexes almost indispensable in your Python programming."
   ]
  },
  {
   "cell_type": "markdown",
   "id": "cff348dc",
   "metadata": {},
   "source": [
    "### RP - Regexes in Python and Their Uses"
   ]
  },
  {
   "cell_type": "markdown",
   "id": "2d3e9d65",
   "metadata": {},
   "source": [
    "Imagine you have a string object s. Now suppose you need to write Python code to find out whether s contains the substring `'123'`. There are at least a couple ways to do this. You could use the `in` operator:"
   ]
  },
  {
   "cell_type": "code",
   "execution_count": 49,
   "id": "3e1a3cc0",
   "metadata": {},
   "outputs": [
    {
     "name": "stdout",
     "output_type": "stream",
     "text": [
      "True\n"
     ]
    }
   ],
   "source": [
    "s = 'foo123bar'\n",
    "print ('123' in s) # True"
   ]
  },
  {
   "cell_type": "markdown",
   "id": "0aae63f2",
   "metadata": {},
   "source": [
    "If you want to know not only whether `'123'` exists in `s` but also where it exists, then you can use `.find()` or `.index()`. Each of these returns the character position within `s` where the substring resides:"
   ]
  },
  {
   "cell_type": "code",
   "execution_count": 50,
   "id": "4bdfcf6a",
   "metadata": {},
   "outputs": [
    {
     "name": "stdout",
     "output_type": "stream",
     "text": [
      "3\n",
      "3\n"
     ]
    }
   ],
   "source": [
    "s = 'foo123bar'\n",
    "print (s.find('123'))\n",
    "print (s.index('123'))"
   ]
  },
  {
   "cell_type": "markdown",
   "id": "92a1fe1f",
   "metadata": {},
   "source": [
    "In these examples, the matching is done by a straightforward character-by-character comparison. That will get the job done in many cases. But sometimes, the problem is more complicated than that.\n",
    "\n",
    "For example, rather than searching for a fixed substring like `'123'`, suppose you wanted to determine whether a string contains any three consecutive decimal digit characters, as in the strings `'foo123bar'`, `'foo456bar'`, `'234baz'`, and `'qux678'`.\n",
    "\n",
    "Strict character comparisons won’t cut it here. This is where **regexes** in Python come to the rescue."
   ]
  },
  {
   "cell_type": "markdown",
   "id": "c4bbcec7",
   "metadata": {},
   "source": [
    "### RP - A (Very Brief) History of Regular Expressions"
   ]
  },
  {
   "cell_type": "markdown",
   "id": "0250d74f",
   "metadata": {},
   "source": [
    "In 1951, mathematician Stephen Cole Kleene described the concept of a regular language, a language that is recognizable by a finite automaton and formally expressible using regular expressions. In the mid-1960s, computer science pioneer Ken Thompson, one of the original designers of Unix, implemented pattern matching in the QED text editor using Kleene’s notation.\n",
    "\n",
    "Since then, regexes have appeared in many programming languages, editors, and other tools as a means of determining whether a string matches a specified pattern. Python, Java, and Perl all support regex functionality, as do most Unix tools and many text editors."
   ]
  },
  {
   "cell_type": "markdown",
   "id": "8b33fc42",
   "metadata": {},
   "source": [
    "### RP - The `re` Module\n",
    "\n",
    "Regex functionality in Python resides in a module named `re`. The `re` module contains many useful functions and methods, most of which you’ll learn about in the next tutorial in this series.\n",
    "\n",
    "For now, you’ll focus predominantly on one function, `re.search()`.\n",
    "\n",
    "**`re.search(<regex>, <string>)`**\n",
    "\n",
    "- Scans a string for a regex match.\n",
    "\n",
    "`re.search(<regex>, <string>)` scans `<string>` looking for the first location where the pattern `<regex>` matches. If a match is found, then `re.search()` returns a **match object**. Otherwise, it returns `None`.\n",
    "\n",
    "`re.search()` takes an optional third `<flags>` argument that you’ll learn about at the end of this tutorial."
   ]
  },
  {
   "cell_type": "markdown",
   "id": "bf04cbca",
   "metadata": {},
   "source": [
    "### RP -  How to Import `re.search()`"
   ]
  },
  {
   "cell_type": "markdown",
   "id": "9d18edee",
   "metadata": {},
   "source": [
    "Because search() resides in the re module, you need to import it before you can use it. One way to do this is to import the entire module and then use the module name as a prefix when calling the function:\n",
    "\n",
    "`\n",
    "import re\n",
    "re.search(...)\n",
    "`\n",
    "\n",
    "Alternatively, you can import the function from the module by name and then refer to it without the module name prefix:\n",
    "\n",
    "`\n",
    "from re import search\n",
    "search(...)\n",
    "`\n",
    "\n",
    "You’ll always need to import `re.search()` by one means or another before you’ll be able to use it.\n",
    "\n",
    "The examples in the remainder of this tutorial will assume the first approach shown—importing the `re` module and then referring to the function with the module name prefix: `re.search()`. For the sake of brevity, the `import re` statement will usually be omitted, but remember that it’s always necessary.\n",
    "\n",
    "For more information on importing from modules and packages, check out Python Modules and Packages—An Introduction."
   ]
  },
  {
   "cell_type": "markdown",
   "id": "36f9ed99",
   "metadata": {},
   "source": [
    "### RP -  First Pattern-Matching Example"
   ]
  },
  {
   "cell_type": "markdown",
   "id": "0c335acd",
   "metadata": {},
   "source": [
    "Now that you know how to gain access to re.search(), you can give it a try:"
   ]
  },
  {
   "cell_type": "code",
   "execution_count": 51,
   "id": "6c2cf40b",
   "metadata": {},
   "outputs": [
    {
     "data": {
      "text/plain": [
       "<re.Match object; span=(3, 6), match='123'>"
      ]
     },
     "execution_count": 51,
     "metadata": {},
     "output_type": "execute_result"
    }
   ],
   "source": [
    "s = 'foo123bar'\n",
    "\n",
    "# One last reminder to import!\n",
    "\n",
    "import re\n",
    "re.search('123', s)"
   ]
  },
  {
   "cell_type": "markdown",
   "id": "5e6405ea",
   "metadata": {},
   "source": [
    "Here, the search pattern `<regex>` is `123` and `<string>` is `s`. The returned match object appears on line 7 (output!). Match objects contain a wealth of useful information that you’ll explore soon.\n",
    "\n",
    "For the moment, the important point is that `re.search()` did in fact return a match object rather than `None`. That tells you that it found a match. In other words, the specified `<regex>` pattern `123` is present in `s`.\n",
    "`\n",
    "A match object is __truthy__, so you can use it in a Boolean context like a conditional statement:"
   ]
  },
  {
   "cell_type": "code",
   "execution_count": 52,
   "id": "1d33151f",
   "metadata": {},
   "outputs": [
    {
     "name": "stdout",
     "output_type": "stream",
     "text": [
      "Found a match.\n"
     ]
    }
   ],
   "source": [
    "if re.search('123', s):\n",
    "    print('Found a match.')\n",
    "else:\n",
    "    print('No match.')"
   ]
  },
  {
   "cell_type": "markdown",
   "id": "40b60243",
   "metadata": {},
   "source": [
    "The interpreter displays the match object as `<_sre.SRE_Match object; span=(3, 6), match='123'>`. This contains some useful information.\n",
    "\n",
    "`span=(3, 6)` indicates the portion of `<string>` in which the match was found. This means the same thing as it would in slice notation:"
   ]
  },
  {
   "cell_type": "code",
   "execution_count": 53,
   "id": "f3a97684",
   "metadata": {},
   "outputs": [
    {
     "data": {
      "text/plain": [
       "'123'"
      ]
     },
     "execution_count": 53,
     "metadata": {},
     "output_type": "execute_result"
    }
   ],
   "source": [
    "s[3:6] # '123'"
   ]
  },
  {
   "cell_type": "markdown",
   "id": "c1e7b3aa",
   "metadata": {},
   "source": [
    "In this example, the match starts at character position 3 and extends up to but not including position 6.\n",
    "\n",
    "`match='123'` indicates which characters from `<string>` matched.\n",
    "\n",
    "This is a good start. But in this case, the `<regex>` pattern is just the plain string `'123'`. The pattern matching here is still just character-by-character comparison, pretty much the same as the `in` operator and `.find()` examples shown earlier. The `match` object helpfully tells you that the matching characters were `'123'`, but that’s not much of a revelation since those were exactly the characters you searched for.\n",
    "\n",
    "You’re just getting warmed up."
   ]
  },
  {
   "cell_type": "markdown",
   "id": "87f9bf72",
   "metadata": {},
   "source": [
    "### RP -  Python Regex Metacharacters"
   ]
  },
  {
   "cell_type": "markdown",
   "id": "98682ede",
   "metadata": {},
   "source": [
    "The real power of regex matching in Python emerges when `<regex>` contains special characters called __metacharacters__. These have a unique meaning to the regex matching engine and vastly enhance the capability of the search.\n",
    "\n",
    "Consider again the problem of how to determine whether a string contains any three consecutive decimal digit characters.\n",
    "\n",
    "In a regex, a set of characters specified in square brackets (`[]`) makes up a character class. This metacharacter sequence matches any single character that is in the class, as demonstrated in the following example:"
   ]
  },
  {
   "cell_type": "code",
   "execution_count": 54,
   "id": "d6757ce0",
   "metadata": {},
   "outputs": [
    {
     "name": "stdout",
     "output_type": "stream",
     "text": [
      "<re.Match object; span=(3, 6), match='123'>\n"
     ]
    }
   ],
   "source": [
    "import re\n",
    "s = 'foo123bar'\n",
    "print (re.search('[0-9][0-9][0-9]', s)) # <_sre.SRE_Match object; span=(3, 6), match='123'>"
   ]
  },
  {
   "cell_type": "markdown",
   "id": "59264db3",
   "metadata": {},
   "source": [
    "`[0-9]` matches any single decimal digit character—any character between `'0'` and `'9'`, inclusive. The full expression `[0-9][0-9][0-9]` matches any sequence of three decimal digit characters. In this case, s matches because it contains three consecutive decimal digit characters, `'123'`.\n",
    "\n",
    "These strings also match:"
   ]
  },
  {
   "cell_type": "code",
   "execution_count": 55,
   "id": "7a67d799",
   "metadata": {},
   "outputs": [
    {
     "data": {
      "text/plain": [
       "<re.Match object; span=(3, 6), match='456'>"
      ]
     },
     "execution_count": 55,
     "metadata": {},
     "output_type": "execute_result"
    }
   ],
   "source": [
    "re.search('[0-9][0-9][0-9]', 'foo456bar')\n",
    "# <_sre.SRE_Match object; span=(3, 6), match='456'>"
   ]
  },
  {
   "cell_type": "code",
   "execution_count": 56,
   "id": "af95194d",
   "metadata": {},
   "outputs": [
    {
     "data": {
      "text/plain": [
       "<re.Match object; span=(0, 3), match='234'>"
      ]
     },
     "execution_count": 56,
     "metadata": {},
     "output_type": "execute_result"
    }
   ],
   "source": [
    "re.search('[0-9][0-9][0-9]', '234baz')\n",
    "# <_sre.SRE_Match object; span=(0, 3), match='234'>"
   ]
  },
  {
   "cell_type": "code",
   "execution_count": 57,
   "id": "0e666dc9",
   "metadata": {},
   "outputs": [
    {
     "data": {
      "text/plain": [
       "<re.Match object; span=(3, 6), match='678'>"
      ]
     },
     "execution_count": 57,
     "metadata": {},
     "output_type": "execute_result"
    }
   ],
   "source": [
    "re.search('[0-9][0-9][0-9]', 'qux678')\n",
    "# <_sre.SRE_Match object; span=(3, 6), match='678'>"
   ]
  },
  {
   "cell_type": "markdown",
   "id": "96dae5bc",
   "metadata": {},
   "source": [
    "On the other hand, a string that doesn’t contain three consecutive digits won’t match:"
   ]
  },
  {
   "cell_type": "code",
   "execution_count": 58,
   "id": "bd052494",
   "metadata": {},
   "outputs": [
    {
     "name": "stdout",
     "output_type": "stream",
     "text": [
      "None\n"
     ]
    }
   ],
   "source": [
    "print(re.search('[0-9][0-9][0-9]', '12foo34')) # None"
   ]
  },
  {
   "cell_type": "markdown",
   "id": "5231e8d1",
   "metadata": {},
   "source": [
    "With regexes in Python, you can identify patterns in a string that you wouldn’t be able to find with the in operator or with string methods.\n",
    "\n",
    "Take a look at another regex metacharacter. The dot (.) metacharacter matches any character except a newline, so it functions like a wildcard:"
   ]
  },
  {
   "cell_type": "code",
   "execution_count": 59,
   "id": "c2ef4000",
   "metadata": {},
   "outputs": [
    {
     "name": "stdout",
     "output_type": "stream",
     "text": [
      "<re.Match object; span=(3, 6), match='123'>\n"
     ]
    }
   ],
   "source": [
    "s = 'foo123bar'\n",
    "print (re.search('1.3', s)) # <_sre.SRE_Match object; span=(3, 6), match='123'>"
   ]
  },
  {
   "cell_type": "code",
   "execution_count": 60,
   "id": "94eca4c2",
   "metadata": {},
   "outputs": [
    {
     "name": "stdout",
     "output_type": "stream",
     "text": [
      "None\n"
     ]
    }
   ],
   "source": [
    "s = 'foo13bar'\n",
    "print(re.search('1.3', s)) # None"
   ]
  },
  {
   "cell_type": "markdown",
   "id": "7c167580",
   "metadata": {},
   "source": [
    "In the first example, the regex `1.3` matches `'123'` because the `'1'` and `'3'` match literally, and the `.` matches the `'2'`. Here, you’re essentially asking, “Does `s` contain a `'1'`, then any character (except a newline), then a `'3'`?” The answer is yes for `'foo123bar'` but no for `'foo13bar'`.\n",
    "\n",
    "These examples provide a quick illustration of the power of regex metacharacters. Character class and dot are but two of the metacharacters supported by the re module. There are many more. Next, you’ll explore them fully."
   ]
  },
  {
   "cell_type": "markdown",
   "id": "3bd11584",
   "metadata": {},
   "source": [
    "### RP - Metacharacters Supported by the `re` Module"
   ]
  },
  {
   "cell_type": "markdown",
   "id": "7e14b43b",
   "metadata": {},
   "source": [
    "The following table briefly summarizes all the metacharacters supported by the re module. Some characters serve more than one purpose:\n",
    "\n",
    "**Character(s)** => **Meaning** \n",
    "\n",
    "`.` => Matches any single character except newline  \n",
    "`^` => Anchors a match at the start of a string,  \n",
    "    => or complements a character class  \n",
    "\n",
    "`$` => Anchors a match at the end of a string  \n",
    "`*` => Matches zero or more repetitions  \n",
    "`+` => Matches one or more repetitions  \n",
    "`?` => Matches zero or one repetition  \n",
    "    => Specifies the non-greedy versions of *, +, and ?  \n",
    "    => Introduces a lookahead or lookbehind assertion  \n",
    "    => Creates a named group  \n",
    "`{}` => Matches an explicitly specified number of repetitions   \n",
    "`\\`  => Escapes a metacharacter of its special meaning   \n",
    "     => Introduces a special character class   \n",
    "     => Introduces a grouping backreference\n",
    "`[]` => Specifies a character class  \n",
    "`|`  => Designates alternation   \n",
    "`()` => Creates a group   \n",
    "`:`, `#`, `=`, `!` => Designate a specialized group   \n",
    "`<>` => Creates a named group   "
   ]
  },
  {
   "cell_type": "markdown",
   "id": "1c495341",
   "metadata": {},
   "source": [
    "This may seem like an overwhelming amount of information, but don’t panic! The following sections go over each one of these in detail.\n",
    "\n",
    "The `regex` parser regards any character not listed above as an ordinary character that matches only itself. For example, in the first pattern-matching example shown above, you saw this:"
   ]
  },
  {
   "cell_type": "code",
   "execution_count": 61,
   "id": "67d379ed",
   "metadata": {},
   "outputs": [
    {
     "data": {
      "text/plain": [
       "<re.Match object; span=(3, 6), match='123'>"
      ]
     },
     "execution_count": 61,
     "metadata": {},
     "output_type": "execute_result"
    }
   ],
   "source": [
    "s = 'foo123bar'\n",
    "re.search('123', s)"
   ]
  },
  {
   "cell_type": "markdown",
   "id": "7e5cd34d",
   "metadata": {},
   "source": [
    "In this case, `123` is technically a regex, but it’s not a very interesting one because it doesn’t contain any metacharacters. It just matches the string `'123'`.\n",
    "\n",
    "Things get much more exciting when you throw metacharacters into the mix. The following sections explain in detail how you can use each metacharacter or metacharacter sequence to enhance pattern-matching functionality."
   ]
  },
  {
   "cell_type": "markdown",
   "id": "fce792bd",
   "metadata": {},
   "source": [
    "### RP - Metacharacters That Match a Single Character"
   ]
  },
  {
   "cell_type": "markdown",
   "id": "0f379df5",
   "metadata": {},
   "source": [
    "The metacharacter sequences in this section try to match a single character from the search string. When the regex parser encounters one of these metacharacter sequences, a match happens if the character at the current parsing position fits the description that the sequence describes."
   ]
  },
  {
   "cell_type": "markdown",
   "id": "9640db10",
   "metadata": {},
   "source": [
    "**`[]`**   \n",
    "\n",
    "       Specifies a specific set of characters to match."
   ]
  },
  {
   "cell_type": "markdown",
   "id": "1688ede4",
   "metadata": {},
   "source": [
    "Characters contained in square brackets (`[]`) represent a **character class** == an enumerated set of characters to match from. A character class metacharacter sequence will match any single character contained in the class.\n",
    "\n",
    "You can enumerate the characters individually like this:"
   ]
  },
  {
   "cell_type": "code",
   "execution_count": 62,
   "id": "da61dec9",
   "metadata": {},
   "outputs": [
    {
     "name": "stdout",
     "output_type": "stream",
     "text": [
      "<re.Match object; span=(3, 6), match='bar'>\n",
      "<re.Match object; span=(3, 6), match='baz'>\n"
     ]
    }
   ],
   "source": [
    "import re\n",
    "\n",
    "print (re.search('ba[artz]', 'foobarqux')) # <_sre.SRE_Match object; span=(3, 6), match='bar'>\n",
    "print (re.search('ba[artz]', 'foobazqux')) # <_sre.SRE_Match object; span=(3, 6), match='baz'>"
   ]
  },
  {
   "cell_type": "markdown",
   "id": "5ad381be",
   "metadata": {},
   "source": [
    "The metacharacter sequence `[artz]` matches any single `'a'`, `'r'`, `'t'`, or `'z'` character. In the example, the regex `ba[artz]` matches both `'bar'` and `'baz'` (and would also match `'baa'` and `'bat'`).\n",
    "\n",
    "A character class can also contain a range of characters separated by a hyphen (`-`), in which case it matches any single character within the range. For example, `[a-z]` matches any lowercase alphabetic character between `'a'` and `'z'`, inclusive:"
   ]
  },
  {
   "cell_type": "code",
   "execution_count": 63,
   "id": "c9c6bab5",
   "metadata": {},
   "outputs": [
    {
     "data": {
      "text/plain": [
       "<re.Match object; span=(3, 4), match='b'>"
      ]
     },
     "execution_count": 63,
     "metadata": {},
     "output_type": "execute_result"
    }
   ],
   "source": [
    "re.search('[a-z]', 'FOObar') # <_sre.SRE_Match object; span=(3, 4), match='b'>"
   ]
  },
  {
   "cell_type": "markdown",
   "id": "fd06f87a",
   "metadata": {},
   "source": [
    "**`[0-9]`**\n",
    "\n",
    "    Matches any digit character:"
   ]
  },
  {
   "cell_type": "code",
   "execution_count": 64,
   "id": "be2fa166",
   "metadata": {},
   "outputs": [
    {
     "data": {
      "text/plain": [
       "<re.Match object; span=(3, 5), match='12'>"
      ]
     },
     "execution_count": 64,
     "metadata": {},
     "output_type": "execute_result"
    }
   ],
   "source": [
    "re.search('[0-9][0-9]', 'foo123bar') # <_sre.SRE_Match object; span=(3, 5), match='12'>"
   ]
  },
  {
   "cell_type": "markdown",
   "id": "a4dd944b",
   "metadata": {},
   "source": [
    "In this case, `[0-9][0-9]` matches a sequence of two digits. The first portion of the string `'foo123bar'` that matches is `'12'`.\n",
    "\n",
    "`[0-9a-fA-F]` matches any hexadecimal digit character:"
   ]
  },
  {
   "cell_type": "code",
   "execution_count": 65,
   "id": "46d4a544",
   "metadata": {},
   "outputs": [
    {
     "data": {
      "text/plain": [
       "<re.Match object; span=(4, 5), match='a'>"
      ]
     },
     "execution_count": 65,
     "metadata": {},
     "output_type": "execute_result"
    }
   ],
   "source": [
    "re.search('[0-9a-fA-f]', '--- a0 ---') # <_sre.SRE_Match object; span=(4, 5), match='a'>"
   ]
  },
  {
   "cell_type": "markdown",
   "id": "290cf928",
   "metadata": {},
   "source": [
    "Here, `[0-9a-fA-F]` matches the first hexadecimal digit character in the search string, `'a'`.\n",
    "\n",
    "Note: In the above examples, the return value is always the leftmost possible match. `re.search()` scans the search string from left to right, and as soon as it locates a match for `<regex>`, it stops scanning and returns the match.\n",
    "\n",
    "You can complement a character class by specifying `^` as the first character, in which case it matches any character that isn’t in the set. In the following example, `[^0-9]` matches any character that isn’t a digit:"
   ]
  },
  {
   "cell_type": "code",
   "execution_count": 66,
   "id": "76543b6b",
   "metadata": {},
   "outputs": [
    {
     "data": {
      "text/plain": [
       "<re.Match object; span=(5, 6), match='f'>"
      ]
     },
     "execution_count": 66,
     "metadata": {},
     "output_type": "execute_result"
    }
   ],
   "source": [
    "re.search('[^0-9]', '12345foo') # <_sre.SRE_Match object; span=(5, 6), match='f'>"
   ]
  },
  {
   "cell_type": "markdown",
   "id": "25f352e9",
   "metadata": {},
   "source": [
    "Here, the match object indicates that the first character in the string that isn’t a digit is `'f'`.\n",
    "\n",
    "If a `^` character appears in a character class but isn’t the first character, then it has no special meaning and matches a literal `'^'` character:"
   ]
  },
  {
   "cell_type": "code",
   "execution_count": 67,
   "id": "ac9c9852",
   "metadata": {},
   "outputs": [
    {
     "data": {
      "text/plain": [
       "<re.Match object; span=(3, 4), match='^'>"
      ]
     },
     "execution_count": 67,
     "metadata": {},
     "output_type": "execute_result"
    }
   ],
   "source": [
    "re.search('[#:^]', 'foo^bar:baz#qux') # <_sre.SRE_Match object; span=(3, 4), match='^'>"
   ]
  },
  {
   "cell_type": "markdown",
   "id": "47d1cb78",
   "metadata": {},
   "source": [
    "As you’ve seen, you can specify a range of characters in a character class by separating characters with a hyphen. What if you want the character class to include a literal hyphen character? You can place it as the first or last character or escape it with a backslash (`\\`):"
   ]
  },
  {
   "cell_type": "code",
   "execution_count": 68,
   "id": "c5bbd979",
   "metadata": {},
   "outputs": [
    {
     "name": "stdout",
     "output_type": "stream",
     "text": [
      "<re.Match object; span=(3, 4), match='-'>\n",
      "<re.Match object; span=(3, 4), match='-'>\n",
      "<re.Match object; span=(3, 4), match='-'>\n"
     ]
    }
   ],
   "source": [
    "print(re.search('[-abc]', '123-456')) # <_sre.SRE_Match object; span=(3, 4), match='-'>\n",
    "print(re.search('[abc-]', '123-456')) # <_sre.SRE_Match object; span=(3, 4), match='-'>\n",
    "print(re.search('[ab\\-c]', '123-456')) # <_sre.SRE_Match object; span=(3, 4), match='-'>"
   ]
  },
  {
   "cell_type": "markdown",
   "id": "5b779494",
   "metadata": {},
   "source": [
    "If you want to include a literal `']'` in a character class, then you can place it as the first character or escape it with backslash:"
   ]
  },
  {
   "cell_type": "code",
   "execution_count": 69,
   "id": "a13eb952",
   "metadata": {},
   "outputs": [
    {
     "name": "stdout",
     "output_type": "stream",
     "text": [
      "<re.Match object; span=(5, 6), match=']'>\n",
      "<re.Match object; span=(5, 6), match=']'>\n"
     ]
    }
   ],
   "source": [
    "print(re.search('[]]', 'foo[1]')) # <_sre.SRE_Match object; span=(5, 6), match=']'>\n",
    "print(re.search('[ab\\]cd]', 'foo[1]')) # <_sre.SRE_Match object; span=(5, 6), match=']'>"
   ]
  },
  {
   "cell_type": "markdown",
   "id": "b4afb422",
   "metadata": {},
   "source": [
    "Other regex metacharacters lose their special meaning inside a character class:"
   ]
  },
  {
   "cell_type": "code",
   "execution_count": 70,
   "id": "44cd059c",
   "metadata": {},
   "outputs": [
    {
     "name": "stdout",
     "output_type": "stream",
     "text": [
      "<re.Match object; span=(3, 4), match='*'>\n",
      "<re.Match object; span=(3, 4), match='+'>\n"
     ]
    }
   ],
   "source": [
    "print (re.search('[)*+|]', '123*456')) # <_sre.SRE_Match object; span=(3, 4), match='*'>\n",
    "print(re.search('[)*+|]', '123+456')) # <_sre.SRE_Match object; span=(3, 4), match='+'>"
   ]
  },
  {
   "cell_type": "markdown",
   "id": "1ed77793",
   "metadata": {},
   "source": [
    "As you saw in the table above, `*` and `+` have special meanings in a regex in Python. They designate repetition, which you’ll learn more about shortly. But in this example, they’re inside a character class, so they match themselves literally."
   ]
  },
  {
   "cell_type": "markdown",
   "id": "6bcff7ae",
   "metadata": {},
   "source": [
    "**dot (`.`)**\n",
    "\n",
    "    Specifies a wildcard."
   ]
  },
  {
   "cell_type": "markdown",
   "id": "2c7fe0d3",
   "metadata": {},
   "source": [
    "The `.` metacharacter matches any single character except a newline:"
   ]
  },
  {
   "cell_type": "code",
   "execution_count": 71,
   "id": "f5aacc29",
   "metadata": {},
   "outputs": [
    {
     "name": "stdout",
     "output_type": "stream",
     "text": [
      "<re.Match object; span=(0, 7), match='fooxbar'>\n",
      "None\n",
      "None\n"
     ]
    }
   ],
   "source": [
    "print(re.search('foo.bar', 'fooxbar')) # <_sre.SRE_Match object; span=(0, 7), match='fooxbar'>\n",
    "print(re.search('foo.bar', 'foobar')) # None\n",
    "print(re.search('foo.bar', 'foo\\nbar')) # None"
   ]
  },
  {
   "cell_type": "markdown",
   "id": "5fb5b324",
   "metadata": {},
   "source": [
    "As a regex, `foo.bar` essentially means the characters `'foo'`, then any character except newline, then the characters `'bar'`. The first string shown above, `'fooxbar'`, fits the bill because the `.` metacharacter matches the `'x'`.\n",
    "\n",
    "The second and third strings fail to match. In the last case, although there’s a character between `'foo'` and `'bar'`, it’s a newline, and by default, the `.` metacharacter doesn’t match a newline. There is, however, a way to force `.` to match a newline, which you’ll learn about at the end of this tutorial."
   ]
  },
  {
   "cell_type": "markdown",
   "id": "3938eae4",
   "metadata": {},
   "source": [
    "**`\\w`** or **`\\W`**\n",
    "\n",
    "    Match based on whether a character is a word character."
   ]
  },
  {
   "cell_type": "markdown",
   "id": "01f723a6",
   "metadata": {},
   "source": [
    "`\\w` matches any alphanumeric word character. Word characters are uppercase and lowercase letters, digits, and the underscore (`_`) character, so `\\w` is essentially shorthand for `[a-zA-Z0-9_]`:"
   ]
  },
  {
   "cell_type": "code",
   "execution_count": 72,
   "id": "55dae16b",
   "metadata": {},
   "outputs": [
    {
     "name": "stdout",
     "output_type": "stream",
     "text": [
      "<re.Match object; span=(3, 4), match='a'>\n",
      "<re.Match object; span=(3, 4), match='a'>\n"
     ]
    }
   ],
   "source": [
    "print(re.search('\\w', '#(.a$@&')) # <_sre.SRE_Match object; span=(3, 4), match='a'>\n",
    "print(re.search('[a-zA-Z0-9_]', '#(.a$@&')) # <_sre.SRE_Match object; span=(3, 4), match='a'>"
   ]
  },
  {
   "cell_type": "markdown",
   "id": "de05969b",
   "metadata": {},
   "source": [
    "In this case, the first word character in the string `'#(.a$@&'` is `'a'`.\n",
    "\n",
    "`\\W` is the opposite. It matches any non-word character and is equivalent to `[^a-zA-Z0-9_]`:"
   ]
  },
  {
   "cell_type": "code",
   "execution_count": 73,
   "id": "86e96ff7",
   "metadata": {},
   "outputs": [
    {
     "name": "stdout",
     "output_type": "stream",
     "text": [
      "<re.Match object; span=(3, 4), match='*'>\n",
      "<re.Match object; span=(3, 4), match='*'>\n"
     ]
    }
   ],
   "source": [
    "print(re.search('\\W', 'a_1*3Qb')) # <_sre.SRE_Match object; span=(3, 4), match='*'>\n",
    "print(re.search('[^a-zA-Z0-9_]', 'a_1*3Qb')) # <_sre.SRE_Match object; span=(3, 4), match='*'>"
   ]
  },
  {
   "cell_type": "markdown",
   "id": "cc01b710",
   "metadata": {},
   "source": [
    "Here, the first non-word character in `'a_1*3!b'` is `'*'`."
   ]
  },
  {
   "cell_type": "markdown",
   "id": "debb3c00",
   "metadata": {},
   "source": [
    "**`\\d`** or **`\\D`**\n",
    "\n",
    "    Match based on whether a character is a decimal digit."
   ]
  },
  {
   "cell_type": "markdown",
   "id": "dfd3bb23",
   "metadata": {},
   "source": [
    "`\\d` matches any decimal digit character. `\\D` is the opposite. It matches any character that **isn’t** a decimal digit:"
   ]
  },
  {
   "cell_type": "code",
   "execution_count": 74,
   "id": "cf3da2b6",
   "metadata": {},
   "outputs": [
    {
     "name": "stdout",
     "output_type": "stream",
     "text": [
      "<re.Match object; span=(3, 4), match='4'>\n",
      "<re.Match object; span=(3, 4), match='Q'>\n"
     ]
    }
   ],
   "source": [
    "print(re.search('\\d', 'abc4def')) # <_sre.SRE_Match object; span=(3, 4), match='4'>\n",
    "print(re.search('\\D', '234Q678')) # <_sre.SRE_Match object; span=(3, 4), match='Q'>"
   ]
  },
  {
   "cell_type": "markdown",
   "id": "75561be3",
   "metadata": {},
   "source": [
    "`\\d` is essentially equivalent to `[0-9]`, and `\\D` is equivalent to `[^0-9]`."
   ]
  },
  {
   "cell_type": "markdown",
   "id": "5469126d",
   "metadata": {},
   "source": [
    "**`\\s`** or **`\\S`**\n",
    "\n",
    "    Match based on whether a character represents whitespace."
   ]
  },
  {
   "cell_type": "markdown",
   "id": "87717e82",
   "metadata": {},
   "source": [
    "`\\s` matches any whitespace character:"
   ]
  },
  {
   "cell_type": "code",
   "execution_count": 75,
   "id": "46fe8c30",
   "metadata": {},
   "outputs": [
    {
     "name": "stdout",
     "output_type": "stream",
     "text": [
      "<re.Match object; span=(3, 4), match='\\n'>\n"
     ]
    }
   ],
   "source": [
    "print(re.search('\\s', 'foo\\nbar baz')) # <_sre.SRE_Match object; span=(3, 4), match='\\n'>"
   ]
  },
  {
   "cell_type": "markdown",
   "id": "2ed87420",
   "metadata": {},
   "source": [
    "Note that, unlike the dot wildcard metacharacter, `\\s` does match a newline character.\n",
    "\n",
    "`\\S` is the opposite of `\\s`. It matches any character that isn’t whitespace:"
   ]
  },
  {
   "cell_type": "code",
   "execution_count": 76,
   "id": "26dd4e49",
   "metadata": {},
   "outputs": [
    {
     "name": "stdout",
     "output_type": "stream",
     "text": [
      "<re.Match object; span=(4, 5), match='f'>\n"
     ]
    }
   ],
   "source": [
    "print(re.search('\\S', '  \\n foo  \\n  ')) # <_sre.SRE_Match object; span=(4, 5), match='f'>"
   ]
  },
  {
   "cell_type": "markdown",
   "id": "d8c6a8c0",
   "metadata": {},
   "source": [
    "Again, `\\s` and `\\S` consider a newline to be whitespace. In the example above, the first non-whitespace character is `'f'`.\n",
    "\n",
    "The character class sequences `\\w`, `\\W`, `\\d`, `\\D`, `\\s`, and `\\S` can appear inside a square bracket character class as well:"
   ]
  },
  {
   "cell_type": "code",
   "execution_count": 77,
   "id": "a117f7e0",
   "metadata": {},
   "outputs": [
    {
     "name": "stdout",
     "output_type": "stream",
     "text": [
      "<re.Match object; span=(3, 4), match='3'>\n",
      "<re.Match object; span=(3, 4), match='a'>\n",
      "<re.Match object; span=(3, 4), match=' '>\n"
     ]
    }
   ],
   "source": [
    "print(re.search('[\\d\\w\\s]', '---3---')) # <_sre.SRE_Match object; span=(3, 4), match='3'>\n",
    "print(re.search('[\\d\\w\\s]', '---a---')) # <_sre.SRE_Match object; span=(3, 4), match='a'>\n",
    "print(re.search('[\\d\\w\\s]', '--- ---')) # <_sre.SRE_Match object; span=(3, 4), match=' '>"
   ]
  },
  {
   "cell_type": "markdown",
   "id": "e1844024",
   "metadata": {},
   "source": [
    "In this case, `[\\d\\w\\s]` matches any digit, word, or whitespace character. And since `\\w` includes `\\d`, the same character class could also be expressed slightly shorter as `[\\w\\s]`."
   ]
  },
  {
   "cell_type": "markdown",
   "id": "72415af2",
   "metadata": {},
   "source": [
    "### RP - Escaping Metacharacters"
   ]
  },
  {
   "cell_type": "markdown",
   "id": "c1be50fa",
   "metadata": {},
   "source": [
    "Occasionally, you’ll want to include a metacharacter in your regex, except you won’t want it to carry its special meaning. Instead, you’ll want it to represent itself as a literal character."
   ]
  },
  {
   "cell_type": "markdown",
   "id": "4e9091d5",
   "metadata": {},
   "source": [
    "**backslash (`\\`)**\n",
    "\n",
    "    Removes the special meaning of a metacharacter."
   ]
  },
  {
   "cell_type": "markdown",
   "id": "08c738da",
   "metadata": {},
   "source": [
    "As you’ve just seen, the backslash character can introduce special character classes like word, digit, and whitespace. There are also special metacharacter sequences called anchors that begin with a backslash, which you’ll learn about below.\n",
    "\n",
    "When it’s not serving either of these purposes, the backslash escapes metacharacters. A metacharacter preceded by a backslash loses its special meaning and matches the literal character instead. Consider the following examples:"
   ]
  },
  {
   "cell_type": "code",
   "execution_count": 78,
   "id": "288eb3e5",
   "metadata": {},
   "outputs": [
    {
     "name": "stdout",
     "output_type": "stream",
     "text": [
      "<re.Match object; span=(0, 1), match='f'>\n",
      "<re.Match object; span=(3, 4), match='.'>\n"
     ]
    }
   ],
   "source": [
    "print(re.search('.', 'foo.bar')) # <_sre.SRE_Match object; span=(0, 1), match='f'>\n",
    "print(re.search('\\.', 'foo.bar')) # <_sre.SRE_Match object; span=(3, 4), match='.'>"
   ]
  },
  {
   "cell_type": "markdown",
   "id": "38fcc0a8",
   "metadata": {},
   "source": [
    "In the `<regex>` on line 1, the dot (`.`) functions as a wildcard metacharacter, which matches the first character in the string (`'f'`). The `.` character in the `<regex>` on line 4 is escaped by a backslash, so it isn’t a wildcard. It’s interpreted literally and matches the `'.'` at index 3 of the search string.\n",
    "\n",
    "Using backslashes for escaping can get messy. Suppose you have a string that contains a single backslash:"
   ]
  },
  {
   "cell_type": "code",
   "execution_count": 79,
   "id": "a609487c",
   "metadata": {},
   "outputs": [
    {
     "name": "stdout",
     "output_type": "stream",
     "text": [
      "foo\\bar\n"
     ]
    }
   ],
   "source": [
    "s = r'foo\\bar'\n",
    "print(s) # foo\\bar"
   ]
  },
  {
   "cell_type": "markdown",
   "id": "0748b414",
   "metadata": {},
   "source": [
    "Now suppose you want to create a `<regex>` that will match the backslash between `'foo'` and `'bar'`. The backslash is itself a special character in a regex, so to specify a literal backslash, you need to escape it with another backslash. If that’s that case, then the following should work: `re.search('\\\\', s)`\n",
    "\n",
    "But... not quite. See what you get if you try it:"
   ]
  },
  {
   "cell_type": "code",
   "execution_count": 80,
   "id": "06534d0e",
   "metadata": {
    "scrolled": true
   },
   "outputs": [
    {
     "ename": "error",
     "evalue": "bad escape (end of pattern) at position 0",
     "output_type": "error",
     "traceback": [
      "\u001b[0;31m---------------------------------------------------------------------------\u001b[0m",
      "\u001b[0;31merror\u001b[0m                                     Traceback (most recent call last)",
      "Cell \u001b[0;32mIn[80], line 1\u001b[0m\n\u001b[0;32m----> 1\u001b[0m \u001b[43mre\u001b[49m\u001b[38;5;241;43m.\u001b[39;49m\u001b[43msearch\u001b[49m\u001b[43m(\u001b[49m\u001b[38;5;124;43m'\u001b[39;49m\u001b[38;5;130;43;01m\\\\\u001b[39;49;00m\u001b[38;5;124;43m'\u001b[39;49m\u001b[43m,\u001b[49m\u001b[43m \u001b[49m\u001b[43ms\u001b[49m\u001b[43m)\u001b[49m\n",
      "File \u001b[0;32m~/Downloads/yes/lib/python3.9/re.py:201\u001b[0m, in \u001b[0;36msearch\u001b[0;34m(pattern, string, flags)\u001b[0m\n\u001b[1;32m    198\u001b[0m \u001b[38;5;28;01mdef\u001b[39;00m \u001b[38;5;21msearch\u001b[39m(pattern, string, flags\u001b[38;5;241m=\u001b[39m\u001b[38;5;241m0\u001b[39m):\n\u001b[1;32m    199\u001b[0m \u001b[38;5;250m    \u001b[39m\u001b[38;5;124;03m\"\"\"Scan through string looking for a match to the pattern, returning\u001b[39;00m\n\u001b[1;32m    200\u001b[0m \u001b[38;5;124;03m    a Match object, or None if no match was found.\"\"\"\u001b[39;00m\n\u001b[0;32m--> 201\u001b[0m     \u001b[38;5;28;01mreturn\u001b[39;00m \u001b[43m_compile\u001b[49m\u001b[43m(\u001b[49m\u001b[43mpattern\u001b[49m\u001b[43m,\u001b[49m\u001b[43m \u001b[49m\u001b[43mflags\u001b[49m\u001b[43m)\u001b[49m\u001b[38;5;241m.\u001b[39msearch(string)\n",
      "File \u001b[0;32m~/Downloads/yes/lib/python3.9/re.py:304\u001b[0m, in \u001b[0;36m_compile\u001b[0;34m(pattern, flags)\u001b[0m\n\u001b[1;32m    302\u001b[0m \u001b[38;5;28;01mif\u001b[39;00m \u001b[38;5;129;01mnot\u001b[39;00m sre_compile\u001b[38;5;241m.\u001b[39misstring(pattern):\n\u001b[1;32m    303\u001b[0m     \u001b[38;5;28;01mraise\u001b[39;00m \u001b[38;5;167;01mTypeError\u001b[39;00m(\u001b[38;5;124m\"\u001b[39m\u001b[38;5;124mfirst argument must be string or compiled pattern\u001b[39m\u001b[38;5;124m\"\u001b[39m)\n\u001b[0;32m--> 304\u001b[0m p \u001b[38;5;241m=\u001b[39m \u001b[43msre_compile\u001b[49m\u001b[38;5;241;43m.\u001b[39;49m\u001b[43mcompile\u001b[49m\u001b[43m(\u001b[49m\u001b[43mpattern\u001b[49m\u001b[43m,\u001b[49m\u001b[43m \u001b[49m\u001b[43mflags\u001b[49m\u001b[43m)\u001b[49m\n\u001b[1;32m    305\u001b[0m \u001b[38;5;28;01mif\u001b[39;00m \u001b[38;5;129;01mnot\u001b[39;00m (flags \u001b[38;5;241m&\u001b[39m DEBUG):\n\u001b[1;32m    306\u001b[0m     \u001b[38;5;28;01mif\u001b[39;00m \u001b[38;5;28mlen\u001b[39m(_cache) \u001b[38;5;241m>\u001b[39m\u001b[38;5;241m=\u001b[39m _MAXCACHE:\n\u001b[1;32m    307\u001b[0m         \u001b[38;5;66;03m# Drop the oldest item\u001b[39;00m\n",
      "File \u001b[0;32m~/Downloads/yes/lib/python3.9/sre_compile.py:788\u001b[0m, in \u001b[0;36mcompile\u001b[0;34m(p, flags)\u001b[0m\n\u001b[1;32m    786\u001b[0m \u001b[38;5;28;01mif\u001b[39;00m isstring(p):\n\u001b[1;32m    787\u001b[0m     pattern \u001b[38;5;241m=\u001b[39m p\n\u001b[0;32m--> 788\u001b[0m     p \u001b[38;5;241m=\u001b[39m \u001b[43msre_parse\u001b[49m\u001b[38;5;241;43m.\u001b[39;49m\u001b[43mparse\u001b[49m\u001b[43m(\u001b[49m\u001b[43mp\u001b[49m\u001b[43m,\u001b[49m\u001b[43m \u001b[49m\u001b[43mflags\u001b[49m\u001b[43m)\u001b[49m\n\u001b[1;32m    789\u001b[0m \u001b[38;5;28;01melse\u001b[39;00m:\n\u001b[1;32m    790\u001b[0m     pattern \u001b[38;5;241m=\u001b[39m \u001b[38;5;28;01mNone\u001b[39;00m\n",
      "File \u001b[0;32m~/Downloads/yes/lib/python3.9/sre_parse.py:947\u001b[0m, in \u001b[0;36mparse\u001b[0;34m(str, flags, state)\u001b[0m\n\u001b[1;32m    944\u001b[0m \u001b[38;5;28;01mdef\u001b[39;00m \u001b[38;5;21mparse\u001b[39m(\u001b[38;5;28mstr\u001b[39m, flags\u001b[38;5;241m=\u001b[39m\u001b[38;5;241m0\u001b[39m, state\u001b[38;5;241m=\u001b[39m\u001b[38;5;28;01mNone\u001b[39;00m):\n\u001b[1;32m    945\u001b[0m     \u001b[38;5;66;03m# parse 're' pattern into list of (opcode, argument) tuples\u001b[39;00m\n\u001b[0;32m--> 947\u001b[0m     source \u001b[38;5;241m=\u001b[39m \u001b[43mTokenizer\u001b[49m\u001b[43m(\u001b[49m\u001b[38;5;28;43mstr\u001b[39;49m\u001b[43m)\u001b[49m\n\u001b[1;32m    949\u001b[0m     \u001b[38;5;28;01mif\u001b[39;00m state \u001b[38;5;129;01mis\u001b[39;00m \u001b[38;5;28;01mNone\u001b[39;00m:\n\u001b[1;32m    950\u001b[0m         state \u001b[38;5;241m=\u001b[39m State()\n",
      "File \u001b[0;32m~/Downloads/yes/lib/python3.9/sre_parse.py:233\u001b[0m, in \u001b[0;36mTokenizer.__init__\u001b[0;34m(self, string)\u001b[0m\n\u001b[1;32m    231\u001b[0m \u001b[38;5;28mself\u001b[39m\u001b[38;5;241m.\u001b[39mindex \u001b[38;5;241m=\u001b[39m \u001b[38;5;241m0\u001b[39m\n\u001b[1;32m    232\u001b[0m \u001b[38;5;28mself\u001b[39m\u001b[38;5;241m.\u001b[39mnext \u001b[38;5;241m=\u001b[39m \u001b[38;5;28;01mNone\u001b[39;00m\n\u001b[0;32m--> 233\u001b[0m \u001b[38;5;28;43mself\u001b[39;49m\u001b[38;5;241;43m.\u001b[39;49m\u001b[43m__next\u001b[49m\u001b[43m(\u001b[49m\u001b[43m)\u001b[49m\n",
      "File \u001b[0;32m~/Downloads/yes/lib/python3.9/sre_parse.py:246\u001b[0m, in \u001b[0;36mTokenizer.__next\u001b[0;34m(self)\u001b[0m\n\u001b[1;32m    244\u001b[0m         char \u001b[38;5;241m+\u001b[39m\u001b[38;5;241m=\u001b[39m \u001b[38;5;28mself\u001b[39m\u001b[38;5;241m.\u001b[39mdecoded_string[index]\n\u001b[1;32m    245\u001b[0m     \u001b[38;5;28;01mexcept\u001b[39;00m \u001b[38;5;167;01mIndexError\u001b[39;00m:\n\u001b[0;32m--> 246\u001b[0m         \u001b[38;5;28;01mraise\u001b[39;00m error(\u001b[38;5;124m\"\u001b[39m\u001b[38;5;124mbad escape (end of pattern)\u001b[39m\u001b[38;5;124m\"\u001b[39m,\n\u001b[1;32m    247\u001b[0m                     \u001b[38;5;28mself\u001b[39m\u001b[38;5;241m.\u001b[39mstring, \u001b[38;5;28mlen\u001b[39m(\u001b[38;5;28mself\u001b[39m\u001b[38;5;241m.\u001b[39mstring) \u001b[38;5;241m-\u001b[39m \u001b[38;5;241m1\u001b[39m) \u001b[38;5;28;01mfrom\u001b[39;00m \u001b[38;5;28mNone\u001b[39m\n\u001b[1;32m    248\u001b[0m \u001b[38;5;28mself\u001b[39m\u001b[38;5;241m.\u001b[39mindex \u001b[38;5;241m=\u001b[39m index \u001b[38;5;241m+\u001b[39m \u001b[38;5;241m1\u001b[39m\n\u001b[1;32m    249\u001b[0m \u001b[38;5;28mself\u001b[39m\u001b[38;5;241m.\u001b[39mnext \u001b[38;5;241m=\u001b[39m char\n",
      "\u001b[0;31merror\u001b[0m: bad escape (end of pattern) at position 0"
     ]
    }
   ],
   "source": [
    "re.search('\\\\', s)"
   ]
  },
  {
   "cell_type": "markdown",
   "id": "33a4fb60",
   "metadata": {},
   "source": [
    "Oops. What happened?\n",
    "\n",
    "The problem here is that the backslash escaping happens twice, first by the Python interpreter on the string literal and then again by the regex parser on the regex it receives.\n",
    "\n",
    "Here’s the sequence of events:\n",
    "\n",
    "1. The Python interpreter is the first to process the string literal `'\\\\'`. It interprets that as an escaped backslash and passes only a single backslash to `re.search()`.\n",
    "2. The `regex` parser receives just a single backslash, which isn’t a meaningful regex, so the messy error ensues.\n",
    "\n",
    "There are two ways around this. First, you can escape both backslashes in the original string literal:"
   ]
  },
  {
   "cell_type": "code",
   "execution_count": null,
   "id": "2a202217",
   "metadata": {},
   "outputs": [],
   "source": [
    "print(re.search('\\\\\\\\', s)) # <_sre.SRE_Match object; span=(3, 4), match='\\\\'>)"
   ]
  },
  {
   "cell_type": "markdown",
   "id": "ef27085b",
   "metadata": {},
   "source": [
    "Doing so causes the following to happen:\n",
    "\n",
    "1. The interpreter sees `'\\\\\\\\'` as a pair of escaped backslashes. It reduces each pair to a single backslash and passes `'\\\\'` to the regex parser.\n",
    "2. The regex parser then sees `\\\\` as one escaped backslash. As a `<regex>`, that matches a single backslash character. You can see from the match object that it matched the backslash at index 3 in `s` as intended. It’s cumbersome, but it works.\n",
    "\n",
    "The second, and probably cleaner, way to handle this is to specify the <regex> using a raw string:"
   ]
  },
  {
   "cell_type": "code",
   "execution_count": null,
   "id": "b67ecda3",
   "metadata": {},
   "outputs": [],
   "source": [
    "print(re.search(r'\\\\', s)) # <_sre.SRE_Match object; span=(3, 4), match='\\\\'>"
   ]
  },
  {
   "cell_type": "markdown",
   "id": "4dac4c4c",
   "metadata": {},
   "source": [
    "This suppresses the escaping at the interpreter level. The string `'\\\\'` gets passed unchanged to the regex parser, which again sees one escaped backslash as desired.\n",
    "\n",
    "It’s good practice to use a raw string to specify a regex in Python whenever it contains backslashes."
   ]
  },
  {
   "cell_type": "markdown",
   "id": "c2727729",
   "metadata": {},
   "source": [
    "### RP - Anchors"
   ]
  },
  {
   "cell_type": "markdown",
   "id": "42270d02",
   "metadata": {},
   "source": [
    "**Anchors** are zero-width matches. They don’t match any actual characters in the search string, and they don’t consume any of the search string during parsing. Instead, an anchor dictates a particular location in the search string where a match must occur."
   ]
  },
  {
   "cell_type": "markdown",
   "id": "b96afa25",
   "metadata": {},
   "source": [
    "**`^`** or **`\\A`**\n",
    "\n",
    "    Anchor a match to the start of `<string>`.\n",
    "\n",
    "When the regex parser encounters `^` or `\\A`, the parser’s current position must be at the beginning of the search string for it to find a match.\n",
    "\n",
    "In other words, regex `^foo` stipulates that `'foo'` must be present not just any old place in the search string, but at the beginning:"
   ]
  },
  {
   "cell_type": "code",
   "execution_count": null,
   "id": "25b76b62",
   "metadata": {},
   "outputs": [],
   "source": [
    "print (re.search('^foo', 'foobar')) # <_sre.SRE_Match object; span=(0, 3), match='foo'>\n",
    "print(re.search('^foo', 'barfoo')) # None"
   ]
  },
  {
   "cell_type": "markdown",
   "id": "fd579a17",
   "metadata": {},
   "source": [
    "`\\A` functions similarly:"
   ]
  },
  {
   "cell_type": "code",
   "execution_count": null,
   "id": "aaa8eafd",
   "metadata": {},
   "outputs": [],
   "source": [
    "print(re.search('\\Afoo', 'foobar')) # <_sre.SRE_Match object; span=(0, 3), match='foo'>\n",
    "print(re.search('\\Afoo', 'barfoo')) # None"
   ]
  },
  {
   "cell_type": "markdown",
   "id": "2c6a7807",
   "metadata": {},
   "source": [
    "`^` and `\\A` behave slightly differently from each other in **MULTILINE** mode. You’ll learn more about MULTILINE mode below in the section on flags."
   ]
  },
  {
   "cell_type": "markdown",
   "id": "eea04865",
   "metadata": {},
   "source": [
    "**`$`** or **`\\Z`**\n",
    "\n",
    "    Anchor a match to the end of <string>.\n",
    "\n",
    "When the regex parser encounters `$` or `\\Z`, the parser’s current position must be at the end of the search string for it to find a match. Whatever precedes `$` or `\\Z` must constitute the end of the search string:"
   ]
  },
  {
   "cell_type": "code",
   "execution_count": null,
   "id": "20c728c8",
   "metadata": {},
   "outputs": [],
   "source": [
    "print (re.search('bar$', 'foobar')) # <_sre.SRE_Match object; span=(3, 6), match='bar'>\n",
    "print (re.search('bar$', 'barfoo'))  # None\n",
    "print (re.search('bar\\Z', 'foobar')) # <_sre.SRE_Match object; span=(3, 6), match='bar'>\n",
    "print(re.search('bar\\Z', 'barfoo')) # None"
   ]
  },
  {
   "cell_type": "markdown",
   "id": "a7518418",
   "metadata": {},
   "source": [
    "As a special case, `$` (but not `\\Z`) also matches just before a single newline at the end of the search string:"
   ]
  },
  {
   "cell_type": "markdown",
   "id": "420310c1",
   "metadata": {},
   "source": [
    ">>> re.search('bar$', 'foobar\\n')\n",
    "<_sre.SRE_Match object; span=(3, 6), match='bar'>"
   ]
  },
  {
   "cell_type": "markdown",
   "id": "1d113298",
   "metadata": {},
   "source": [
    "In this example, 'bar' isn’t technically at the end of the search string because it’s followed by one additional newline character. But the regex parser lets it slide and calls it a match anyway. This exception doesn’t apply to \\Z.\n",
    "\n",
    "`$` and `\\Z` behave slightly differently from each other in `MULTILINE` mode. See the section below on flags for more information on MULTILINE mode.\n",
    "\n",
    "**`\\b`**\n",
    "\n",
    "    Anchors a match to a word boundary.\n",
    "\n",
    "`\\b` asserts that the regex parser’s current position must be at the beginning or end of a word. A word consists of a sequence of alphanumeric characters or underscores (`[a-zA-Z0-9_]`), the same as for the `\\w` character class:"
   ]
  },
  {
   "cell_type": "code",
   "execution_count": null,
   "id": "91646d95",
   "metadata": {},
   "outputs": [],
   "source": [
    "print(re.search(r'\\bbar', 'foo bar') ) # 1 <_sre.SRE_Match object; span=(4, 7), match='bar'>"
   ]
  },
  {
   "cell_type": "code",
   "execution_count": null,
   "id": "01765a12",
   "metadata": {},
   "outputs": [],
   "source": [
    "print(re.search(r'\\bbar', 'foo.bar')) # 2 <_sre.SRE_Match object; span=(4, 7), match='bar'>"
   ]
  },
  {
   "cell_type": "code",
   "execution_count": null,
   "id": "438ee3ce",
   "metadata": {},
   "outputs": [],
   "source": [
    "print(re.search(r'\\bbar', 'foobar')) # 3 None"
   ]
  },
  {
   "cell_type": "code",
   "execution_count": null,
   "id": "897d854f",
   "metadata": {},
   "outputs": [],
   "source": [
    "print(re.search(r'foo\\b', 'foo bar')) # 4 <_sre.SRE_Match object; span=(0, 3), match='foo'>"
   ]
  },
  {
   "cell_type": "code",
   "execution_count": null,
   "id": "c8f0dd2b",
   "metadata": {},
   "outputs": [],
   "source": [
    "print(re.search(r'foo\\b', 'foo.bar')) # <_sre.SRE_Match object; span=(0, 3), match='foo'>"
   ]
  },
  {
   "cell_type": "code",
   "execution_count": null,
   "id": "f189f682",
   "metadata": {},
   "outputs": [],
   "source": [
    "print(re.search(r'foo\\b', 'foobar')) # None"
   ]
  },
  {
   "cell_type": "markdown",
   "id": "f52b0e2c",
   "metadata": {},
   "source": [
    "In the above examples, a match happens on lines 1 and 3 because there’s a word boundary at the start of `'bar'`. This isn’t the case on line 6, so the match fails there.\n",
    "\n",
    "Similarly, there are matches on lines 9 and 11 because a word boundary exists at the end of `'foo'`, but not on line 14.\n",
    "\n",
    "Using the `\\b` anchor on both ends of the `<regex>` will cause it to match when it’s present in the search string as a whole word:"
   ]
  },
  {
   "cell_type": "markdown",
   "id": "65487f4b",
   "metadata": {},
   "source": [
    ">>> re.search(r'\\bbar\\b', 'foo bar baz')\n",
    "<_sre.SRE_Match object; span=(4, 7), match='bar'>\n",
    ">>> re.search(r'\\bbar\\b', 'foo(bar)baz')\n",
    "<_sre.SRE_Match object; span=(4, 7), match='bar'>\n",
    "\n",
    ">>> print(re.search(r'\\bbar\\b', 'foobarbaz'))\n",
    "None"
   ]
  },
  {
   "cell_type": "markdown",
   "id": "844c08c1",
   "metadata": {},
   "source": [
    "This is another instance in which it pays to specify the <regex> as a raw string, as the above examples have done.\n",
    "\n",
    "Because `'\\b'` is an escape sequence for both string literals and regexes in Python, each use above would need to be double escaped as `'\\\\b'` if you didn’t use raw strings. That wouldn’t be the end of the world, but raw strings are tidier.\n",
    "\n",
    "**`\\B`**\n",
    "\n",
    "    Anchors a match to a location that isn’t a word boundary.\n",
    "\n",
    "\\B does the opposite of `\\b`. It asserts that the regex parser’s current position must not be at the start or end of a word:"
   ]
  },
  {
   "cell_type": "markdown",
   "id": "83c287da",
   "metadata": {},
   "source": [
    ">>> print(re.search(r'\\Bfoo\\B', 'foo'))"
   ]
  },
  {
   "cell_type": "markdown",
   "id": "72e955f0",
   "metadata": {},
   "source": [
    "None"
   ]
  },
  {
   "cell_type": "markdown",
   "id": "9ebbaf9a",
   "metadata": {},
   "source": [
    ">>> print(re.search(r'\\Bfoo\\B', '.foo.'))\n",
    "\n",
    "None"
   ]
  },
  {
   "cell_type": "markdown",
   "id": "c0e320da",
   "metadata": {},
   "source": [
    ">>> re.search(r'\\Bfoo\\B', 'barfoobaz')\n",
    "\n",
    "<_sre.SRE_Match object; span=(3, 6), match='foo'>"
   ]
  },
  {
   "cell_type": "markdown",
   "id": "f0d66a3a",
   "metadata": {},
   "source": [
    "In this case, a match happens on line 7 because no word boundary exists at the start or end of 'foo' in the search string 'barfoobaz'."
   ]
  },
  {
   "cell_type": "markdown",
   "id": "365cf3ad",
   "metadata": {},
   "source": [
    "### RP - Quantifiers"
   ]
  },
  {
   "cell_type": "markdown",
   "id": "36106504",
   "metadata": {},
   "source": [
    "A **quantifier** metacharacter immediately follows a portion of a `<regex>` and indicates how many times that portion must occur for the match to succeed.\n",
    "\n",
    "**`*`**\n",
    "\n",
    "    Matches zero or more repetitions of the preceding regex.\n",
    "\n",
    "For example, a* matches zero or more `'a'` characters. That means it would match an empty string, `'a'`, `'aa'`, `'aaa'`, and so on.\n",
    "\n",
    "Consider these examples:"
   ]
  },
  {
   "cell_type": "code",
   "execution_count": null,
   "id": "561734b4",
   "metadata": {},
   "outputs": [],
   "source": [
    "print(re.search('foo-*bar', 'foobar')) # Zero dashes - <_sre.SRE_Match object; span=(0, 6), match='foobar'>"
   ]
  },
  {
   "cell_type": "code",
   "execution_count": null,
   "id": "5078c055",
   "metadata": {},
   "outputs": [],
   "source": [
    "print(re.search('foo-*bar', 'foo-bar')) # One dash - <_sre.SRE_Match object; span=(0, 7), match='foo-bar'>"
   ]
  },
  {
   "cell_type": "code",
   "execution_count": null,
   "id": "6ac44580",
   "metadata": {},
   "outputs": [],
   "source": [
    "print(re.search('foo-*bar', 'foo--bar')) # Two dashes - <_sre.SRE_Match object; span=(0, 8), match='foo--bar'>"
   ]
  },
  {
   "cell_type": "markdown",
   "id": "82888fd6",
   "metadata": {},
   "source": [
    "On line 1, there are zero `'-'` characters between `'foo'` and `'bar'`. On line 3 there’s one, and on line 5 there are two. The metacharacter sequence `-*` matches in all three cases.\n",
    "\n",
    "You’ll probably encounter the regex `.*` in a Python program at some point. This matches zero or more occurrences of any character. In other words, it essentially matches any character sequence up to a line break. (Remember that the . wildcard metacharacter doesn’t match a newline.)\n",
    "\n",
    "In this example, `.*` matches everything between `'foo'` and `'bar'`:"
   ]
  },
  {
   "cell_type": "code",
   "execution_count": null,
   "id": "bad2e800",
   "metadata": {},
   "outputs": [],
   "source": [
    "print(re.search('foo.*bar', '# foo $qux@grault % bar #')) # <_sre.SRE_Match object; span=(2, 23), match='foo $qux@grault % bar'>"
   ]
  },
  {
   "cell_type": "markdown",
   "id": "d9680e7d",
   "metadata": {},
   "source": [
    "Did you notice the `span=` and `match=` information contained in the match object?\n",
    "\n",
    "Until now, the regexes in the examples you’ve seen have specified matches of predictable length. Once you start using quantifiers like `*`, the number of characters matched can be quite variable, and the information in the match object becomes more useful.\n",
    "\n",
    "You’ll learn more about how to access the information stored in a match object in the next tutorial in the series.\n",
    "\n",
    "**`+`**\n",
    "\n",
    "    Matches one or more repetitions of the preceding regex.\n",
    "\n",
    "This is similar to `*`, but the quantified regex must occur at least once:"
   ]
  },
  {
   "cell_type": "code",
   "execution_count": 82,
   "id": "6226f526",
   "metadata": {},
   "outputs": [
    {
     "name": "stdout",
     "output_type": "stream",
     "text": [
      "None\n",
      "<re.Match object; span=(0, 7), match='foo-bar'>\n",
      "<re.Match object; span=(0, 8), match='foo--bar'>\n"
     ]
    }
   ],
   "source": [
    "print(re.search('foo-+bar', 'foobar')) # Zero dashes - None\n",
    "print(re.search('foo-+bar', 'foo-bar')) # One dash - <_sre.SRE_Match object; span=(0, 7), match='foo-bar'>\n",
    "print(re.search('foo-+bar', 'foo--bar')) # Two dashes - <_sre.SRE_Match object; span=(0, 8), match='foo--bar'>"
   ]
  },
  {
   "cell_type": "markdown",
   "id": "3a6e6f37",
   "metadata": {},
   "source": [
    "Remember from above that `foo-*bar` matched the string `'foobar'` because the `*` metacharacter allows for zero occurrences of `'-'`. The `+` metacharacter, on the other hand, requires at least one occurrence of `'-'`. That means there isn’t a match on line 1 in this case."
   ]
  },
  {
   "cell_type": "markdown",
   "id": "b7cfb721",
   "metadata": {},
   "source": [
    "**`?`**\n",
    "\n",
    "    Matches zero or one repetitions of the preceding regex."
   ]
  },
  {
   "cell_type": "markdown",
   "id": "83f538ed",
   "metadata": {},
   "source": [
    "Again, this is similar to `*` and `+`, but in this case there’s only a match if the preceding regex occurs once or not at all:"
   ]
  },
  {
   "cell_type": "code",
   "execution_count": 83,
   "id": "7eefa4af",
   "metadata": {},
   "outputs": [
    {
     "name": "stdout",
     "output_type": "stream",
     "text": [
      "<re.Match object; span=(0, 6), match='foobar'>\n"
     ]
    }
   ],
   "source": [
    "print (re.search('foo-?bar', 'foobar')) # Zero dashes - <_sre.SRE_Match object; span=(0, 6), match='foobar'>"
   ]
  },
  {
   "cell_type": "code",
   "execution_count": 84,
   "id": "4c052bfe",
   "metadata": {},
   "outputs": [
    {
     "name": "stdout",
     "output_type": "stream",
     "text": [
      "<re.Match object; span=(0, 7), match='foo-bar'>\n"
     ]
    }
   ],
   "source": [
    "print(re.search('foo-?bar', 'foo-bar'))  # One dash - <_sre.SRE_Match object; span=(0, 7), match='foo-bar'>"
   ]
  },
  {
   "cell_type": "code",
   "execution_count": 85,
   "id": "fc393a41",
   "metadata": {},
   "outputs": [
    {
     "name": "stdout",
     "output_type": "stream",
     "text": [
      "None\n"
     ]
    }
   ],
   "source": [
    "print(re.search('foo-?bar', 'foo--bar')) # Two dashes - None"
   ]
  },
  {
   "cell_type": "markdown",
   "id": "f58a8765",
   "metadata": {},
   "source": [
    "In this example, there are matches on lines 1 and 3. But on line 5, where there are two '-' characters, the match fails.\n",
    "\n",
    "Here are some more examples showing the use of all three quantifier metacharacters:"
   ]
  },
  {
   "cell_type": "code",
   "execution_count": 86,
   "id": "23f2ca49",
   "metadata": {},
   "outputs": [
    {
     "name": "stdout",
     "output_type": "stream",
     "text": [
      "<re.Match object; span=(0, 6), match='foobar'>\n"
     ]
    }
   ],
   "source": [
    "print (re.match('foo[1-9]*bar', 'foobar')) # <_sre.SRE_Match object; span=(0, 6), match='foobar'>"
   ]
  },
  {
   "cell_type": "code",
   "execution_count": 87,
   "id": "ce2a09d7",
   "metadata": {},
   "outputs": [
    {
     "name": "stdout",
     "output_type": "stream",
     "text": [
      "<re.Match object; span=(0, 8), match='foo42bar'>\n"
     ]
    }
   ],
   "source": [
    "print(re.match('foo[1-9]*bar', 'foo42bar')) # <_sre.SRE_Match object; span=(0, 8), match='foo42bar'>"
   ]
  },
  {
   "cell_type": "code",
   "execution_count": null,
   "id": "cc5d94bc",
   "metadata": {},
   "outputs": [],
   "source": [
    "print(re.match('foo[1-9]+bar', 'foobar')) # None"
   ]
  },
  {
   "cell_type": "code",
   "execution_count": 88,
   "id": "8fbca869",
   "metadata": {},
   "outputs": [
    {
     "name": "stdout",
     "output_type": "stream",
     "text": [
      "<re.Match object; span=(0, 8), match='foo42bar'>\n"
     ]
    }
   ],
   "source": [
    "print (re.match('foo[1-9]+bar', 'foo42bar')) # <_sre.SRE_Match object; span=(0, 8), match='foo42bar'>"
   ]
  },
  {
   "cell_type": "code",
   "execution_count": 89,
   "id": "6f1e912c",
   "metadata": {},
   "outputs": [
    {
     "name": "stdout",
     "output_type": "stream",
     "text": [
      "<re.Match object; span=(0, 6), match='foobar'>\n"
     ]
    }
   ],
   "source": [
    "print (re.match('foo[1-9]?bar', 'foobar')) # <_sre.SRE_Match object; span=(0, 6), match='foobar'>"
   ]
  },
  {
   "cell_type": "code",
   "execution_count": 90,
   "id": "851f8601",
   "metadata": {},
   "outputs": [
    {
     "name": "stdout",
     "output_type": "stream",
     "text": [
      "None\n"
     ]
    }
   ],
   "source": [
    "print(re.match('foo[1-9]?bar', 'foo42bar')) # None"
   ]
  },
  {
   "cell_type": "markdown",
   "id": "04655223",
   "metadata": {},
   "source": [
    "This time, the quantified regex is the character class `[1-9]` instead of the simple character `'-`'."
   ]
  },
  {
   "cell_type": "markdown",
   "id": "bbe3e0f1",
   "metadata": {},
   "source": [
    "**`*?`, `+?`, `??`**\n",
    "\n",
    "    The non-greedy (or lazy) versions of the '*', '+', and '?' quantifiers."
   ]
  },
  {
   "cell_type": "markdown",
   "id": "21364b0f",
   "metadata": {},
   "source": [
    "When used alone, the quantifier metacharacters `*`, `+`, and `?` are all greedy, meaning they produce the longest possible match. Consider this example:"
   ]
  },
  {
   "cell_type": "code",
   "execution_count": 91,
   "id": "e5b1d85c",
   "metadata": {},
   "outputs": [
    {
     "name": "stdout",
     "output_type": "stream",
     "text": [
      "<re.Match object; span=(1, 18), match='<foo> <bar> <baz>'>\n"
     ]
    }
   ],
   "source": [
    "print(re.search('<.*>', '%<foo> <bar> <baz>%')) # <_sre.SRE_Match object; span=(1, 18), match='<foo> <bar> <baz>'>"
   ]
  },
  {
   "cell_type": "markdown",
   "id": "30496cf3",
   "metadata": {},
   "source": [
    "The regex `<.*>` effectively means:\n",
    "\n",
    "    A '<' character\n",
    "    Then any sequence of characters\n",
    "    Then a '>' character\n",
    "\n",
    "But which '>' character? There are three possibilities:\n",
    "\n",
    "    The one just after 'foo'\n",
    "    The one just after 'bar'\n",
    "    The one just after 'baz'\n",
    "\n",
    "Since the `*` metacharacter is greedy, it dictates the longest possible match, which includes everything up to and including the `'>'` character that follows `'baz'`. You can see from the match object that this is the match produced.\n",
    "\n",
    "If you want the shortest possible match instead, then use the non-greedy metacharacter sequence `*?`:"
   ]
  },
  {
   "cell_type": "code",
   "execution_count": 92,
   "id": "cd842281",
   "metadata": {},
   "outputs": [
    {
     "name": "stdout",
     "output_type": "stream",
     "text": [
      "<re.Match object; span=(1, 6), match='<foo>'>\n"
     ]
    }
   ],
   "source": [
    "print(re.search('<.*?>', '%<foo> <bar> <baz>%')) # <_sre.SRE_Match object; span=(1, 6), match='<foo>'>"
   ]
  },
  {
   "cell_type": "markdown",
   "id": "17c40ecf",
   "metadata": {},
   "source": [
    "In this case, the match ends with the `'>'` character following `'foo'`.\n",
    "\n",
    "Note: You could accomplish the same thing with the regex `<[^>]*>`, which means:\n",
    "\n",
    "    A '<' character\n",
    "    Then any sequence of characters other than '>'\n",
    "    Then a '>' character\n",
    "\n",
    "This is the only option available with some older parsers that don’t support lazy quantifiers. Happily, that’s not the case with the `regex` parser in Python’s `re` module.\n",
    "\n",
    "There are lazy versions of the `+` and `?` quantifiers as well:"
   ]
  },
  {
   "cell_type": "code",
   "execution_count": 93,
   "id": "654bd7b6",
   "metadata": {},
   "outputs": [
    {
     "name": "stdout",
     "output_type": "stream",
     "text": [
      "<re.Match object; span=(1, 18), match='<foo> <bar> <baz>'>\n"
     ]
    }
   ],
   "source": [
    "print (re.search('<.+>', '%<foo> <bar> <baz>%')) # <_sre.SRE_Match object; span=(1, 18), match='<foo> <bar> <baz>'>"
   ]
  },
  {
   "cell_type": "code",
   "execution_count": 94,
   "id": "97438f8d",
   "metadata": {},
   "outputs": [
    {
     "name": "stdout",
     "output_type": "stream",
     "text": [
      "<re.Match object; span=(1, 6), match='<foo>'>\n"
     ]
    }
   ],
   "source": [
    "print (re.search('<.+?>', '%<foo> <bar> <baz>%')) # <_sre.SRE_Match object; span=(1, 6), match='<foo>'>"
   ]
  },
  {
   "cell_type": "code",
   "execution_count": 95,
   "id": "6b6bf70a",
   "metadata": {},
   "outputs": [
    {
     "name": "stdout",
     "output_type": "stream",
     "text": [
      "<re.Match object; span=(0, 2), match='ba'>\n"
     ]
    }
   ],
   "source": [
    "print (re.search('ba?', 'baaaa')) # <_sre.SRE_Match object; span=(0, 2), match='ba'>"
   ]
  },
  {
   "cell_type": "code",
   "execution_count": 96,
   "id": "6791f34b",
   "metadata": {},
   "outputs": [
    {
     "name": "stdout",
     "output_type": "stream",
     "text": [
      "<re.Match object; span=(0, 1), match='b'>\n"
     ]
    }
   ],
   "source": [
    "print(re.search('ba??', 'baaaa')) # <_sre.SRE_Match object; span=(0, 1), match='b'>"
   ]
  },
  {
   "cell_type": "markdown",
   "id": "86cc9b72",
   "metadata": {},
   "source": [
    "The first two examples on lines 1 and 3 are similar to the examples shown above, only using `+` and `+?` instead of `*` and `*?`.\n",
    "\n",
    "The last examples on lines 6 and 8 are a little different. In general, the `?` metacharacter matches zero or one occurrences of the preceding regex. The greedy version, `?`, matches one occurrence, so `ba?` matches `'b'` followed by a single `'a'`. The non-greedy version, `??`, matches zero occurrences, so `ba??` matches just `'b'`."
   ]
  },
  {
   "cell_type": "markdown",
   "id": "796b0409",
   "metadata": {},
   "source": [
    "**`{m}`**\n",
    "\n",
    "    Matches exactly m repetitions of the preceding regex."
   ]
  },
  {
   "cell_type": "markdown",
   "id": "629adb6d",
   "metadata": {},
   "source": [
    "This is similar to `*` or `+`, but it specifies exactly how many times the preceding regex must occur for a match to succeed:"
   ]
  },
  {
   "cell_type": "code",
   "execution_count": 97,
   "id": "8cb537d5",
   "metadata": {},
   "outputs": [
    {
     "name": "stdout",
     "output_type": "stream",
     "text": [
      "None\n"
     ]
    }
   ],
   "source": [
    "print(re.search('x-{3}x', 'x--x'))   # Two dashes - None"
   ]
  },
  {
   "cell_type": "code",
   "execution_count": 98,
   "id": "06ed8faf",
   "metadata": {},
   "outputs": [
    {
     "name": "stdout",
     "output_type": "stream",
     "text": [
      "<re.Match object; span=(0, 5), match='x---x'>\n"
     ]
    }
   ],
   "source": [
    "print (re.search('x-{3}x', 'x---x'))  # Three dashes - <_sre.SRE_Match object; span=(0, 5), match='x---x'>"
   ]
  },
  {
   "cell_type": "code",
   "execution_count": 99,
   "id": "ff6fff87",
   "metadata": {},
   "outputs": [
    {
     "name": "stdout",
     "output_type": "stream",
     "text": [
      "None\n"
     ]
    }
   ],
   "source": [
    "print(re.search('x-{3}x', 'x----x')) # Four dashes - None"
   ]
  },
  {
   "cell_type": "markdown",
   "id": "1693b8aa",
   "metadata": {},
   "source": [
    "Here, `x-{3}x` matches `'x'`, followed by exactly three instances of the `'-'` character, followed by another `'x'`. The match fails when there are fewer or more than three dashes between the `'x'` characters."
   ]
  },
  {
   "cell_type": "markdown",
   "id": "6a845f6e",
   "metadata": {},
   "source": [
    "**`{m,n}`**\n",
    "\n",
    "    Matches any number of repetitions of the preceding regex from m to n, inclusive."
   ]
  },
  {
   "cell_type": "markdown",
   "id": "ce870cbf",
   "metadata": {},
   "source": [
    "In the following example, the quantified <regex> is `-{2,4}`. The match succeeds when there are two, three, or four dashes between the `'x'` characters but fails otherwise:"
   ]
  },
  {
   "cell_type": "code",
   "execution_count": 108,
   "id": "aa38ed09",
   "metadata": {},
   "outputs": [
    {
     "name": "stdout",
     "output_type": "stream",
     "text": [
      "1  x-x        None\n",
      "2  x--x       <re.Match object; span=(0, 4), match='x--x'>\n",
      "3  x---x      <re.Match object; span=(0, 5), match='x---x'>\n",
      "4  x----x     <re.Match object; span=(0, 6), match='x----x'>\n",
      "5  x-----x    None\n",
      "\n"
     ]
    }
   ],
   "source": [
    "for i in range(1, 6):\n",
    "    s = f\"x{'-' * i}x\"\n",
    "    print(f'{i}  {s:10}', re.search('x-{2,4}x', s))\n",
    "\n",
    "'''\n",
    "1  x-x        None\n",
    "2  x--x       <_sre.SRE_Match object; span=(0, 4), match='x--x'>\n",
    "3  x---x      <_sre.SRE_Match object; span=(0, 5), match='x---x'>\n",
    "4  x----x     <_sre.SRE_Match object; span=(0, 6), match='x----x'>\n",
    "5  x-----x    None\n",
    "'''\n",
    "print()"
   ]
  },
  {
   "cell_type": "markdown",
   "id": "0eaea72a",
   "metadata": {},
   "source": [
    "Omitting `m` implies a lower bound of `0`, and omitting `n` implies an unlimited upper bound:"
   ]
  },
  {
   "cell_type": "markdown",
   "id": "63c6ff52",
   "metadata": {},
   "source": [
    "```\n",
    "Regular           Matches \n",
    "Expression \t     Identical to\n",
    "                    \n",
    "\n",
    "<regex>{,n} \t  Any number of repetitions of `<regex>` less than or equal to n\n",
    "                    <regex>{0,n}  \n",
    "<regex>{m,} \t  Any number of repetitions of <regex> greater than or equal to m \t  \n",
    "                    ----\n",
    "<regex>{,} \t   Any number of repetitions of <regex> \t\n",
    "                    <regex>{0,}  \n",
    "                    <regex>*\n",
    "```"
   ]
  },
  {
   "cell_type": "markdown",
   "id": "f719e7cc",
   "metadata": {},
   "source": [
    "If you omit all of `m`, `n`, and the comma, then the curly braces no longer function as metacharacters. `{}` matches just the literal string `'{}'`:"
   ]
  },
  {
   "cell_type": "code",
   "execution_count": 106,
   "id": "d0e54736",
   "metadata": {},
   "outputs": [
    {
     "name": "stdout",
     "output_type": "stream",
     "text": [
      "<re.Match object; span=(0, 4), match='x{}y'>\n"
     ]
    }
   ],
   "source": [
    "print (re.search('x{}y', 'x{}y')) # <_sre.SRE_Match object; span=(0, 4), match='x{}y'>"
   ]
  },
  {
   "cell_type": "markdown",
   "id": "9d25da0b",
   "metadata": {},
   "source": [
    "In fact, to have any special meaning, a sequence with curly braces must fit one of the following patterns in which `m` and `n` are nonnegative integers:\n",
    "\n",
    "- `{m,n}`  \n",
    "- `{m,}` \n",
    "- `{,n}` \n",
    "- `{,}`  \n",
    "\n",
    "Otherwise, it matches literally:"
   ]
  },
  {
   "cell_type": "code",
   "execution_count": 100,
   "id": "824d097a",
   "metadata": {},
   "outputs": [
    {
     "name": "stdout",
     "output_type": "stream",
     "text": [
      "<re.Match object; span=(0, 7), match='x{foo}y'>\n"
     ]
    }
   ],
   "source": [
    "print (re.search('x{foo}y', 'x{foo}y')) # <_sre.SRE_Match object; span=(0, 7), match='x{foo}y'>"
   ]
  },
  {
   "cell_type": "code",
   "execution_count": 101,
   "id": "19a70a89",
   "metadata": {},
   "outputs": [
    {
     "name": "stdout",
     "output_type": "stream",
     "text": [
      "<re.Match object; span=(0, 7), match='x{a:b}y'>\n"
     ]
    }
   ],
   "source": [
    "print (re.search('x{a:b}y', 'x{a:b}y')) # <_sre.SRE_Match object; span=(0, 7), match='x{a:b}y'>"
   ]
  },
  {
   "cell_type": "code",
   "execution_count": 102,
   "id": "f604578e",
   "metadata": {},
   "outputs": [
    {
     "name": "stdout",
     "output_type": "stream",
     "text": [
      "<re.Match object; span=(0, 9), match='x{1,3,5}y'>\n"
     ]
    }
   ],
   "source": [
    "print (re.search('x{1,3,5}y', 'x{1,3,5}y')) # <_sre.SRE_Match object; span=(0, 9), match='x{1,3,5}y'>"
   ]
  },
  {
   "cell_type": "code",
   "execution_count": 103,
   "id": "fa373c1f",
   "metadata": {},
   "outputs": [
    {
     "name": "stdout",
     "output_type": "stream",
     "text": [
      "<re.Match object; span=(0, 11), match='x{foo,bar}y'>\n"
     ]
    }
   ],
   "source": [
    "print (re.search('x{foo,bar}y', 'x{foo,bar}y')) # <_sre.SRE_Match object; span=(0, 11), match='x{foo,bar}y'>"
   ]
  },
  {
   "cell_type": "markdown",
   "id": "effae4fd",
   "metadata": {},
   "source": [
    "Later in this tutorial, when you learn about the `DEBUG` flag, you’ll see how you can confirm this."
   ]
  },
  {
   "cell_type": "markdown",
   "id": "9f351d2f",
   "metadata": {},
   "source": [
    "**`{m,n}?`**\n",
    "\n",
    "    The non-greedy (lazy) version of {m,n}."
   ]
  },
  {
   "cell_type": "markdown",
   "id": "7bc77af2",
   "metadata": {},
   "source": [
    "`{m,n}` will match as many characters as possible, and `{m,n}?` will match as few as possible:"
   ]
  },
  {
   "cell_type": "code",
   "execution_count": 104,
   "id": "449bf70c",
   "metadata": {},
   "outputs": [
    {
     "name": "stdout",
     "output_type": "stream",
     "text": [
      "<re.Match object; span=(0, 5), match='aaaaa'>\n"
     ]
    }
   ],
   "source": [
    "print (re.search('a{3,5}', 'aaaaaaaa')) # <_sre.SRE_Match object; span=(0, 5), match='aaaaa'>"
   ]
  },
  {
   "cell_type": "code",
   "execution_count": 105,
   "id": "82ff9ebd",
   "metadata": {},
   "outputs": [
    {
     "name": "stdout",
     "output_type": "stream",
     "text": [
      "<re.Match object; span=(0, 3), match='aaa'>\n"
     ]
    }
   ],
   "source": [
    "print (re.search('a{3,5}?', 'aaaaaaaa')) # <_sre.SRE_Match object; span=(0, 3), match='aaa'>"
   ]
  },
  {
   "cell_type": "markdown",
   "id": "717ef004",
   "metadata": {},
   "source": [
    "In this case, `a{3,5}` produces the longest possible match, so it matches five `'a'` characters. `a{3,5}?` produces the shortest match, so it matches three."
   ]
  },
  {
   "cell_type": "markdown",
   "id": "534f0fe9",
   "metadata": {},
   "source": [
    "#### RP - Grouping Constructs and Backreferences"
   ]
  },
  {
   "cell_type": "markdown",
   "id": "9f489074",
   "metadata": {},
   "source": [
    "Grouping constructs break up a regex in Python into subexpressions or **groups**. This serves two purposes:\n",
    "\n",
    "1. **Grouping**: A group represents a single syntactic entity. Additional metacharacters apply to the entire group as a unit.\n",
    "2. **Capturing**: Some grouping constructs also capture the portion of the search string that matches the subexpression in the group. You can retrieve captured matches later through several different mechanisms.\n",
    "\n",
    "Here’s a look at how grouping and capturing work."
   ]
  },
  {
   "cell_type": "markdown",
   "id": "3090c849",
   "metadata": {},
   "source": [
    "**`(<regex>)`**\n",
    "\n",
    "    Defines a subexpression or group."
   ]
  },
  {
   "cell_type": "markdown",
   "id": "5ed5d722",
   "metadata": {},
   "source": [
    "This is the most basic grouping construct. A regex in parentheses just matches the contents of the parentheses:"
   ]
  },
  {
   "cell_type": "code",
   "execution_count": 109,
   "id": "16c0a252",
   "metadata": {},
   "outputs": [
    {
     "name": "stdout",
     "output_type": "stream",
     "text": [
      "<re.Match object; span=(4, 7), match='bar'>\n"
     ]
    }
   ],
   "source": [
    "print (re.search('(bar)', 'foo bar baz')) # <_sre.SRE_Match object; span=(4, 7), match='bar'>"
   ]
  },
  {
   "cell_type": "code",
   "execution_count": 110,
   "id": "0cca62e1",
   "metadata": {},
   "outputs": [
    {
     "name": "stdout",
     "output_type": "stream",
     "text": [
      "<re.Match object; span=(4, 7), match='bar'>\n"
     ]
    }
   ],
   "source": [
    "print (re.search('bar', 'foo bar baz')) # <_sre.SRE_Match object; span=(4, 7), match='bar'>"
   ]
  },
  {
   "cell_type": "markdown",
   "id": "0e7e05a1",
   "metadata": {},
   "source": [
    "As a regex, `(bar)` matches the string `'bar'`, the same as the regex `bar` would without the parentheses."
   ]
  },
  {
   "cell_type": "markdown",
   "id": "dfdb901d",
   "metadata": {},
   "source": [
    "#### RP - Treating a Group as a Unit"
   ]
  },
  {
   "cell_type": "markdown",
   "id": "c5f3af42",
   "metadata": {},
   "source": [
    "A quantifier metacharacter that follows a group operates on the entire subexpression specified in the group as a single unit.\n",
    "\n",
    "For instance, the following example matches one or more occurrences of the string 'bar':"
   ]
  },
  {
   "cell_type": "markdown",
   "id": "8a67e512",
   "metadata": {},
   "source": [
    ">>> re.search('(bar)+', 'foo bar baz')\n",
    "<_sre.SRE_Match object; span=(4, 7), match='bar'>"
   ]
  },
  {
   "cell_type": "markdown",
   "id": "fb351f9b",
   "metadata": {},
   "source": [
    ">>> re.search('(bar)+', 'foo barbar baz')\n",
    "<_sre.SRE_Match object; span=(4, 10), match='barbar'>"
   ]
  },
  {
   "cell_type": "markdown",
   "id": "bf73025f",
   "metadata": {},
   "source": [
    ">>> re.search('(bar)+', 'foo barbarbarbar baz')\n",
    "<_sre.SRE_Match object; span=(4, 16), match='barbarbarbar'>"
   ]
  },
  {
   "cell_type": "markdown",
   "id": "90c5124d",
   "metadata": {},
   "source": [
    "Here’s a breakdown of the difference between the two regexes with and without grouping parentheses:\n",
    "\n",
    "`   Regex \t     Interpretation \t                Matches \t             Examples`\n",
    "```\n",
    "bar+ \t   The + metacharacter applies \t  'ba' followed by one or   'bar'               \n",
    "             only to the character 'r'.         more occurrences of 'r' 'barr'\t\n",
    "                                                                        'barrr'\n",
    "                                                                        \n",
    "(bar)+ \t The + metacharacter applies       One or more occurrences   'bar'\n",
    "             to the entire string 'bar'.        of 'bar'                'barbar'\n",
    "                                                                        'barbarbar'\n",
    "```\n",
    "\n",
    "Now take a look at a more complicated example. The regex `(ba[rz]){2,4}(qux)?` matches 2 to 4 occurrences of either `'bar'` or `'baz'`, optionally followed by `'qux'`:"
   ]
  },
  {
   "cell_type": "code",
   "execution_count": 111,
   "id": "aa2fec81",
   "metadata": {},
   "outputs": [
    {
     "name": "stdout",
     "output_type": "stream",
     "text": [
      "<re.Match object; span=(0, 12), match='bazbarbazqux'>\n"
     ]
    }
   ],
   "source": [
    "print (re.search('(ba[rz]){2,4}(qux)?', 'bazbarbazqux')) # <_sre.SRE_Match object; span=(0, 12), match='bazbarbazqux'>"
   ]
  },
  {
   "cell_type": "code",
   "execution_count": 112,
   "id": "d0bbaf75",
   "metadata": {},
   "outputs": [
    {
     "name": "stdout",
     "output_type": "stream",
     "text": [
      "<re.Match object; span=(0, 6), match='barbar'>\n"
     ]
    }
   ],
   "source": [
    "print (re.search('(ba[rz]){2,4}(qux)?', 'barbar')) # <_sre.SRE_Match object; span=(0, 6), match='barbar'>"
   ]
  },
  {
   "cell_type": "markdown",
   "id": "abe06078",
   "metadata": {},
   "source": [
    "The following example shows that you can nest grouping parentheses:"
   ]
  },
  {
   "cell_type": "code",
   "execution_count": 113,
   "id": "2cb558b8",
   "metadata": {},
   "outputs": [
    {
     "name": "stdout",
     "output_type": "stream",
     "text": [
      "<re.Match object; span=(0, 9), match='foofoobar'>\n"
     ]
    }
   ],
   "source": [
    "print (re.search('(foo(bar)?)+(\\d\\d\\d)?', 'foofoobar')) # <_sre.SRE_Match object; span=(0, 9), match='foofoobar'>"
   ]
  },
  {
   "cell_type": "code",
   "execution_count": 114,
   "id": "e032f057",
   "metadata": {},
   "outputs": [
    {
     "name": "stdout",
     "output_type": "stream",
     "text": [
      "<re.Match object; span=(0, 12), match='foofoobar123'>\n"
     ]
    }
   ],
   "source": [
    "print (re.search('(foo(bar)?)+(\\d\\d\\d)?', 'foofoobar123')) # <_sre.SRE_Match object; span=(0, 12), match='foofoobar123'>"
   ]
  },
  {
   "cell_type": "code",
   "execution_count": 115,
   "id": "63447ae7",
   "metadata": {},
   "outputs": [
    {
     "name": "stdout",
     "output_type": "stream",
     "text": [
      "<re.Match object; span=(0, 9), match='foofoo123'>\n"
     ]
    }
   ],
   "source": [
    "print (re.search('(foo(bar)?)+(\\d\\d\\d)?', 'foofoo123')) # <_sre.SRE_Match object; span=(0, 9), match='foofoo123'>"
   ]
  },
  {
   "cell_type": "markdown",
   "id": "7c12ce7b",
   "metadata": {},
   "source": [
    "The regex `(foo(bar)?)+(\\d\\d\\d)?` is pretty elaborate, so let’s break it down into smaller pieces:"
   ]
  },
  {
   "cell_type": "markdown",
   "id": "45e560a0",
   "metadata": {},
   "source": [
    "`   Regex \t       Matches`\n",
    "```\n",
    "foo(bar)? \t'foo' optionally followed by 'bar'`\n",
    "(foo(bar)?)+  One or more occurrences of the above\n",
    "\\d\\d\\d \t   Three decimal digit characters\n",
    "(\\d\\d\\d)? \tZero or one occurrences of the above\n",
    "```"
   ]
  },
  {
   "cell_type": "markdown",
   "id": "8b4b074b",
   "metadata": {},
   "source": [
    "String it all together and you get: at least one occurrence of `'foo'` optionally followed by `'bar'`, all optionally followed by three decimal digit characters.\n",
    "\n",
    "As you can see, you can construct very complicated regexes in Python using grouping parentheses."
   ]
  },
  {
   "cell_type": "markdown",
   "id": "7689b6cd",
   "metadata": {},
   "source": [
    "#### RP - Capturing Groups"
   ]
  },
  {
   "cell_type": "markdown",
   "id": "8f3fe8c8",
   "metadata": {},
   "source": [
    "Grouping isn’t the only useful purpose that grouping constructs serve. Most (but not quite all) grouping constructs also capture the part of the search string that matches the group. You can retrieve the captured portion or refer to it later in several different ways.\n",
    "\n",
    "Remember the match object that `re.search()` returns? There are two methods defined for a match object that provide access to captured groups: `.groups()` and `.group()`."
   ]
  },
  {
   "cell_type": "markdown",
   "id": "9555a613",
   "metadata": {},
   "source": [
    "**`m.groups()`**\n",
    "\n",
    "    Returns a tuple containing all the captured groups from a regex match."
   ]
  },
  {
   "cell_type": "markdown",
   "id": "36125078",
   "metadata": {},
   "source": [
    "Consider this example:"
   ]
  },
  {
   "cell_type": "code",
   "execution_count": 117,
   "id": "b2b9a02f",
   "metadata": {},
   "outputs": [
    {
     "name": "stdout",
     "output_type": "stream",
     "text": [
      "<re.Match object; span=(0, 12), match='foo,quux,baz'>\n"
     ]
    }
   ],
   "source": [
    "m = re.search('(\\w+),(\\w+),(\\w+)', 'foo,quux,baz')\n",
    "print (m) # <_sre.SRE_Match object; span=(0, 12), match='foo:quux:baz'>"
   ]
  },
  {
   "cell_type": "markdown",
   "id": "398137d0",
   "metadata": {},
   "source": [
    "Each of the three `(\\w+)` expressions matches a sequence of word characters. The full regex `(\\w+),(\\w+),(\\w+)` breaks the search string into three comma-separated tokens.\n",
    "\n",
    "Because the `(\\w+)` expressions use grouping parentheses, the corresponding matching tokens are captured. To access the captured matches, you can use `.groups()`, which returns a tuple containing all the captured matches in order:"
   ]
  },
  {
   "cell_type": "code",
   "execution_count": 118,
   "id": "d87cd29f",
   "metadata": {},
   "outputs": [
    {
     "data": {
      "text/plain": [
       "('foo', 'quux', 'baz')"
      ]
     },
     "execution_count": 118,
     "metadata": {},
     "output_type": "execute_result"
    }
   ],
   "source": [
    "m.groups() # ('foo', 'quux', 'baz')"
   ]
  },
  {
   "cell_type": "markdown",
   "id": "6fb3a583",
   "metadata": {},
   "source": [
    "Notice that the tuple contains the tokens but not the commas that appeared in the search string. That’s because the word characters that make up the tokens are inside the grouping parentheses but the commas aren’t. The commas that you see between the returned tokens are the standard delimiters used to separate values in a tuple."
   ]
  },
  {
   "cell_type": "markdown",
   "id": "ecded527",
   "metadata": {},
   "source": [
    "**`m.group(<n>)`**\n",
    "\n",
    "    Returns a string containing the <n>th captured match."
   ]
  },
  {
   "cell_type": "markdown",
   "id": "fbfff3a1",
   "metadata": {},
   "source": [
    "With one argument, `.group()` returns a single captured match. Note that the arguments are one-based, not zero-based. So, `m.group(1)` refers to the first captured match, `m.group(2)` to the second, and so on:"
   ]
  },
  {
   "cell_type": "code",
   "execution_count": 119,
   "id": "631ffd0e",
   "metadata": {},
   "outputs": [
    {
     "name": "stdout",
     "output_type": "stream",
     "text": [
      "('foo', 'quux', 'baz')\n",
      "foo\n",
      "quux\n",
      "baz\n"
     ]
    }
   ],
   "source": [
    "m = re.search('(\\w+),(\\w+),(\\w+)', 'foo,quux,baz')\n",
    "print (m.groups()) # ('foo', 'quux', 'baz')\n",
    "\n",
    "print(m.group(1)) # 'foo'\n",
    "\n",
    "print (m.group(2)) # 'quux'\n",
    "\n",
    "print (m.group(3)) # 'baz'"
   ]
  },
  {
   "cell_type": "markdown",
   "id": "39a331af",
   "metadata": {},
   "source": [
    "Since the numbering of captured matches is one-based, and there isn’t any group numbered zero, `m.group(0)` has a special meaning:"
   ]
  },
  {
   "cell_type": "code",
   "execution_count": 120,
   "id": "37a29840",
   "metadata": {},
   "outputs": [
    {
     "name": "stdout",
     "output_type": "stream",
     "text": [
      "foo,quux,baz\n",
      "foo,quux,baz\n"
     ]
    }
   ],
   "source": [
    "print (m.group(0)) # 'foo,quux,baz'\n",
    "print (m.group()) # 'foo,quux,baz'"
   ]
  },
  {
   "cell_type": "markdown",
   "id": "ed277ccb",
   "metadata": {},
   "source": [
    "`m.group(0)` returns the entire match, and `m.group()` does the same."
   ]
  },
  {
   "cell_type": "markdown",
   "id": "69897de3",
   "metadata": {},
   "source": [
    "**`m.group(<n1>, <n2>, ...)`**\n",
    "\n",
    "    Returns a tuple containing the specified captured matches."
   ]
  },
  {
   "cell_type": "markdown",
   "id": "6aa07161",
   "metadata": {},
   "source": [
    "With multiple arguments, `.group()` returns a tuple containing the specified captured matches in the given order:"
   ]
  },
  {
   "cell_type": "code",
   "execution_count": 121,
   "id": "94a401f5",
   "metadata": {},
   "outputs": [
    {
     "name": "stdout",
     "output_type": "stream",
     "text": [
      "('foo', 'quux', 'baz')\n",
      "('quux', 'baz')\n",
      "('baz', 'quux', 'foo')\n"
     ]
    }
   ],
   "source": [
    "print (m.groups()) # ('foo', 'quux', 'baz')\n",
    "\n",
    "print (m.group(2, 3)) # ('quux', 'baz')\n",
    "\n",
    "print(m.group(3, 2, 1)) # ('baz', 'quux', 'foo')"
   ]
  },
  {
   "cell_type": "markdown",
   "id": "ef002115",
   "metadata": {},
   "source": [
    "This is just convenient shorthand. You could create the tuple of matches yourself instead:"
   ]
  },
  {
   "cell_type": "code",
   "execution_count": 122,
   "id": "25b36fdd",
   "metadata": {},
   "outputs": [
    {
     "name": "stdout",
     "output_type": "stream",
     "text": [
      "('baz', 'quux', 'foo')\n",
      "baz quux foo\n"
     ]
    }
   ],
   "source": [
    "print (m.group(3, 2, 1)) # ('baz', 'qux', 'foo')\n",
    "\n",
    "print (m.group(3), m.group(2), m.group(1)) # ('baz', 'qux', 'foo')"
   ]
  },
  {
   "cell_type": "markdown",
   "id": "45d32def",
   "metadata": {},
   "source": [
    "The two statements shown are functionally equivalent."
   ]
  },
  {
   "cell_type": "markdown",
   "id": "0201e5d1",
   "metadata": {},
   "source": [
    "#### RP - Backreferences"
   ]
  },
  {
   "cell_type": "markdown",
   "id": "0be2a343",
   "metadata": {},
   "source": [
    "You can match a previously captured group later within the same regex using a special metacharacter sequence called a backreference."
   ]
  },
  {
   "cell_type": "markdown",
   "id": "93a66f8f",
   "metadata": {},
   "source": [
    "**`\\<n>`**\n",
    "\n",
    "    Matches the contents of a previously captured group."
   ]
  },
  {
   "cell_type": "markdown",
   "id": "bf71c93d",
   "metadata": {},
   "source": [
    "Within a regex in Python, the sequence `\\<n>`, where `<n>` is an integer from 1 to 99, matches the contents of the `<n>`th captured group.\n",
    "\n",
    "Here’s a regex that matches a word, followed by a comma, followed by the same word again:"
   ]
  },
  {
   "cell_type": "code",
   "execution_count": 123,
   "id": "00911174",
   "metadata": {},
   "outputs": [
    {
     "name": "stdout",
     "output_type": "stream",
     "text": [
      "<re.Match object; span=(0, 7), match='foo,foo'>\n",
      "foo\n"
     ]
    }
   ],
   "source": [
    "regex = r'(\\w+),\\1'\n",
    "\n",
    "m = re.search(regex, 'foo,foo')\n",
    "print (m) # <_sre.SRE_Match object; span=(0, 7), match='foo,foo'>\n",
    "\n",
    "print (m.group(1)) # 'foo'"
   ]
  },
  {
   "cell_type": "code",
   "execution_count": 124,
   "id": "2a1f7355",
   "metadata": {},
   "outputs": [
    {
     "name": "stdout",
     "output_type": "stream",
     "text": [
      "<re.Match object; span=(0, 7), match='qux,qux'>\n",
      "qux\n"
     ]
    }
   ],
   "source": [
    "m = re.search(regex, 'qux,qux')\n",
    "\n",
    "print(m) # <_sre.SRE_Match object; span=(0, 7), match='qux,qux'>\n",
    "\n",
    "print (m.group(1)) # 'qux'"
   ]
  },
  {
   "cell_type": "code",
   "execution_count": 125,
   "id": "44c4efd2",
   "metadata": {},
   "outputs": [
    {
     "name": "stdout",
     "output_type": "stream",
     "text": [
      "None\n"
     ]
    }
   ],
   "source": [
    "m = re.search(regex, 'foo,qux')\n",
    "\n",
    "print(m) # None"
   ]
  },
  {
   "cell_type": "markdown",
   "id": "75c478aa",
   "metadata": {},
   "source": [
    "In the first example, on line 3, `(\\w+)` matches the first instance of the string `'foo'` and saves it as the first captured group. The comma matches literally. Then `\\1` is a backreference to the first captured group and matches `'foo'` again. The second example, on line 9, is identical except that the `(\\w+)` matches `'qux'` instead.\n",
    "\n",
    "The last example, on line 15, doesn’t have a match because what comes before the comma isn’t the same as what comes after it, so the `\\1` backreference doesn’t match.\n",
    "\n",
    "Note: Any time you use a regex in Python with a numbered backreference, it’s a good idea to specify it as a raw string. Otherwise, the interpreter may confuse the backreference with an octal value.\n",
    "\n",
    "Consider this example:"
   ]
  },
  {
   "cell_type": "code",
   "execution_count": 126,
   "id": "476b80a0",
   "metadata": {},
   "outputs": [
    {
     "name": "stdout",
     "output_type": "stream",
     "text": [
      "None\n"
     ]
    }
   ],
   "source": [
    "print(re.search('([a-z])#\\1', 'd#d')) # None"
   ]
  },
  {
   "cell_type": "markdown",
   "id": "b5cc60c4",
   "metadata": {},
   "source": [
    "The regex `([a-z])#\\1` matches a lowercase letter, followed by `'#'`, followed by the same lowercase letter. The string in this case is `'d#d'`, which should match. But the match fails because Python misinterprets the backreference `\\1` as the character whose octal value is one:"
   ]
  },
  {
   "cell_type": "code",
   "execution_count": 127,
   "id": "9a3a0e9e",
   "metadata": {},
   "outputs": [
    {
     "data": {
      "text/plain": [
       "'0o1'"
      ]
     },
     "execution_count": 127,
     "metadata": {},
     "output_type": "execute_result"
    }
   ],
   "source": [
    "oct(ord('\\1')) # '0o1'"
   ]
  },
  {
   "cell_type": "markdown",
   "id": "1190bc9b",
   "metadata": {},
   "source": [
    "You’ll achieve the correct match if you specify the regex as a raw string:"
   ]
  },
  {
   "cell_type": "code",
   "execution_count": 128,
   "id": "615540f2",
   "metadata": {},
   "outputs": [
    {
     "name": "stdout",
     "output_type": "stream",
     "text": [
      "<re.Match object; span=(0, 3), match='d#d'>\n"
     ]
    }
   ],
   "source": [
    "print (re.search(r'([a-z])#\\1', 'd#d')) # <_sre.SRE_Match object; span=(0, 3), match='d#d'>"
   ]
  },
  {
   "cell_type": "markdown",
   "id": "9a711cec",
   "metadata": {},
   "source": [
    "Remember to consider using a raw string whenever your regex includes a metacharacter sequence containing a backslash.\n",
    "\n",
    "Numbered backreferences are one-based like the arguments to `.group()`. Only the first ninety-nine captured groups are accessible by backreference. The interpreter will regard `\\100` as the `'@'` character, whose octal value is `100`."
   ]
  },
  {
   "cell_type": "markdown",
   "id": "5717e588",
   "metadata": {},
   "source": [
    "#### RP - Other Grouping Constructs"
   ]
  },
  {
   "cell_type": "markdown",
   "id": "837402a2",
   "metadata": {},
   "source": [
    "The `(<regex>)` metacharacter sequence shown above is the most straightforward way to perform grouping within a regex in Python. The next section introduces you to some enhanced grouping constructs that allow you to tweak when and how grouping occurs."
   ]
  },
  {
   "cell_type": "markdown",
   "id": "d954175a",
   "metadata": {},
   "source": [
    "**`(?P<name><regex>)`**\n",
    "\n",
    "    Creates a named captured group."
   ]
  },
  {
   "cell_type": "markdown",
   "id": "a6ea8018",
   "metadata": {},
   "source": [
    "This metacharacter sequence is similar to grouping parentheses in that it creates a group matching `<regex>` that is accessible through the match object or a subsequent backreference. The difference in this case is that you reference the matched group by its given symbolic `<name>` instead of by its number.\n",
    "\n",
    "Earlier, you saw this example with three captured groups numbered 1, 2, and 3:"
   ]
  },
  {
   "cell_type": "code",
   "execution_count": 129,
   "id": "b8f62854",
   "metadata": {},
   "outputs": [
    {
     "name": "stdout",
     "output_type": "stream",
     "text": [
      "('foo', 'quux', 'baz')\n",
      "('foo', 'quux', 'baz')\n"
     ]
    }
   ],
   "source": [
    "m = re.search('(\\w+),(\\w+),(\\w+)', 'foo,quux,baz')\n",
    "print (m.groups()) # ('foo', 'quux', 'baz')\n",
    "\n",
    "print (m.group(1, 2, 3)) # ('foo', 'quux', 'baz')"
   ]
  },
  {
   "cell_type": "markdown",
   "id": "d87a0706",
   "metadata": {},
   "source": [
    "The following effectively does the same thing except that the groups have the symbolic names `w1`, `w2`, and `w3`:"
   ]
  },
  {
   "cell_type": "code",
   "execution_count": 130,
   "id": "261bf4bb",
   "metadata": {},
   "outputs": [
    {
     "name": "stdout",
     "output_type": "stream",
     "text": [
      "('foo', 'quux', 'baz')\n"
     ]
    }
   ],
   "source": [
    "m = re.search('(?P<w1>\\w+),(?P<w2>\\w+),(?P<w3>\\w+)', 'foo,quux,baz')\n",
    "print (m.groups()) # ('foo', 'quux', 'baz')"
   ]
  },
  {
   "cell_type": "markdown",
   "id": "bdb42d8c",
   "metadata": {},
   "source": [
    "You can refer to these captured groups by their symbolic names:"
   ]
  },
  {
   "cell_type": "code",
   "execution_count": 131,
   "id": "80f74f3d",
   "metadata": {},
   "outputs": [
    {
     "name": "stdout",
     "output_type": "stream",
     "text": [
      "foo\n",
      "baz\n",
      "('foo', 'quux', 'baz')\n"
     ]
    }
   ],
   "source": [
    "print (m.group('w1')) # 'foo'\n",
    "\n",
    "print (m.group('w3')) # 'baz'\n",
    "\n",
    "print (m.group('w1', 'w2', 'w3')) # ('foo', 'quux', 'baz')"
   ]
  },
  {
   "cell_type": "markdown",
   "id": "080f3c69",
   "metadata": {},
   "source": [
    "You can still access groups with symbolic names by number if you wish:"
   ]
  },
  {
   "cell_type": "code",
   "execution_count": 132,
   "id": "0bed98b0",
   "metadata": {},
   "outputs": [
    {
     "name": "stdout",
     "output_type": "stream",
     "text": [
      "foo\n",
      "foo\n",
      "('foo', 'quux', 'baz')\n",
      "('foo', 'quux', 'baz')\n"
     ]
    }
   ],
   "source": [
    "m = re.search('(?P<w1>\\w+),(?P<w2>\\w+),(?P<w3>\\w+)', 'foo,quux,baz')\n",
    "\n",
    "print (m.group('w1')) # 'foo'\n",
    "\n",
    "print (m.group(1)) # 'foo'\n",
    "\n",
    "print (m.group('w1', 'w2', 'w3')) # ('foo', 'quux', 'baz')\n",
    "\n",
    "print (m.group(1, 2, 3)) # ('foo', 'quux', 'baz')"
   ]
  },
  {
   "cell_type": "markdown",
   "id": "df32d01b",
   "metadata": {},
   "source": [
    "Any `<name>` specified with this construct must conform to the rules for a Python identifier, and each `<name>` can only appear once per regex."
   ]
  },
  {
   "cell_type": "markdown",
   "id": "2f4124cd",
   "metadata": {},
   "source": [
    "**`(?P=<name>)`**\n",
    "\n",
    "    Matches the contents of a previously captured named group."
   ]
  },
  {
   "cell_type": "markdown",
   "id": "0197744c",
   "metadata": {},
   "source": [
    "The `(?P=<name>)` metacharacter sequence is a backreference, similar to `\\<n>`, except that it refers to a named group rather than a numbered group.\n",
    "\n",
    "Here again is the example from above, which uses a numbered backreference to match a word, followed by a comma, followed by the same word again:"
   ]
  },
  {
   "cell_type": "code",
   "execution_count": 133,
   "id": "ae49564a",
   "metadata": {},
   "outputs": [
    {
     "name": "stdout",
     "output_type": "stream",
     "text": [
      "<re.Match object; span=(0, 7), match='foo,foo'>\n",
      "foo\n"
     ]
    }
   ],
   "source": [
    "m = re.search(r'(\\w+),\\1', 'foo,foo')\n",
    "\n",
    "print (m) # <_sre.SRE_Match object; span=(0, 7), match='foo,foo'>\n",
    "\n",
    "print (m.group(1)) # 'foo'"
   ]
  },
  {
   "cell_type": "markdown",
   "id": "c5a5b4b1",
   "metadata": {},
   "source": [
    "The following code does the same thing using a named group and a backreference instead:"
   ]
  },
  {
   "cell_type": "code",
   "execution_count": 134,
   "id": "f67e597b",
   "metadata": {},
   "outputs": [
    {
     "name": "stdout",
     "output_type": "stream",
     "text": [
      "<re.Match object; span=(0, 7), match='foo,foo'>\n",
      "foo\n"
     ]
    }
   ],
   "source": [
    "m = re.search(r'(?P<word>\\w+),(?P=word)', 'foo,foo')\n",
    "\n",
    "print (m) # <_sre.SRE_Match object; span=(0, 7), match='foo,foo'>\n",
    "\n",
    "print (m.group('word')) # 'foo'"
   ]
  },
  {
   "cell_type": "markdown",
   "id": "cd25e6d2",
   "metadata": {},
   "source": [
    "`(?P=<word>\\w+)` matches `'foo'` and saves it as a captured group named word. Again, the comma matches literally. Then `(?P=word)` is a backreference to the named capture and matches `'foo'` again.\n",
    "\n",
    "Note: The angle brackets (`<` and `>`) are required around name when creating a named group but not when referring to it later, either by backreference or by `.group()`:"
   ]
  },
  {
   "cell_type": "code",
   "execution_count": 135,
   "id": "b55472dd",
   "metadata": {},
   "outputs": [
    {
     "name": "stdout",
     "output_type": "stream",
     "text": [
      "<re.Match object; span=(0, 7), match='135.135'>\n",
      "135\n"
     ]
    }
   ],
   "source": [
    "m = re.match(r'(?P<num>\\d+)\\.(?P=num)', '135.135')\n",
    "\n",
    "print (m) # <_sre.SRE_Match object; span=(0, 7), match='135.135'>\n",
    "\n",
    "print (m.group('num')) # '135'"
   ]
  },
  {
   "cell_type": "markdown",
   "id": "ed3b48de",
   "metadata": {},
   "source": [
    "Here, `(?P<num>\\d+)` creates the captured group. But the corresponding backreference is `(?P=num)` without the angle brackets."
   ]
  },
  {
   "cell_type": "markdown",
   "id": "103519ba",
   "metadata": {},
   "source": [
    "**`(?:<regex>)`**\n",
    "\n",
    "    Creates a non-capturing group."
   ]
  },
  {
   "cell_type": "markdown",
   "id": "b8ba32d1",
   "metadata": {},
   "source": [
    "(?:<regex>) is just like (<regex>) in that it matches the specified <regex>. But (?:<regex>) doesn’t capture the match for later retrieval:"
   ]
  },
  {
   "cell_type": "markdown",
   "id": "8eab143e",
   "metadata": {},
   "source": [
    ">>> m = re.search('(\\w+),(?:\\w+),(\\w+)', 'foo,quux,baz')\n",
    ">>> m.groups()\n",
    "('foo', 'baz')\n",
    "\n",
    ">>> m.group(1)\n",
    "'foo'\n",
    ">>> m.group(2)\n",
    "'baz'"
   ]
  },
  {
   "cell_type": "markdown",
   "id": "e4443f9b",
   "metadata": {},
   "source": [
    "In this example, the middle word `'quux'` sits inside non-capturing parentheses, so it’s missing from the tuple of captured groups. It isn’t retrievable from the match object, nor would it be referable by backreference.\n",
    "\n",
    "Why would you want to define a group but not capture it?\n",
    "\n",
    "Remember that the regex parser will treat the `<regex>` inside grouping parentheses as a single unit. You may have a situation where you need this grouping feature, but you don’t need to do anything with the value later, so you don’t really need to capture it. If you use non-capturing grouping, then the tuple of captured groups won’t be cluttered with values you don’t actually need to keep.\n",
    "\n",
    "Additionally, it takes some time and memory to capture a group. If the code that performs the match executes many times and you don’t capture groups that you aren’t going to use later, then you may see a slight performance advantage."
   ]
  },
  {
   "cell_type": "markdown",
   "id": "42fafbe0",
   "metadata": {},
   "source": [
    "**`(?(<n>)<yes-regex>|<no-regex>)`**  \n",
    "**`(?(<name>)<yes-regex>|<no-regex>)`**\n",
    "\n",
    "    Specifies a conditional match."
   ]
  },
  {
   "cell_type": "markdown",
   "id": "a82dabd1",
   "metadata": {},
   "source": [
    "A conditional match matches against one of two specified regexes depending on whether the given group exists:\n",
    "\n",
    "- `(?(<n>)<yes-regex>|<no-regex>)` matches against `<yes-regex>` if a group numbered `<n>` exists. Otherwise, it matches against `<no-regex>`.\n",
    "\n",
    "- `(?(<name>)<yes-regex>|<no-regex>)` matches against `<yes-regex>` if a group named `<name>` exists. Otherwise, it matches against `<no-regex>`.\n",
    "\n",
    "Conditional matches are better illustrated with an example. Consider this regex:"
   ]
  },
  {
   "cell_type": "code",
   "execution_count": 136,
   "id": "c8c97730",
   "metadata": {},
   "outputs": [],
   "source": [
    "regex = r'^(###)?foo(?(1)bar|baz)'"
   ]
  },
  {
   "cell_type": "markdown",
   "id": "31f1efc9",
   "metadata": {},
   "source": [
    "Here are the parts of this regex broken out with some explanation:\n",
    "\n",
    "1. `^(###)?` indicates that the search string optionally begins with `'###'`. If it does, then the grouping parentheses around `###` will create a group numbered `1`. Otherwise, no such group will exist.\n",
    "    \n",
    "2. The next portion, `foo`, literally matches the string `'foo'`.\n",
    "    \n",
    "3. Lastly, `(?(1)bar|baz)` matches against `'bar'` if group 1 exists and `'baz'` if it doesn’t.\n",
    "\n",
    "The following code blocks demonstrate the use of the above regex in several different Python code snippets:\n",
    "\n",
    "**Example 1:**"
   ]
  },
  {
   "cell_type": "code",
   "execution_count": 137,
   "id": "ffa084a5",
   "metadata": {},
   "outputs": [
    {
     "name": "stdout",
     "output_type": "stream",
     "text": [
      "<re.Match object; span=(0, 9), match='###foobar'>\n"
     ]
    }
   ],
   "source": [
    "print (re.search(regex, '###foobar')) # <_sre.SRE_Match object; span=(0, 9), match='###foobar'>"
   ]
  },
  {
   "cell_type": "markdown",
   "id": "bb393c23",
   "metadata": {},
   "source": [
    "The search string `'###foobar'` does start with `'###'`, so the parser creates a group numbered `1`. The conditional match is then against `'bar'`, which matches.\n",
    "\n",
    "**Example 2:**"
   ]
  },
  {
   "cell_type": "code",
   "execution_count": 138,
   "id": "5274455b",
   "metadata": {},
   "outputs": [
    {
     "name": "stdout",
     "output_type": "stream",
     "text": [
      "None\n"
     ]
    }
   ],
   "source": [
    "print(re.search(regex, '###foobaz')) # None"
   ]
  },
  {
   "cell_type": "markdown",
   "id": "0da89727",
   "metadata": {},
   "source": [
    "The search string `'###foobaz'` does start with `'###'`, so the parser creates a group numbered `1`. The conditional match is then against `'bar'`, which doesn’t match.\n",
    "\n",
    "**Example 3:**"
   ]
  },
  {
   "cell_type": "code",
   "execution_count": 139,
   "id": "b001666a",
   "metadata": {},
   "outputs": [
    {
     "name": "stdout",
     "output_type": "stream",
     "text": [
      "None\n"
     ]
    }
   ],
   "source": [
    "print(re.search(regex, 'foobar')) # None"
   ]
  },
  {
   "cell_type": "markdown",
   "id": "c54b7c23",
   "metadata": {},
   "source": [
    "The search string `'foobar'` doesn’t start with `'###'`, so there isn’t a group numbered `1`. The conditional match is then against 'baz', which doesn’t match.\n",
    "\n",
    "**Example 4:**"
   ]
  },
  {
   "cell_type": "code",
   "execution_count": 140,
   "id": "476b5a3d",
   "metadata": {},
   "outputs": [
    {
     "name": "stdout",
     "output_type": "stream",
     "text": [
      "<re.Match object; span=(0, 6), match='foobaz'>\n"
     ]
    }
   ],
   "source": [
    "print (re.search(regex, 'foobaz')) # <_sre.SRE_Match object; span=(0, 6), match='foobaz'>"
   ]
  },
  {
   "cell_type": "markdown",
   "id": "f060a7af",
   "metadata": {},
   "source": [
    "The search string `'foobaz'` doesn’t start with `'###'`, so there isn’t a group numbered `1`. The conditional match is then against `'baz'`, which matches.\n",
    "\n",
    "Here’s another conditional match using a named group instead of a numbered group:"
   ]
  },
  {
   "cell_type": "code",
   "execution_count": 141,
   "id": "be6c0923",
   "metadata": {},
   "outputs": [],
   "source": [
    "regex = r'^(?P<ch>\\W)?foo(?(ch)(?P=ch)|)$'"
   ]
  },
  {
   "cell_type": "markdown",
   "id": "6868d4ce",
   "metadata": {},
   "source": [
    "This regex matches the string `'foo'`, preceded by a single non-word character and followed by the same non-word character, or the string `'foo'` by itself.\n",
    "\n",
    "Again, let’s break this down into pieces:"
   ]
  },
  {
   "cell_type": "markdown",
   "id": "1510e5ae",
   "metadata": {},
   "source": [
    "```\n",
    "Regex \t          Matches\n",
    "\n",
    "^ \t            The start of the string  \n",
    "\n",
    "(?P<ch>\\W) \t   A single non-word character, captured in a group named ch  \n",
    "\n",
    "(?P<ch>\\W)? \t  Zero or one occurrences of the above  \n",
    "\n",
    "foo \t          The literal string 'foo'  \n",
    "\n",
    "(?(ch)(?P=ch)|)   The contents of the group named ch if it exists, or   \n",
    "                   the empty string if it doesn’t   \n",
    "\n",
    "$ \t            The end of the string  \n",
    "```"
   ]
  },
  {
   "cell_type": "markdown",
   "id": "5db79bcc",
   "metadata": {},
   "source": [
    "If a non-word character precedes 'foo', then the parser creates a group named ch which contains that character. The conditional match then matches against <yes-regex>, which is (?P=ch), the same character again. That means the same character must also follow 'foo' for the entire match to succeed.\n",
    "\n",
    "If 'foo' isn’t preceded by a non-word character, then the parser doesn’t create group ch. <no-regex> is the empty string, which means there must not be anything following 'foo' for the entire match to succeed. Since ^ and $ anchor the whole regex, the string must equal 'foo' exactly.\n",
    "\n",
    "Here are some examples of searches using this regex in Python code:"
   ]
  },
  {
   "cell_type": "code",
   "execution_count": 142,
   "id": "8c12d25e",
   "metadata": {},
   "outputs": [
    {
     "name": "stdout",
     "output_type": "stream",
     "text": [
      "<re.Match object; span=(0, 3), match='foo'>\n",
      "<re.Match object; span=(0, 5), match='#foo#'>\n",
      "<re.Match object; span=(0, 5), match='@foo@'>\n",
      "None\n",
      "None\n",
      "None\n",
      "None\n",
      "None\n"
     ]
    }
   ],
   "source": [
    "print (re.search(regex, 'foo')) # line1 - <_sre.SRE_Match object; span=(0, 3), match='foo'>\n",
    "\n",
    "print (re.search(regex, '#foo#')) # line3 - <_sre.SRE_Match object; span=(0, 5), match='#foo#'>\n",
    "\n",
    "print (re.search(regex, '@foo@')) # line5 - <_sre.SRE_Match object; span=(0, 5), match='@foo@'>\n",
    "\n",
    "print (print(re.search(regex, '#foo'))) # line 8 - None\n",
    "\n",
    "print(re.search(regex, 'foo@')) # line 10 - None\n",
    "\n",
    "print(re.search(regex, '#foo@')) # line 12 - None\n",
    "\n",
    "print(re.search(regex, '@foo#')) # line 14 - None"
   ]
  },
  {
   "cell_type": "markdown",
   "id": "c7cfa880",
   "metadata": {},
   "source": [
    "On line 1, `'foo'` is by itself. On lines 3 and 5, the same non-word character precedes and follows `'foo'`. As advertised, these matches succeed.\n",
    "\n",
    "In the remaining cases, the matches fail.\n",
    "\n",
    "Conditional regexes in Python are pretty esoteric and challenging to work through. If you ever do find a reason to use one, then you could probably accomplish the same goal with multiple separate `re.search()` calls, and your code would be less complicated to read and understand."
   ]
  },
  {
   "cell_type": "markdown",
   "id": "f2713439",
   "metadata": {},
   "source": [
    "#### RP - Lookahead and Lookbehind Assertions"
   ]
  },
  {
   "cell_type": "markdown",
   "id": "61877461",
   "metadata": {},
   "source": [
    "**Lookahead** and **lookbehind** assertions determine the success or failure of a regex match in Python based on what is just behind (to the left) or ahead (to the right) of the parser’s current position in the search string.\n",
    "\n",
    "Like anchors, lookahead and lookbehind assertions are zero-width assertions, so they don’t consume any of the search string. Also, even though they contain parentheses and perform grouping, they don’t capture what they match."
   ]
  },
  {
   "cell_type": "markdown",
   "id": "9c6c05fe",
   "metadata": {},
   "source": [
    "**`(?=<lookahead_regex>)`**\n",
    "\n",
    "    Creates a positive lookahead assertion."
   ]
  },
  {
   "cell_type": "markdown",
   "id": "8fe9bd8a",
   "metadata": {},
   "source": [
    "`(?=<lookahead_regex>)` asserts that what follows the regex parser’s current position must match `<lookahead_regex>`:"
   ]
  },
  {
   "cell_type": "code",
   "execution_count": 148,
   "id": "868f221c",
   "metadata": {},
   "outputs": [
    {
     "name": "stdout",
     "output_type": "stream",
     "text": [
      "<re.Match object; span=(0, 3), match='foo'>\n"
     ]
    }
   ],
   "source": [
    "print (re.search('foo(?=[a-z])', 'foobar')) # <_sre.SRE_Match object; span=(0, 3), match='foo'>"
   ]
  },
  {
   "cell_type": "markdown",
   "id": "15027aae",
   "metadata": {},
   "source": [
    "The lookahead assertion `(?=[a-z])` specifies that what follows `'foo'` must be a lowercase alphabetic character. In this case, it’s the character `'b'`, so a match is found.\n",
    "\n",
    "In the next example, on the other hand, the lookahead fails. The next character after `'foo'` is `'1'`, so there isn’t a match:"
   ]
  },
  {
   "cell_type": "code",
   "execution_count": 147,
   "id": "fab1ba9f",
   "metadata": {},
   "outputs": [
    {
     "name": "stdout",
     "output_type": "stream",
     "text": [
      "None\n"
     ]
    }
   ],
   "source": [
    "print(re.search('foo(?=[a-z])', 'foo123')) # None"
   ]
  },
  {
   "cell_type": "markdown",
   "id": "cb91e381",
   "metadata": {},
   "source": [
    "What’s unique about a lookahead is that the portion of the search string that matches `<lookahead_regex>` isn’t consumed, and it isn’t part of the returned match object.\n",
    "\n",
    "Take another look at the first example:"
   ]
  },
  {
   "cell_type": "code",
   "execution_count": 146,
   "id": "d1727c4d",
   "metadata": {},
   "outputs": [
    {
     "name": "stdout",
     "output_type": "stream",
     "text": [
      "<re.Match object; span=(0, 3), match='foo'>\n"
     ]
    }
   ],
   "source": [
    "print (re.search('foo(?=[a-z])', 'foobar')) # <_sre.SRE_Match object; span=(0, 3), match='foo'>"
   ]
  },
  {
   "cell_type": "markdown",
   "id": "d8481ff4",
   "metadata": {},
   "source": [
    "The regex parser looks ahead only to the `'b'` that follows `'foo'` but doesn’t pass over it yet. You can tell that `'b'` isn’t considered part of the match because the match object displays match=`'foo'`.\n",
    "\n",
    "Compare that to a similar example that uses grouping parentheses without a lookahead:"
   ]
  },
  {
   "cell_type": "code",
   "execution_count": 145,
   "id": "96fb43fa",
   "metadata": {},
   "outputs": [
    {
     "name": "stdout",
     "output_type": "stream",
     "text": [
      "<re.Match object; span=(0, 4), match='foob'>\n"
     ]
    }
   ],
   "source": [
    "print (re.search('foo([a-z])', 'foobar')) # <_sre.SRE_Match object; span=(0, 4), match='foob'>"
   ]
  },
  {
   "cell_type": "markdown",
   "id": "52d27902",
   "metadata": {},
   "source": [
    "This time, the regex consumes the `'b'`, and it becomes a part of the eventual match.\n",
    "\n",
    "Here’s another example illustrating how a lookahead differs from a conventional regex in Python:"
   ]
  },
  {
   "cell_type": "code",
   "execution_count": 143,
   "id": "32412d9f",
   "metadata": {},
   "outputs": [
    {
     "name": "stdout",
     "output_type": "stream",
     "text": [
      "b\n"
     ]
    }
   ],
   "source": [
    "m = re.search('foo(?=[a-z])(?P<ch>.)', 'foobar') # line 1\n",
    "\n",
    "print (m.group('ch')) # 'b'"
   ]
  },
  {
   "cell_type": "code",
   "execution_count": 144,
   "id": "a3365227",
   "metadata": {},
   "outputs": [
    {
     "name": "stdout",
     "output_type": "stream",
     "text": [
      "a\n"
     ]
    }
   ],
   "source": [
    "m = re.search('foo([a-z])(?P<ch>.)', 'foobar') # line 5\n",
    "\n",
    "print (m.group('ch')) # 'a'"
   ]
  },
  {
   "cell_type": "markdown",
   "id": "3ad3c8bf",
   "metadata": {},
   "source": [
    "In the first search, on line 1, the parser proceeds as follows:\n",
    "\n",
    "1. The first portion of the regex, `foo`, matches and consumes `'foo'` from the search string `'foobar'`.\n",
    "\n",
    "2. The next portion, `(?=[a-z])`, is a lookahead that matches `'b'`, but the parser doesn’t advance past the `'b'`.\n",
    "    \n",
    "3. Lastly, `(?P<ch>.)` matches the next single character available, which is `'b'`, and captures it in a group named `ch`.\n",
    "\n",
    "The `m.group('ch')` call confirms that the group named `ch` contains `'b'`.\n",
    "\n",
    "Compare that to the search on line 5, which doesn’t contain a lookahead:\n",
    "\n",
    "1. As in the first example, the first portion of the regex, `foo`, matches and consumes `'foo'` from the search string `'foobar'`.\n",
    "\n",
    "2. The next portion, `([a-z])`, matches and consumes `'b'`, and the parser advances past `'b'`.\n",
    "\n",
    "3. Lastly, `(?P<ch>.)` matches the next single character available, which is now `'a'`.\n",
    "\n",
    "`m.group('ch')` confirms that, in this case, the group named `ch` contains `'a'`."
   ]
  },
  {
   "cell_type": "markdown",
   "id": "fdcf8940",
   "metadata": {},
   "source": [
    "**`(?!<lookahead_regex>)`**\n",
    "\n",
    "    Creates a negative lookahead assertion."
   ]
  },
  {
   "cell_type": "markdown",
   "id": "d4484e3d",
   "metadata": {},
   "source": [
    "`(?!<lookahead_regex>)` asserts that what follows the regex parser’s current position must not match `<lookahead_regex>`.\n",
    "\n",
    "Here are the positive lookahead examples you saw earlier, along with their negative lookahead counterparts:"
   ]
  },
  {
   "cell_type": "code",
   "execution_count": 151,
   "id": "6dbb246e",
   "metadata": {},
   "outputs": [
    {
     "name": "stdout",
     "output_type": "stream",
     "text": [
      "<re.Match object; span=(0, 3), match='foo'>\n",
      "None\n",
      "None\n",
      "<re.Match object; span=(0, 3), match='foo'>\n"
     ]
    }
   ],
   "source": [
    "print (re.search('foo(?=[a-z])', 'foobar')) # <_sre.SRE_Match object; span=(0, 3), match='foo'>\n",
    "\n",
    "print(re.search('foo(?![a-z])', 'foobar')) # None\n",
    "\n",
    "print(re.search('foo(?=[a-z])', 'foo123')) # None\n",
    "\n",
    "print(re.search('foo(?![a-z])', 'foo123')) # <_sre.SRE_Match object; span=(0, 3), match='foo'>"
   ]
  },
  {
   "cell_type": "markdown",
   "id": "c7578da2",
   "metadata": {},
   "source": [
    "The negative lookahead assertions on lines 3 and 8 stipulate that what follows `'foo'` should not be a lowercase alphabetic character. This fails on line 3 but succeeds on line 8. This is the opposite of what happened with the corresponding positive lookahead assertions.\n",
    "\n",
    "As with a positive lookahead, what matches a negative lookahead isn’t part of the returned match object and isn’t consumed."
   ]
  },
  {
   "cell_type": "markdown",
   "id": "79e56932",
   "metadata": {},
   "source": [
    "**`(?<=<lookbehind_regex>)`**\n",
    "\n",
    "    Creates a positive lookbehind assertion."
   ]
  },
  {
   "cell_type": "markdown",
   "id": "d0ebfd7f",
   "metadata": {},
   "source": [
    "`(?<=<lookbehind_regex>)` asserts that what precedes the regex parser’s current position must match `<lookbehind_regex>`.\n",
    "\n",
    "In the following example, the lookbehind assertion specifies that `'foo'` must precede `'bar`':"
   ]
  },
  {
   "cell_type": "code",
   "execution_count": 154,
   "id": "7c58977e",
   "metadata": {},
   "outputs": [
    {
     "name": "stdout",
     "output_type": "stream",
     "text": [
      "<re.Match object; span=(3, 6), match='bar'>\n"
     ]
    }
   ],
   "source": [
    "print (re.search('(?<=foo)bar', 'foobar')) # <_sre.SRE_Match object; span=(3, 6), match='bar'>"
   ]
  },
  {
   "cell_type": "markdown",
   "id": "2d6871d3",
   "metadata": {},
   "source": [
    "This is the case here, so the match succeeds. As with lookahead assertions, the part of the search string that matches the lookbehind doesn’t become part of the eventual match.\n",
    "\n",
    "The next example fails to match because the lookbehind requires that `'qux'` precede `'bar'`:"
   ]
  },
  {
   "cell_type": "code",
   "execution_count": 155,
   "id": "ac58b22e",
   "metadata": {},
   "outputs": [
    {
     "name": "stdout",
     "output_type": "stream",
     "text": [
      "None\n"
     ]
    }
   ],
   "source": [
    "print(re.search('(?<=qux)bar', 'foobar')) # None"
   ]
  },
  {
   "cell_type": "markdown",
   "id": "6ae72ed5",
   "metadata": {},
   "source": [
    "There’s a restriction on lookbehind assertions that doesn’t apply to lookahead assertions. The `<lookbehind_regex>` in a lookbehind assertion must specify a match of fixed length.\n",
    "\n",
    "For example, the following isn’t allowed because the length of the string matched by `a+` is indeterminate:"
   ]
  },
  {
   "cell_type": "code",
   "execution_count": null,
   "id": "8f856ce1",
   "metadata": {
    "scrolled": false
   },
   "outputs": [],
   "source": [
    "print (re.search('(?<=a+)def', 'aaadef')) #\n",
    "'''\n",
    "Traceback (most recent call last):\n",
    "  File \"<pyshell#72>\", line 1, in <module>\n",
    "    re.search('(?<=a+)def', 'aaadef')\n",
    "  File \"C:\\Python36\\lib\\re.py\", line 182, in search\n",
    "    return _compile(pattern, flags).search(string)\n",
    "  File \"C:\\Python36\\lib\\re.py\", line 301, in _compile\n",
    "    p = sre_compile.compile(pattern, flags)\n",
    "  File \"C:\\Python36\\lib\\sre_compile.py\", line 566, in compile\n",
    "    code = _code(p, flags)\n",
    "  File \"C:\\Python36\\lib\\sre_compile.py\", line 551, in _code\n",
    "    _compile(code, p.data, flags)\n",
    "  File \"C:\\Python36\\lib\\sre_compile.py\", line 160, in _compile\n",
    "    raise error(\"look-behind requires fixed-width pattern\")\n",
    "sre_constants.error: look-behind requires fixed-width pattern\n",
    "'''"
   ]
  },
  {
   "cell_type": "markdown",
   "id": "204db17c",
   "metadata": {},
   "source": [
    "This, however, is okay:"
   ]
  },
  {
   "cell_type": "code",
   "execution_count": 158,
   "id": "a142d6b1",
   "metadata": {},
   "outputs": [
    {
     "name": "stdout",
     "output_type": "stream",
     "text": [
      "<re.Match object; span=(3, 6), match='def'>\n"
     ]
    }
   ],
   "source": [
    "print (re.search('(?<=a{3})def', 'aaadef')) # <_sre.SRE_Match object; span=(3, 6), match='def'>"
   ]
  },
  {
   "cell_type": "markdown",
   "id": "6ae64158",
   "metadata": {},
   "source": [
    "Anything that matches `a{3}` will have a fixed length of three, so `a{3}` is valid in a lookbehind assertion."
   ]
  },
  {
   "cell_type": "markdown",
   "id": "2bfb2816",
   "metadata": {},
   "source": [
    "**`(?<!<lookbehind_regex>)`**\n",
    "\n",
    "    Creates a negative lookbehind assertion."
   ]
  },
  {
   "cell_type": "markdown",
   "id": "04a5a720",
   "metadata": {},
   "source": [
    "`(?<!<lookbehind_regex>)` asserts that what precedes the regex parser’s current position must not match <lookbehind_regex>:"
   ]
  },
  {
   "cell_type": "code",
   "execution_count": 160,
   "id": "3894da45",
   "metadata": {},
   "outputs": [
    {
     "name": "stdout",
     "output_type": "stream",
     "text": [
      "None\n"
     ]
    }
   ],
   "source": [
    "print(re.search('(?<!foo)bar', 'foobar')) # None"
   ]
  },
  {
   "cell_type": "code",
   "execution_count": 159,
   "id": "e8817315",
   "metadata": {},
   "outputs": [
    {
     "name": "stdout",
     "output_type": "stream",
     "text": [
      "<re.Match object; span=(3, 6), match='bar'>\n"
     ]
    }
   ],
   "source": [
    "print (re.search('(?<!qux)bar', 'foobar')) # <_sre.SRE_Match object; span=(3, 6), match='bar'>"
   ]
  },
  {
   "cell_type": "markdown",
   "id": "29068d6b",
   "metadata": {},
   "source": [
    "As with the positive lookbehind assertion, `<lookbehind_regex>` must specify a match of fixed length."
   ]
  },
  {
   "cell_type": "markdown",
   "id": "665a62dc",
   "metadata": {},
   "source": [
    "### RP - Miscellaneous Metacharacters"
   ]
  },
  {
   "cell_type": "markdown",
   "id": "caddc65b",
   "metadata": {},
   "source": [
    "There are a couple more metacharacter sequences to cover. These are stray metacharacters that don’t obviously fall into any of the categories already discussed."
   ]
  },
  {
   "cell_type": "markdown",
   "id": "c9204740",
   "metadata": {},
   "source": [
    "**`(?#...)`**\n",
    "\n",
    "    Specifies a comment."
   ]
  },
  {
   "cell_type": "markdown",
   "id": "83c5ace0",
   "metadata": {},
   "source": [
    "The regex parser ignores anything contained in the sequence `(?#...)`:"
   ]
  },
  {
   "cell_type": "code",
   "execution_count": 161,
   "id": "2264fda4",
   "metadata": {},
   "outputs": [
    {
     "name": "stdout",
     "output_type": "stream",
     "text": [
      "<re.Match object; span=(4, 11), match='bar baz'>\n"
     ]
    }
   ],
   "source": [
    "print (re.search('bar(?#This is a comment) *baz', 'foo bar baz qux')) # <_sre.SRE_Match object; span=(4, 11), match='bar baz'>"
   ]
  },
  {
   "cell_type": "markdown",
   "id": "7944cb25",
   "metadata": {},
   "source": [
    "This allows you to specify documentation inside a regex in Python, which can be especially useful if the regex is particularly long."
   ]
  },
  {
   "cell_type": "markdown",
   "id": "45677db6",
   "metadata": {},
   "source": [
    "**Vertical bar, or pipe (|)**\n",
    "\n",
    "    Specifies a set of alternatives on which to match."
   ]
  },
  {
   "cell_type": "markdown",
   "id": "00692499",
   "metadata": {},
   "source": [
    "An expression of the form <regex1>|<regex2>|...|<regexn> matches at most one of the specified <regexi> expressions:"
   ]
  },
  {
   "cell_type": "code",
   "execution_count": 162,
   "id": "271c205b",
   "metadata": {},
   "outputs": [
    {
     "name": "stdout",
     "output_type": "stream",
     "text": [
      "<re.Match object; span=(0, 3), match='bar'>\n"
     ]
    }
   ],
   "source": [
    "print (re.search('foo|bar|baz', 'bar')) # <_sre.SRE_Match object; span=(0, 3), match='bar'>"
   ]
  },
  {
   "cell_type": "code",
   "execution_count": 163,
   "id": "7e81abcc",
   "metadata": {},
   "outputs": [
    {
     "name": "stdout",
     "output_type": "stream",
     "text": [
      "<re.Match object; span=(0, 3), match='baz'>\n"
     ]
    }
   ],
   "source": [
    "print (re.search('foo|bar|baz', 'baz')) # <_sre.SRE_Match object; span=(0, 3), match='baz'>"
   ]
  },
  {
   "cell_type": "code",
   "execution_count": 164,
   "id": "d4e2784a",
   "metadata": {},
   "outputs": [
    {
     "name": "stdout",
     "output_type": "stream",
     "text": [
      "None\n"
     ]
    }
   ],
   "source": [
    "print(re.search('foo|bar|baz', 'quux')) # None"
   ]
  },
  {
   "cell_type": "markdown",
   "id": "072d32c8",
   "metadata": {},
   "source": [
    "Here, `foo|bar|baz` will match any of `'foo'`, `'bar'`, or `'baz'`. You can separate any number of regexes using `|`.\n",
    "\n",
    "Alternation is non-greedy. The regex parser looks at the expressions separated by `|` in left-to-right order and returns the first match that it finds. The remaining expressions aren’t tested, even if one of them would produce a longer match:"
   ]
  },
  {
   "cell_type": "code",
   "execution_count": 165,
   "id": "8c9b846b",
   "metadata": {},
   "outputs": [
    {
     "name": "stdout",
     "output_type": "stream",
     "text": [
      "<re.Match object; span=(0, 3), match='foo'>\n"
     ]
    }
   ],
   "source": [
    "print (re.search('foo', 'foograult')) # <_sre.SRE_Match object; span=(0, 3), match='foo'>"
   ]
  },
  {
   "cell_type": "code",
   "execution_count": 166,
   "id": "8a13fcdd",
   "metadata": {},
   "outputs": [
    {
     "name": "stdout",
     "output_type": "stream",
     "text": [
      "<re.Match object; span=(3, 9), match='grault'>\n"
     ]
    }
   ],
   "source": [
    "print (re.search('grault', 'foograult')) # <_sre.SRE_Match object; span=(3, 9), match='grault'>"
   ]
  },
  {
   "cell_type": "code",
   "execution_count": 167,
   "id": "8b87486b",
   "metadata": {},
   "outputs": [
    {
     "name": "stdout",
     "output_type": "stream",
     "text": [
      "<re.Match object; span=(0, 3), match='foo'>\n"
     ]
    }
   ],
   "source": [
    "print (re.search('foo|grault', 'foograult')) # <_sre.SRE_Match object; span=(0, 3), match='foo'>"
   ]
  },
  {
   "cell_type": "markdown",
   "id": "90af692e",
   "metadata": {},
   "source": [
    "In this case, the pattern specified on line 6, `'foo|grault'`, would match on either `'foo'` or `'grault'`. The match returned is `'foo'` because that appears first when scanning from left to right, even though `'grault'` would be a longer match.\n",
    "\n",
    "You can combine alternation, grouping, and any other metacharacters to achieve whatever level of complexity you need. In the following example, (foo|bar|baz)+ means a sequence of one or more of the strings 'foo', 'bar', or 'baz':"
   ]
  },
  {
   "cell_type": "markdown",
   "id": "93bbd7e5",
   "metadata": {},
   "source": [
    ">>> re.search('(foo|bar|baz)+', 'foofoofoo')\n",
    "<_sre.SRE_Match object; span=(0, 9), match='foofoofoo'>\n",
    ">>> re.search('(foo|bar|baz)+', 'bazbazbazbaz')\n",
    "<_sre.SRE_Match object; span=(0, 12), match='bazbazbazbaz'>\n",
    ">>> re.search('(foo|bar|baz)+', 'barbazfoo')\n",
    "<_sre.SRE_Match object; span=(0, 9), match='barbazfoo'>"
   ]
  },
  {
   "cell_type": "markdown",
   "id": "b5e85c15",
   "metadata": {},
   "source": [
    "In the next example, `([0-9]+|[a-f]+)` means a sequence of one or more decimal digit characters or a sequence of one or more of the characters `'a-f'`:"
   ]
  },
  {
   "cell_type": "code",
   "execution_count": 168,
   "id": "c8fbe59e",
   "metadata": {},
   "outputs": [
    {
     "name": "stdout",
     "output_type": "stream",
     "text": [
      "<re.Match object; span=(0, 3), match='456'>\n"
     ]
    }
   ],
   "source": [
    "print (re.search('([0-9]+|[a-f]+)', '456')) # <_sre.SRE_Match object; span=(0, 3), match='456'>"
   ]
  },
  {
   "cell_type": "code",
   "execution_count": 169,
   "id": "7b91173e",
   "metadata": {},
   "outputs": [
    {
     "name": "stdout",
     "output_type": "stream",
     "text": [
      "<re.Match object; span=(0, 4), match='ffda'>\n"
     ]
    }
   ],
   "source": [
    "print (re.search('([0-9]+|[a-f]+)', 'ffda')) # <_sre.SRE_Match object; span=(0, 4), match='ffda'>"
   ]
  },
  {
   "cell_type": "markdown",
   "id": "e477377c",
   "metadata": {},
   "source": [
    "With all the metacharacters that the re module supports, the sky is practically the limit."
   ]
  },
  {
   "cell_type": "markdown",
   "id": "3a18d1b6",
   "metadata": {},
   "source": [
    "#### RP - That’s All, Folks!"
   ]
  },
  {
   "cell_type": "markdown",
   "id": "939d3d43",
   "metadata": {},
   "source": [
    "That completes our tour of the regex metacharacters supported by Python’s `re` module. (Actually, it doesn’t quite — there are a couple more stragglers you’ll learn about below in the discussion on flags.)\n",
    "\n",
    "It’s a lot to digest, but once you become familiar with regex syntax in Python, the complexity of pattern matching that you can perform is almost limitless. These tools come in very handy when you’re writing code to process textual data.\n",
    "\n",
    "If you’re new to regexes and want more practice working with them, or if you’re developing an application that uses a regex and you want to test it interactively, then check out the Regular Expressions 101 website. It’s seriously cool!"
   ]
  },
  {
   "cell_type": "markdown",
   "id": "96a3b363",
   "metadata": {},
   "source": [
    "### RP - Modified Regular Expression Matching With Flags"
   ]
  },
  {
   "cell_type": "markdown",
   "id": "3f7397ec",
   "metadata": {},
   "source": [
    "Most of the functions in the `re` module take an optional `<flags>` argument. This includes the function you’re now very familiar with, `re.search()`.\n",
    "\n",
    "`re.search(<regex>, <string>, <flags>)`\n",
    "\n",
    "- Scans a string for a regex match, applying the specified modifier <flags>.\n",
    "\n",
    "Flags modify regex parsing behavior, allowing you to refine your pattern matching even further."
   ]
  },
  {
   "cell_type": "markdown",
   "id": "e213b6d6",
   "metadata": {},
   "source": [
    "#### RP - Supported Regular Expression Flags"
   ]
  },
  {
   "cell_type": "markdown",
   "id": "7530ee16",
   "metadata": {},
   "source": [
    "The table below briefly summarizes the available flags. All flags except `re.DEBUG` have a short, single-letter name and also a longer, full-word name:\n",
    "\n",
    "```\n",
    "Short  Long\n",
    "Name   Name \t       Effect\n",
    "\n",
    "re.I  re.IGNORECASE Makes matching of alphabetic characters case-insensitive  \n",
    "re.M  re.MULTILINE  Causes start-of-string and end-of-string anchors to match       \n",
    "re.S  re.DOTALL     Causes the dot metacharacter to match a newline \n",
    "re.X  re.VERBOSE    Allows inclusion of whitespace and comments within a \n",
    "                     regular expression \n",
    "----  re.DEBUG      Causes the regex parser to display debugging information to \n",
    "                     the console \n",
    "re.A  re.ASCII      Specifies ASCII encoding for character classification \n",
    "re.U  re.UNICODE    Specifies Unicode encoding for character classification \n",
    "re.L  re.LOCALE \tSpecifies encoding for character classification based on the \n",
    "                     current locale\n",
    "```"
   ]
  },
  {
   "cell_type": "markdown",
   "id": "7223be86",
   "metadata": {},
   "source": [
    "The following sections describe in more detail how these flags affect matching behavior."
   ]
  },
  {
   "cell_type": "markdown",
   "id": "f7451c83",
   "metadata": {},
   "source": [
    "**`re.I`**  \n",
    "**`re.IGNORECASE`**\n",
    "\n",
    "- Makes matching case insensitive."
   ]
  },
  {
   "cell_type": "markdown",
   "id": "d2a566ed",
   "metadata": {},
   "source": [
    "When `IGNORECASE` is in effect, character matching is case insensitive:"
   ]
  },
  {
   "cell_type": "code",
   "execution_count": null,
   "id": "bedf8f50",
   "metadata": {},
   "outputs": [],
   "source": [
    "print(re.search('a+', 'aaaAAA')) # <_sre.SRE_Match object; span=(0, 3), match='aaa'>\n",
    "print(re.search('A+', 'aaaAAA')) # <_sre.SRE_Match object; span=(3, 6), match='AAA'>\n",
    "print(re.search('a+', 'aaaAAA', re.I)) # <_sre.SRE_Match object; span=(0, 6), match='aaaAAA'>\n",
    "print(re.search('A+', 'aaaAAA', re.IGNORECASE)) # <_sre.SRE_Match object; span=(0, 6), match='aaaAAA'>"
   ]
  },
  {
   "cell_type": "markdown",
   "id": "02331ca0",
   "metadata": {},
   "source": [
    "In the search on line 1, `a+` matches only the first three characters of `'aaaAAA'`. Similarly, on line 3, `A+` matches only the last three characters. But in the subsequent searches, the parser ignores case, so both `a+` and `A+` match the entire string.\n",
    "\n",
    "`IGNORECASE` affects alphabetic matching involving character classes as well:"
   ]
  },
  {
   "cell_type": "code",
   "execution_count": null,
   "id": "3c88042f",
   "metadata": {},
   "outputs": [],
   "source": [
    "print(re.search('[a-z]+', 'aBcDeF')) # <_sre.SRE_Match object; span=(0, 1), match='a'>\n",
    "print(re.search('[a-z]+', 'aBcDeF', re.I)) # <_sre.SRE_Match object; span=(0, 6), match='aBcDeF'>"
   ]
  },
  {
   "cell_type": "markdown",
   "id": "a5b200b0",
   "metadata": {},
   "source": [
    "When case is significant, the longest portion of `'aBcDeF'` that `[a-z]+` matches is just the initial `'a'`. Specifying `re.I` makes the search case insensitive, so `[a-z]+` matches the entire string."
   ]
  },
  {
   "cell_type": "markdown",
   "id": "9d9f6cb0",
   "metadata": {},
   "source": [
    "**`re.M`**  \n",
    "**`re.MULTILINE`**  \n",
    "\n",
    "    Causes start-of-string and end-of-string anchors to match at embedded newlines."
   ]
  },
  {
   "cell_type": "markdown",
   "id": "ff3091a6",
   "metadata": {},
   "source": [
    "By default, the `^` (start-of-string) and `$` (end-of-string) anchors match only at the beginning and end of the search string:"
   ]
  },
  {
   "cell_type": "code",
   "execution_count": null,
   "id": "0eafd96b",
   "metadata": {},
   "outputs": [],
   "source": [
    "s = 'foo\\nbar\\nbaz'\n",
    "print(re.search('^foo', s)) # <_sre.SRE_Match object; span=(0, 3), match='foo'>\n",
    "print(re.search('^bar', s)) # None\n",
    "print(re.search('^baz', s)) # None\n",
    "print(re.search('foo$', s)) # None\n",
    "print(re.search('bar$', s)) # None\n",
    "print(re.search('baz$', s)) # <_sre.SRE_Match object; span=(8, 11), match='baz'>"
   ]
  },
  {
   "cell_type": "markdown",
   "id": "490f7b55",
   "metadata": {},
   "source": [
    "In this case, even though the search string `'foo\\nbar\\nbaz'` contains embedded newline characters, only `'foo'` matches when anchored at the beginning of the string, and only `'baz'` matches when anchored at the end.\n",
    "\n",
    "If a string has embedded newlines, however, you can think of it as consisting of multiple internal lines. In that case, if the `MULTILINE` flag is set, the `^` and `$` anchor metacharacters match internal lines as well:\n",
    "\n",
    "- `^` matches at the beginning of the string or at the beginning of any line within the string (that is, immediately following a newline).\n",
    "- `$` matches at the end of the string or at the end of any line within the string (immediately preceding a newline).\n",
    "\n",
    "The following are the same searches as shown above:"
   ]
  },
  {
   "cell_type": "code",
   "execution_count": null,
   "id": "87e7a039",
   "metadata": {},
   "outputs": [],
   "source": [
    "s = 'foo\\nbar\\nbaz'\n",
    "print(s)\n",
    "\n",
    "print(re.search('^foo', s, re.MULTILINE)) # <_sre.SRE_Match object; span=(0, 3), match='foo'>\n",
    "print(re.search('^bar', s, re.MULTILINE)) # <_sre.SRE_Match object; span=(4, 7), match='bar'>\n",
    "print(re.search('^baz', s, re.MULTILINE)) # <_sre.SRE_Match object; span=(8, 11), match='baz'>\n",
    "print(re.search('foo$', s, re.M)) # <_sre.SRE_Match object; span=(0, 3), match='foo'>\n",
    "print(re.search('bar$', s, re.M)) # <_sre.SRE_Match object; span=(4, 7), match='bar'>\n",
    "print(re.search('baz$', s, re.M)) # <_sre.SRE_Match object; span=(8, 11), match='baz'>"
   ]
  },
  {
   "cell_type": "markdown",
   "id": "3f84c02b",
   "metadata": {},
   "source": [
    "In the string `'foo\\nbar\\nbaz'`, all three of `'foo'`, `'bar'`, and `'baz'` occur at either the start or end of the string or at the start or end of a line within the string. With the `MULTILINE` flag set, all three match when anchored with either `^` or `$`.\n",
    "\n",
    "Note: The `MULTILINE` flag only modifies the `^` and `$` anchors in this way. It doesn’t have any effect on the `\\A` and `\\Z` anchors:"
   ]
  },
  {
   "cell_type": "code",
   "execution_count": null,
   "id": "cee7dff9",
   "metadata": {},
   "outputs": [],
   "source": [
    "s = 'foo\\nbar\\nbaz'\n",
    "print(re.search('^bar', s, re.MULTILINE))  # <_sre.SRE_Match object; span=(4, 7), match='bar'>\n",
    "print(re.search('bar$', s, re.MULTILINE))  # <_sre.SRE_Match object; span=(4, 7), match='bar'>\n",
    "print(re.search('\\Abar', s, re.MULTILINE)) # None\n",
    "print(re.search('bar\\Z', s, re.MULTILINE)) # None"
   ]
  },
  {
   "cell_type": "markdown",
   "id": "b0b4d6a9",
   "metadata": {},
   "source": [
    "On lines 3 and 5, the `^` and `$` anchors dictate that `'bar'` must be found at the start and end of a line. Specifying the `MULTILINE` flag makes these matches succeed.\n",
    "\n",
    "The examples on lines 8 and 10 use the `\\A` and `\\Z` flags instead. You can see that these matches fail even with the MULTILINE flag in effect."
   ]
  },
  {
   "cell_type": "markdown",
   "id": "8bcda54c",
   "metadata": {},
   "source": [
    "**`re.S`**  \n",
    "**`re.DOTALL`**  \n",
    "\n",
    "    Causes the dot (`.`) metacharacter to match a newline."
   ]
  },
  {
   "cell_type": "markdown",
   "id": "712707e8",
   "metadata": {},
   "source": [
    "Remember that by default, the dot metacharacter matches any character except the newline character. The `DOTALL` flag lifts this restriction:"
   ]
  },
  {
   "cell_type": "code",
   "execution_count": null,
   "id": "71c7bcab",
   "metadata": {},
   "outputs": [],
   "source": [
    "print(re.search('foo.bar', 'foo\\nbar')) # None - Line 1\n",
    "print(re.search('foo.bar', 'foo\\nbar', re.DOTALL)) # <_sre.SRE_Match object; span=(0, 7), match='foo\\nbar'> - Line 3\n",
    "print(re.search('foo.bar', 'foo\\nbar', re.S)) # <_sre.SRE_Match object; span=(0, 7), match='foo\\nbar'> - Line 5"
   ]
  },
  {
   "cell_type": "markdown",
   "id": "d3f83e9d",
   "metadata": {},
   "source": [
    "In this example, on line 1 the dot metacharacter doesn’t match the newline in `'foo\\nbar'`. On lines 3 and 5, `DOTALL` is in effect, so the dot does match the newline. Note that the short name of the `DOTALL` flag is `re.S`, not `re.D` as you might expect."
   ]
  },
  {
   "cell_type": "markdown",
   "id": "8e26f507",
   "metadata": {},
   "source": [
    "**`re.X`**  \n",
    "**`re.VERBOSE`**  \n",
    "\n",
    "- Allows inclusion of whitespace and comments within a regex."
   ]
  },
  {
   "cell_type": "markdown",
   "id": "e782183b",
   "metadata": {},
   "source": [
    "The `VERBOSE` flag specifies a few special behaviors:\n",
    "\n",
    "- The regex parser ignores all whitespace unless it’s within a character class or escaped with a backslash.\n",
    "\n",
    "- If the regex contains a # character that isn’t contained within a character class or escaped with a backslash, then the parser ignores it and all characters to the right of it.\n",
    "\n",
    "What’s the use of this? It allows you to format a regex in Python so that it’s more readable and self-documenting.\n",
    "\n",
    "Here’s an example showing how you might put this to use. Suppose you want to parse phone numbers that have the following format:\n",
    "\n",
    "- Optional three-digit area code, in parentheses\n",
    "- Optional whitespace\n",
    "- Three-digit prefix\n",
    "- Separator (either `'-'` or `'.'`)\n",
    "- Four-digit line number\n",
    "\n",
    "The following regex does the trick:"
   ]
  },
  {
   "cell_type": "code",
   "execution_count": 68,
   "id": "344fa864",
   "metadata": {},
   "outputs": [
    {
     "name": "stdout",
     "output_type": "stream",
     "text": [
      "<re.Match object; span=(0, 8), match='414.9229'>\n",
      "<re.Match object; span=(0, 8), match='414-9229'>\n",
      "<re.Match object; span=(0, 13), match='(712)414-9229'>\n",
      "<re.Match object; span=(0, 14), match='(712) 414-9229'>\n"
     ]
    }
   ],
   "source": [
    "regex = r'^(\\(\\d{3}\\))?\\s*\\d{3}[-.]\\d{4}$'\n",
    "\n",
    "print(re.search(regex, '414.9229')) # <_sre.SRE_Match object; span=(0, 8), match='414.9229'>\n",
    "print(re.search(regex, '414-9229')) # <_sre.SRE_Match object; span=(0, 8), match='414-9229'>\n",
    "print(re.search(regex, '(712)414-9229')) # <_sre.SRE_Match object; span=(0, 13), match='(712)414-9229'>\n",
    "print(re.search(regex, '(712) 414-9229')) # <_sre.SRE_Match object; span=(0, 14), match='(712) 414-9229'>"
   ]
  },
  {
   "cell_type": "markdown",
   "id": "899bbd8b",
   "metadata": {},
   "source": [
    "But `r'^(\\(\\d{3}\\))?\\s*\\d{3}[-.]\\d{4}$'` is an eyeful, isn’t it? Using the `VERBOSE` flag, you can write the same regex in Python like this instead:"
   ]
  },
  {
   "cell_type": "code",
   "execution_count": 69,
   "id": "ce903fd8",
   "metadata": {},
   "outputs": [
    {
     "name": "stdout",
     "output_type": "stream",
     "text": [
      "<re.Match object; span=(0, 8), match='414.9229'>\n",
      "<re.Match object; span=(0, 8), match='414-9229'>\n",
      "<re.Match object; span=(0, 13), match='(712)414-9229'>\n",
      "<re.Match object; span=(0, 14), match='(712) 414-9229'>\n"
     ]
    }
   ],
   "source": [
    "regex = r'''^               # Start of string\n",
    "(\\(\\d{3}\\))?    # Optional area code\n",
    "\\s*             # Optional whitespace\n",
    "\\d{3}           # Three-digit prefix\n",
    "[-.]            # Separator character\n",
    "\\d{4}           # Four-digit line number\n",
    "$               # Anchor at end of string\n",
    "'''\n",
    "\n",
    "print(re.search(regex, '414.9229', re.VERBOSE)) # <_sre.SRE_Match object; span=(0, 8), match='414.9229'>\n",
    "print(re.search(regex, '414-9229', re.VERBOSE)) # <_sre.SRE_Match object; span=(0, 8), match='414-9229'>\n",
    "print(re.search(regex, '(712)414-9229', re.X)) # <_sre.SRE_Match object; span=(0, 13), match='(712)414-9229'>\n",
    "print(re.search(regex, '(712) 414-9229', re.X)) # <_sre.SRE_Match object; span=(0, 14), match='(712) 414-9229'>"
   ]
  },
  {
   "cell_type": "markdown",
   "id": "f1804297",
   "metadata": {},
   "source": [
    "The `re.search()` calls are the same as those shown above, so you can see that this regex works the same as the one specified earlier. But it’s less difficult to understand at first glance.\n",
    "\n",
    "Note that triple quoting makes it particularly convenient to include embedded newlines, which qualify as ignored whitespace in `VERBOSE` mode.\n",
    "\n",
    "When using the `VERBOSE` flag, be mindful of whitespace that you do intend to be significant. Consider these examples:"
   ]
  },
  {
   "cell_type": "code",
   "execution_count": null,
   "id": "e4693923",
   "metadata": {},
   "outputs": [],
   "source": [
    "print(re.search('foo bar', 'foo bar')) # <_sre.SRE_Match object; span=(0, 7), match='foo bar'>\n",
    "print(re.search('foo bar', 'foo bar', re.VERBOSE)) # None - Line 4\n",
    "print(re.search('foo\\ bar', 'foo bar', re.VERBOSE)) # <_sre.SRE_Match object; span=(0, 7), match='foo bar'> - Line 7\n",
    "print(re.search('foo[ ]bar', 'foo bar', re.VERBOSE)) # <_sre.SRE_Match object; span=(0, 7), match='foo bar'> - Line 9"
   ]
  },
  {
   "cell_type": "markdown",
   "id": "ca638cf2",
   "metadata": {},
   "source": [
    "After all you’ve seen to this point, you may be wondering why on line 4 the regex `foo bar` doesn’t match the string `'foo bar'`. It doesn’t because the `VERBOSE` flag causes the parser to ignore the space character.\n",
    "\n",
    "To make this match as expected, escape the space character with a backslash or include it in a character class, as shown on lines 7 and 9.\n",
    "\n",
    "As with the `DOTALL` flag, note that the `VERBOSE` flag has a non-intuitive short name: `re.X`, not `re.V`."
   ]
  },
  {
   "cell_type": "markdown",
   "id": "55a01ac9",
   "metadata": {},
   "source": [
    "**`re.DEBUG`**\n",
    "\n",
    "- Displays debugging information."
   ]
  },
  {
   "cell_type": "markdown",
   "id": "c9a9b8b5",
   "metadata": {},
   "source": [
    "The `DEBUG` flag causes the regex parser in Python to display debugging information about the parsing process to the console:"
   ]
  },
  {
   "cell_type": "code",
   "execution_count": null,
   "id": "dc78ec0c",
   "metadata": {},
   "outputs": [],
   "source": [
    "print(re.search('foo.bar', 'fooxbar', re.DEBUG))\n",
    "'''\n",
    "LITERAL 102\n",
    "LITERAL 111\n",
    "LITERAL 111\n",
    "ANY None\n",
    "LITERAL 98\n",
    "LITERAL 97\n",
    "LITERAL 114\n",
    "<_sre.SRE_Match object; span=(0, 7), match='fooxbar'>\n",
    "''' \n",
    "47"
   ]
  },
  {
   "cell_type": "markdown",
   "id": "847bb75c",
   "metadata": {},
   "source": [
    "When the parser displays `LITERAL nnn` in the debugging output, it’s showing the ASCII code of a literal character in the regex. In this case, the literal characters are `'f'`, `'o'`, `'o'` and `'b'`, `'a'`, `'r'`.\n",
    "\n",
    "Here’s a more complicated example. This is the phone number regex shown in the discussion on the `VERBOSE` flag earlier:"
   ]
  },
  {
   "cell_type": "code",
   "execution_count": 70,
   "id": "2da71c74",
   "metadata": {},
   "outputs": [
    {
     "name": "stdout",
     "output_type": "stream",
     "text": [
      "AT AT_BEGINNING\n",
      "MAX_REPEAT 0 1\n",
      "  SUBPATTERN 1 0 0\n",
      "    LITERAL 40\n",
      "    MAX_REPEAT 3 3\n",
      "      IN\n",
      "        CATEGORY CATEGORY_DIGIT\n",
      "    LITERAL 41\n",
      "MAX_REPEAT 0 MAXREPEAT\n",
      "  IN\n",
      "    CATEGORY CATEGORY_SPACE\n",
      "MAX_REPEAT 3 3\n",
      "  IN\n",
      "    CATEGORY CATEGORY_DIGIT\n",
      "IN\n",
      "  LITERAL 45\n",
      "  LITERAL 46\n",
      "MAX_REPEAT 4 4\n",
      "  IN\n",
      "    CATEGORY CATEGORY_DIGIT\n",
      "AT AT_END\n",
      "\n",
      " 0. INFO 4 0b0 8 MAXREPEAT (to 5)\n",
      " 5: AT BEGINNING\n",
      " 7. REPEAT 21 0 1 (to 29)\n",
      "11.   MARK 0\n",
      "13.   LITERAL 0x28 ('(')\n",
      "15.   REPEAT_ONE 9 3 3 (to 25)\n",
      "19.     IN 4 (to 24)\n",
      "21.       CATEGORY UNI_DIGIT\n",
      "23.       FAILURE\n",
      "24:     SUCCESS\n",
      "25:   LITERAL 0x29 (')')\n",
      "27.   MARK 1\n",
      "29: MAX_UNTIL\n",
      "30. REPEAT_ONE 9 0 MAXREPEAT (to 40)\n",
      "34.   IN 4 (to 39)\n",
      "36.     CATEGORY UNI_SPACE\n",
      "38.     FAILURE\n",
      "39:   SUCCESS\n",
      "40: REPEAT_ONE 9 3 3 (to 50)\n",
      "44.   IN 4 (to 49)\n",
      "46.     CATEGORY UNI_DIGIT\n",
      "48.     FAILURE\n",
      "49:   SUCCESS\n",
      "50: IN 5 (to 56)\n",
      "52.   RANGE 0x2d 0x2e ('-'-'.')\n",
      "55.   FAILURE\n",
      "56: REPEAT_ONE 9 4 4 (to 66)\n",
      "60.   IN 4 (to 65)\n",
      "62.     CATEGORY UNI_DIGIT\n",
      "64.     FAILURE\n",
      "65:   SUCCESS\n",
      "66: AT END\n",
      "68. SUCCESS\n",
      "<re.Match object; span=(0, 8), match='414.9229'>\n"
     ]
    }
   ],
   "source": [
    "regex = r'^(\\(\\d{3}\\))?\\s*\\d{3}[-.]\\d{4}$'\n",
    "\n",
    "print(re.search(regex, '414.9229', re.DEBUG)) \n",
    "\n",
    "# '''  \n",
    "# AT AT_BEGINNING\n",
    "# MAX_REPEAT 0 1\n",
    "#   SUBPATTERN 1 0 0\n",
    "#     LITERAL 40\n",
    "#     MAX_REPEAT 3 3\n",
    "#       IN\n",
    "#         CATEGORY CATEGORY_DIGIT\n",
    "#     LITERAL 41\n",
    "# MAX_REPEAT 0 MAXREPEAT\n",
    "#   IN\n",
    "#     CATEGORY CATEGORY_SPACE\n",
    "# MAX_REPEAT 3 3\n",
    "#   IN\n",
    "#     CATEGORY CATEGORY_DIGIT\n",
    "# IN\n",
    "#   LITERAL 45\n",
    "#   LITERAL 46\n",
    "# MAX_REPEAT 4 4\n",
    "#   IN\n",
    "#     CATEGORY CATEGORY_DIGIT\n",
    "# AT AT_END\n",
    "# <_sre.SRE_Match object; span=(0, 8), match='414.9229'>\n",
    "# '''  "
   ]
  },
  {
   "cell_type": "markdown",
   "id": "53f36c4d",
   "metadata": {},
   "source": [
    "This looks like a lot of esoteric information that you’d never need, but it can be useful. See the Deep Dive below for a practical application."
   ]
  },
  {
   "cell_type": "markdown",
   "id": "cd392769",
   "metadata": {},
   "source": [
    "### RP - Deep Dive: Debugging Regular Expression Parsing"
   ]
  },
  {
   "cell_type": "markdown",
   "id": "0d41746e",
   "metadata": {},
   "source": [
    "As you know from above, the metacharacter sequence `{m,n}` indicates a specific number of repetitions. It matches anywhere from `m` to `n` repetitions of what precedes it:"
   ]
  },
  {
   "cell_type": "code",
   "execution_count": 71,
   "id": "55e0f9b9",
   "metadata": {},
   "outputs": [
    {
     "name": "stdout",
     "output_type": "stream",
     "text": [
      "<re.Match object; span=(0, 5), match='x222y'>\n"
     ]
    }
   ],
   "source": [
    "print (re.search('x[123]{2,4}y', 'x222y')) # <_sre.SRE_Match object; span=(0, 5), match='x222y'>"
   ]
  },
  {
   "cell_type": "markdown",
   "id": "28512ff8",
   "metadata": {},
   "source": [
    "You can verify this with the DEBUG flag:"
   ]
  },
  {
   "cell_type": "code",
   "execution_count": 73,
   "id": "d9cd22fe",
   "metadata": {},
   "outputs": [
    {
     "name": "stdout",
     "output_type": "stream",
     "text": [
      "LITERAL 120\n",
      "MAX_REPEAT 2 4\n",
      "  IN\n",
      "    LITERAL 49\n",
      "    LITERAL 50\n",
      "    LITERAL 51\n",
      "LITERAL 121\n",
      "\n",
      " 0. INFO 8 0b1 4 6 (to 9)\n",
      "      prefix_skip 1\n",
      "      prefix [0x78] ('x')\n",
      "      overlap [0]\n",
      " 9: LITERAL 0x78 ('x')\n",
      "11. REPEAT_ONE 10 2 4 (to 22)\n",
      "15.   IN 5 (to 21)\n",
      "17.     RANGE 0x31 0x33 ('1'-'3')\n",
      "20.     FAILURE\n",
      "21:   SUCCESS\n",
      "22: LITERAL 0x79 ('y')\n",
      "24. SUCCESS\n",
      "<re.Match object; span=(0, 5), match='x222y'>\n"
     ]
    },
    {
     "data": {
      "text/plain": [
       "47"
      ]
     },
     "execution_count": 73,
     "metadata": {},
     "output_type": "execute_result"
    }
   ],
   "source": [
    "print(re.search('x[123]{2,4}y', 'x222y', re.DEBUG)) #\n",
    "'''\n",
    "LITERAL 120\n",
    "MAX_REPEAT 2 4\n",
    "  IN\n",
    "    LITERAL 49\n",
    "    LITERAL 50\n",
    "    LITERAL 51\n",
    "LITERAL 121\n",
    "<_sre.SRE_Match object; span=(0, 5), match='x222y'>\n",
    "'''\n",
    "47"
   ]
  },
  {
   "cell_type": "markdown",
   "id": "8b08676f",
   "metadata": {},
   "source": [
    "`MAX_REPEAT 2 4` confirms that the regex parser recognizes the metacharacter sequence `{2,4}` and interprets it as a range quantifier.\n",
    "\n",
    "But, as noted previously, if a pair of curly braces in a regex in Python contains anything other than a valid number or numeric range, then it loses its special meaning.\n",
    "\n",
    "You can verify this also:"
   ]
  },
  {
   "cell_type": "code",
   "execution_count": 74,
   "id": "2b358c2a",
   "metadata": {},
   "outputs": [
    {
     "name": "stdout",
     "output_type": "stream",
     "text": [
      "LITERAL 120\n",
      "IN\n",
      "  LITERAL 49\n",
      "  LITERAL 50\n",
      "  LITERAL 51\n",
      "LITERAL 123\n",
      "LITERAL 102\n",
      "LITERAL 111\n",
      "LITERAL 111\n",
      "LITERAL 125\n",
      "LITERAL 121\n",
      "\n",
      " 0. INFO 8 0b1 8 8 (to 9)\n",
      "      prefix_skip 1\n",
      "      prefix [0x78] ('x')\n",
      "      overlap [0]\n",
      " 9: LITERAL 0x78 ('x')\n",
      "11. IN 5 (to 17)\n",
      "13.   RANGE 0x31 0x33 ('1'-'3')\n",
      "16.   FAILURE\n",
      "17: LITERAL 0x7b ('{')\n",
      "19. LITERAL 0x66 ('f')\n",
      "21. LITERAL 0x6f ('o')\n",
      "23. LITERAL 0x6f ('o')\n",
      "25. LITERAL 0x7d ('}')\n",
      "27. LITERAL 0x79 ('y')\n",
      "29. SUCCESS\n",
      "None\n"
     ]
    }
   ],
   "source": [
    "print(re.search('x[123]{foo}y', 'x222y', re.DEBUG))\n",
    "\n",
    "#     LITERAL 120\n",
    "#     IN\n",
    "#       LITERAL 49\n",
    "#       LITERAL 50\n",
    "#       LITERAL 51\n",
    "#     LITERAL 123\n",
    "#     LITERAL 102\n",
    "#     LITERAL 111\n",
    "#     LITERAL 111\n",
    "#     LITERAL 125\n",
    "#     LITERAL 121"
   ]
  },
  {
   "cell_type": "markdown",
   "id": "7a053b33",
   "metadata": {},
   "source": [
    "You can see that there’s no `MAX_REPEAT` token in the debug output. The `LITERAL` tokens indicate that the parser treats `{foo}` literally and not as a quantifier metacharacter sequence. `123`, `102`, `111`, `111`, and `125` are the ASCII codes for the characters in the literal string `'{foo}'`.\n",
    "\n",
    "Information displayed by the `DEBUG` flag can help you troubleshoot by showing you how the parser is interpreting your regex.\n",
    "\n",
    "Curiously, the `re` module doesn’t define a single-letter version of the `DEBUG` flag. You could define your own if you wanted to:"
   ]
  },
  {
   "cell_type": "code",
   "execution_count": null,
   "id": "332c626a",
   "metadata": {},
   "outputs": [],
   "source": [
    "import re\n",
    "\n",
    "re.D = re.DEBUG\n",
    "print (re.D)\n",
    "print(re.search('foo', 'foo', re.D))\n",
    "# '''\n",
    "# LITERAL 102\n",
    "# LITERAL 111\n",
    "# LITERAL 111\n",
    "# <_sre.SRE_Match object; span=(0, 3), match='foo'>\n",
    "# '''\n",
    "# ''"
   ]
  },
  {
   "cell_type": "markdown",
   "id": "0316b675",
   "metadata": {},
   "source": [
    "But this might be more confusing than helpful, as readers of your code might misconstrue it as an abbreviation for the DOTALL flag. If you did make this assignment, it would be a good idea to document it thoroughly."
   ]
  },
  {
   "cell_type": "markdown",
   "id": "88a16098",
   "metadata": {},
   "source": [
    "**`re.A`**  \n",
    "**`re.ASCII`**  \n",
    "**`re.U`**  \n",
    "**`re.UNICODE`**  \n",
    "**`re.L`**  \n",
    "**`re.LOCALE`**  \n",
    "\n",
    "    Specify the character encoding used for parsing of special regex character classes."
   ]
  },
  {
   "cell_type": "markdown",
   "id": "2a4708cc",
   "metadata": {},
   "source": [
    "Several of the regex metacharacter sequences (`\\w`, `\\W`, `\\b`, `\\B`, `\\d`, `\\D`, `\\s`, and `\\S`) require you to assign characters to certain classes like word, digit, or whitespace. The flags in this group determine the encoding scheme used to assign characters to these classes. The possible encodings are ASCII, Unicode, or according to the current locale.\n",
    "\n",
    "You had a brief introduction to character encoding and Unicode in the tutorial on Strings and Character Data in Python, under the discussion of the ord() built-in function. For more in-depth information, check out these resources:\n",
    "\n",
    "    Unicode & Character Encodings in Python: A Painless Guide:\n",
    "    https://realpython.com/python-encodings-guide\n",
    "    \n",
    "    Python’s Unicode Support:\n",
    "    https://docs.python.org/3/howto/unicode.html#python-s-unicode-support\n",
    "\n",
    "Why is character encoding so important in the context of regexes in Python? Here’s a quick example.\n",
    "\n",
    "You learned earlier that `\\d` specifies a single digit character. The description of the `\\d` metacharacter sequence states that it’s equivalent to the character class `[0-9]`. That happens to be true for English and Western European languages, but for most of the world’s languages, the characters `'0'` through `'9'` don’t represent all or even any of the digits.\n",
    "\n",
    "For example, here’s a string that consists of three Devanagari digit characters:"
   ]
  },
  {
   "cell_type": "code",
   "execution_count": 170,
   "id": "fe56eb7a",
   "metadata": {},
   "outputs": [
    {
     "name": "stdout",
     "output_type": "stream",
     "text": [
      "१४६\n"
     ]
    }
   ],
   "source": [
    "s = '\\u0967\\u096a\\u096c'\n",
    "print (s) # '१४६'"
   ]
  },
  {
   "cell_type": "markdown",
   "id": "fe134c28",
   "metadata": {},
   "source": [
    "For the regex parser to properly account for the Devanagari script, the digit metacharacter sequence `\\d` must match each of these characters as well.\n",
    "\n",
    "The Unicode Consortium created Unicode to handle this problem. Unicode is a character-encoding standard designed to represent all the world’s writing systems. All strings in Python 3, including regexes, are Unicode by default.\n",
    "\n",
    "So then, back to the flags listed above. These flags help to determine whether a character falls into a given class by specifying whether the encoding used is ASCII, Unicode, or the current locale:\n",
    "\n",
    "- `re.U` and `re.UNICODE` specify Unicode encoding. Unicode is the default, so these flags are superfluous. They’re mainly supported for backward compatibility.\n",
    "- `re.A` and `re.ASCII` force a determination based on ASCII encoding. If you happen to be operating in English, then this is happening anyway, so the flag won’t affect whether or not a match is found.\n",
    "- `re.L` and `re.LOCALE` make the determination based on the current locale. Locale is an outdated concept and isn’t considered reliable. Except in rare circumstances, you’re not likely to need it.\n",
    "\n",
    "Using the default Unicode encoding, the regex parser should be able to handle any language you throw at it. In the following example, it correctly recognizes each of the characters in the string '१४६' as a digit:"
   ]
  },
  {
   "cell_type": "code",
   "execution_count": 171,
   "id": "50807c0e",
   "metadata": {},
   "outputs": [
    {
     "name": "stdout",
     "output_type": "stream",
     "text": [
      "१४६\n",
      "<re.Match object; span=(0, 3), match='१४६'>\n"
     ]
    }
   ],
   "source": [
    "s = '\\u0967\\u096a\\u096c'\n",
    "print(s) # '१४६'\n",
    "print (re.search('\\d+', s)) # <_sre.SRE_Match object; span=(0, 3), match='१४६'>"
   ]
  },
  {
   "cell_type": "markdown",
   "id": "c8cefa5a",
   "metadata": {},
   "source": [
    "Here’s another example that illustrates how character encoding can affect a regex match in Python. Consider this string:"
   ]
  },
  {
   "cell_type": "code",
   "execution_count": 172,
   "id": "eba36f29",
   "metadata": {},
   "outputs": [
    {
     "name": "stdout",
     "output_type": "stream",
     "text": [
      "schön\n"
     ]
    }
   ],
   "source": [
    "s = 'sch\\u00f6n'\n",
    "print (s) # 'schön'"
   ]
  },
  {
   "cell_type": "markdown",
   "id": "9b791980",
   "metadata": {},
   "source": [
    "`'schön'` (the German word for pretty or nice) contains the `'ö'` character, which has the 16-bit hexadecimal Unicode value `00f6`. This character isn’t representable in traditional 7-bit ASCII.\n",
    "\n",
    "If you’re working in German, then you should reasonably expect the regex parser to consider all of the characters in `'schön'` to be word characters. But take a look at what happens if you search `s` for word characters using the `\\w` character class and force an ASCII encoding:"
   ]
  },
  {
   "cell_type": "code",
   "execution_count": 173,
   "id": "bbcbf078",
   "metadata": {},
   "outputs": [
    {
     "name": "stdout",
     "output_type": "stream",
     "text": [
      "<re.Match object; span=(0, 3), match='sch'>\n"
     ]
    }
   ],
   "source": [
    "print(re.search('\\w+', s, re.ASCII)) # <_sre.SRE_Match object; span=(0, 3), match='sch'>"
   ]
  },
  {
   "cell_type": "markdown",
   "id": "8cb28ae8",
   "metadata": {},
   "source": [
    "When you restrict the encoding to ASCII, the regex parser recognizes only the first three characters as word characters. The match stops at 'ö'.\n",
    "\n",
    "On the other hand, if you specify re.UNICODE or allow the encoding to default to Unicode, then all the characters in 'schön' qualify as word characters:"
   ]
  },
  {
   "cell_type": "code",
   "execution_count": 174,
   "id": "8b6c31d2",
   "metadata": {},
   "outputs": [
    {
     "name": "stdout",
     "output_type": "stream",
     "text": [
      "<re.Match object; span=(0, 5), match='schön'>\n",
      "<re.Match object; span=(0, 5), match='schön'>\n"
     ]
    }
   ],
   "source": [
    "print (re.search('\\w+', s, re.UNICODE)) # <_sre.SRE_Match object; span=(0, 5), match='schön'>\n",
    "print (re.search('\\w+', s)) # <_sre.SRE_Match object; span=(0, 5), match='schön'>"
   ]
  },
  {
   "cell_type": "markdown",
   "id": "dc5255b6",
   "metadata": {},
   "source": [
    "The ASCII and LOCALE flags are available in case you need them for special circumstances. But in general, the best strategy is to use the default Unicode encoding. This should handle any world language correctly."
   ]
  },
  {
   "cell_type": "markdown",
   "id": "375c2a7f",
   "metadata": {},
   "source": [
    "### RP - Combining \\<flags\\> Arguments in a Function Call"
   ]
  },
  {
   "cell_type": "markdown",
   "id": "3e53828e",
   "metadata": {},
   "source": [
    "Flag values are defined so that you can combine them using the bitwise OR (`|`) operator. This allows you to specify several flags in a single function call:"
   ]
  },
  {
   "cell_type": "code",
   "execution_count": 175,
   "id": "c7a8c324",
   "metadata": {},
   "outputs": [
    {
     "name": "stdout",
     "output_type": "stream",
     "text": [
      "<re.Match object; span=(4, 7), match='BAR'>\n"
     ]
    }
   ],
   "source": [
    "print (re.search('^bar', 'FOO\\nBAR\\nBAZ', re.I|re.M)) # <_sre.SRE_Match object; span=(4, 7), match='BAR'>"
   ]
  },
  {
   "cell_type": "markdown",
   "id": "847f02df",
   "metadata": {},
   "source": [
    "This `re.search()` call uses bitwise OR to specify both the `IGNORECASE` and `MULTILINE` flags at once."
   ]
  },
  {
   "cell_type": "markdown",
   "id": "37b7e3f0",
   "metadata": {},
   "source": [
    "### RP - Setting and Clearing Flags Within a Regular Expression"
   ]
  },
  {
   "cell_type": "markdown",
   "id": "cbe4c804",
   "metadata": {},
   "source": [
    "In addition to being able to pass a `<flags>` argument to most re module function calls, you can also modify flag values within a regex in Python. There are two regex metacharacter sequences that provide this capability."
   ]
  },
  {
   "cell_type": "markdown",
   "id": "96e79707",
   "metadata": {},
   "source": [
    "**`(?<flags>)`**\n",
    "\n",
    "    Sets flag value(s) for the duration of a regex."
   ]
  },
  {
   "cell_type": "markdown",
   "id": "9ec0da2d",
   "metadata": {},
   "source": [
    "Within a regex, the metacharacter sequence `(?<flags>)` sets the specified flags for the entire expression.\n",
    "\n",
    "The value of `<flags>` is one or more letters from the set `a`, `i`, `L`, `m`, `s`, `u`, and `x`. Here’s how they correspond to the `re` module flags:"
   ]
  },
  {
   "cell_type": "markdown",
   "id": "5e213445",
   "metadata": {},
   "source": [
    "\n",
    "```\n",
    "Letter \tFlags\n",
    "\n",
    "a \t    re.A  re.ASCII\n",
    "i \t    re.I  re.IGNORECASE\n",
    "L \t    re.L  re.LOCALE\n",
    "m \t    re.M  re.MULTILINE\n",
    "s \t    re.S  re.DOTALL\n",
    "u \t    re.U  re.UNICODE\n",
    "x \t    re.X  re.VERBOSE\n",
    "```\n"
   ]
  },
  {
   "cell_type": "markdown",
   "id": "fdc88a81",
   "metadata": {},
   "source": [
    "The `(?<flags>)` metacharacter sequence as a whole matches the empty string. It always matches successfully and doesn’t consume any of the search string.\n",
    "\n",
    "The following examples are equivalent ways of setting the IGNORECASE and MULTILINE flags:"
   ]
  },
  {
   "cell_type": "code",
   "execution_count": 179,
   "id": "e9511eaa",
   "metadata": {},
   "outputs": [
    {
     "name": "stdout",
     "output_type": "stream",
     "text": [
      "<re.Match object; span=(4, 7), match='BAR'>\n"
     ]
    }
   ],
   "source": [
    "print (re.search('^bar', 'FOO\\nBAR\\nBAZ\\n', re.I|re.M)) # <_sre.SRE_Match object; span=(4, 7), match='BAR'>"
   ]
  },
  {
   "cell_type": "code",
   "execution_count": 180,
   "id": "0df74ae5",
   "metadata": {},
   "outputs": [
    {
     "name": "stdout",
     "output_type": "stream",
     "text": [
      "<re.Match object; span=(4, 7), match='BAR'>\n"
     ]
    }
   ],
   "source": [
    "print (re.search('(?im)^bar', 'FOO\\nBAR\\nBAZ\\n')) # <_sre.SRE_Match object; span=(4, 7), match='BAR'>"
   ]
  },
  {
   "cell_type": "markdown",
   "id": "f5074a96",
   "metadata": {},
   "source": [
    "Note that a `(?<flags>)` metacharacter sequence sets the given flag(s) for the entire regex no matter where you place it in the expression:"
   ]
  },
  {
   "cell_type": "code",
   "execution_count": 181,
   "id": "b3f26524",
   "metadata": {},
   "outputs": [
    {
     "name": "stdout",
     "output_type": "stream",
     "text": [
      "<re.Match object; span=(0, 11), match='foo\\nbar\\nbaz'>\n"
     ]
    }
   ],
   "source": [
    "print (re.search('foo.bar(?s).baz', 'foo\\nbar\\nbaz')) # <_sre.SRE_Match object; span=(0, 11), match='foo\\nbar\\nbaz'>"
   ]
  },
  {
   "cell_type": "code",
   "execution_count": 184,
   "id": "17c12d90",
   "metadata": {},
   "outputs": [
    {
     "name": "stdout",
     "output_type": "stream",
     "text": [
      "<re.Match object; span=(0, 11), match='foo\\nbar\\nbaz'>\n"
     ]
    }
   ],
   "source": [
    "print (re.search('foo.bar.baz(?s)', 'foo\\nbar\\nbaz')) # <_sre.SRE_Match object; span=(0, 11), match='foo\\nbar\\nbaz'>"
   ]
  },
  {
   "cell_type": "markdown",
   "id": "121bb703",
   "metadata": {},
   "source": [
    "In the above examples, both dot metacharacters match newlines because the `DOTALL` flag is in effect. This is true even when `(?s)` appears in the middle or at the end of the expression.\n",
    "\n",
    "As of Python 3.7, it’s deprecated to specify `(?<flags>)` anywhere in a regex other than at the beginning:"
   ]
  },
  {
   "cell_type": "code",
   "execution_count": 185,
   "id": "17ead9e6",
   "metadata": {},
   "outputs": [
    {
     "data": {
      "text/plain": [
       "'3.9.13 (main, Aug 25 2022, 18:24:45) \\n[Clang 12.0.0 ]'"
      ]
     },
     "execution_count": 185,
     "metadata": {},
     "output_type": "execute_result"
    }
   ],
   "source": [
    "import sys\n",
    "sys.version # '3.8.0 (default, Oct 14 2019, 21:29:03) \\n[GCC 7.4.0]'"
   ]
  },
  {
   "cell_type": "code",
   "execution_count": 187,
   "id": "78b2aff8",
   "metadata": {},
   "outputs": [
    {
     "name": "stdout",
     "output_type": "stream",
     "text": [
      "<re.Match object; span=(0, 11), match='foo\\nbar\\nbaz'>\n"
     ]
    }
   ],
   "source": [
    "print (re.search('foo.bar.baz(?s)', 'foo\\nbar\\nbaz')) # "
   ]
  },
  {
   "cell_type": "markdown",
   "id": "ae2cec64",
   "metadata": {},
   "source": [
    "If there was an error, the following might be shown:\n",
    "```\n",
    "<stdin>:1: DeprecationWarning: Flags not at the start\n",
    "    of the expression 'foo.bar.baz(?s)'\n",
    "<re.Match object; span=(0, 11), match='foo\\nbar\\nbaz'>\n",
    "```"
   ]
  },
  {
   "cell_type": "markdown",
   "id": "e420d0fc",
   "metadata": {},
   "source": [
    "It still produces the appropriate match, but you’ll get a warning message."
   ]
  },
  {
   "cell_type": "markdown",
   "id": "5fe44906",
   "metadata": {},
   "source": [
    "**`(?<set_flags>-<remove_flags>:<regex>)`**\n",
    "\n",
    "    Sets or removes flag value(s) for the duration of a group."
   ]
  },
  {
   "cell_type": "markdown",
   "id": "0f56a812",
   "metadata": {},
   "source": [
    "`(?<set_flags>-<remove_flags>:<regex>)` defines a non-capturing group that matches against `<regex>`. For the `<regex>` contained in the group, the regex parser sets any flags specified in `<set_flags>` and clears any flags specified in `<remove_flags>`.\n",
    "\n",
    "Values for `<set_flags>` and `<remove_flags>` are most commonly `i`, `m`, `s` or `x`.\n",
    "\n",
    "In the following example, the `IGNORECASE` flag is set for the specified group:"
   ]
  },
  {
   "cell_type": "code",
   "execution_count": 188,
   "id": "638e698d",
   "metadata": {},
   "outputs": [
    {
     "name": "stdout",
     "output_type": "stream",
     "text": [
      "<re.Match object; span=(0, 6), match='FOObar'>\n"
     ]
    }
   ],
   "source": [
    "print (re.search('(?i:foo)bar', 'FOObar')) # <re.Match object; span=(0, 6), match='FOObar'>"
   ]
  },
  {
   "cell_type": "markdown",
   "id": "897a30e0",
   "metadata": {},
   "source": [
    "This produces a match because `(?i:foo)` dictates that the match against `'FOO'` is case insensitive.\n",
    "\n",
    "Now contrast that with this example:"
   ]
  },
  {
   "cell_type": "code",
   "execution_count": 191,
   "id": "879bcee3",
   "metadata": {},
   "outputs": [
    {
     "name": "stdout",
     "output_type": "stream",
     "text": [
      "None\n"
     ]
    }
   ],
   "source": [
    "print(re.search('(?i:foo)bar', 'FOOBAR')) # None"
   ]
  },
  {
   "cell_type": "markdown",
   "id": "a39243ba",
   "metadata": {},
   "source": [
    "As in the previous example, the match against `'FOO'` would succeed because it’s case insensitive. But once outside the group, `IGNORECASE` is no longer in effect, so the match against `'BAR'` is case sensitive and fails.\n",
    "\n",
    "Here’s an example that demonstrates turning a flag off for a group:"
   ]
  },
  {
   "cell_type": "code",
   "execution_count": 190,
   "id": "99c6edd9",
   "metadata": {},
   "outputs": [
    {
     "name": "stdout",
     "output_type": "stream",
     "text": [
      "None\n"
     ]
    }
   ],
   "source": [
    "print(re.search('(?-i:foo)bar', 'FOOBAR', re.IGNORECASE)) # None"
   ]
  },
  {
   "cell_type": "markdown",
   "id": "ad7a5699",
   "metadata": {},
   "source": [
    "Again, there’s no match. Although `re.IGNORECASE` enables case-insensitive matching for the entire call, the metacharacter sequence `(?-i:foo)` turns off `IGNORECASE` for the duration of that group, so the match against `'FOO'` fails.\n",
    "\n",
    "As of Python 3.7, you can specify `u`, `a`, or `L` as `<set_flags>` to override the default encoding for the specified group:"
   ]
  },
  {
   "cell_type": "code",
   "execution_count": 196,
   "id": "44513cbb",
   "metadata": {},
   "outputs": [
    {
     "data": {
      "text/plain": [
       "'schön'"
      ]
     },
     "execution_count": 196,
     "metadata": {},
     "output_type": "execute_result"
    }
   ],
   "source": [
    "s = 'sch\\u00f6n'\n",
    "s # 'schön'"
   ]
  },
  {
   "cell_type": "code",
   "execution_count": 197,
   "id": "5d73336c",
   "metadata": {},
   "outputs": [
    {
     "name": "stdout",
     "output_type": "stream",
     "text": [
      "<re.Match object; span=(0, 3), match='sch'>\n"
     ]
    }
   ],
   "source": [
    ">>> # Requires Python 3.7 or later\n",
    "print (re.search('(?a:\\w+)', s)) # <re.Match object; span=(0, 3), match='sch'>"
   ]
  },
  {
   "cell_type": "code",
   "execution_count": 198,
   "id": "81e49b2c",
   "metadata": {},
   "outputs": [
    {
     "name": "stdout",
     "output_type": "stream",
     "text": [
      "<re.Match object; span=(0, 5), match='schön'>\n"
     ]
    }
   ],
   "source": [
    "print (re.search('(?u:\\w+)', s)) # <re.Match object; span=(0, 5), match='schön'>"
   ]
  },
  {
   "cell_type": "markdown",
   "id": "ebf238cf",
   "metadata": {},
   "source": [
    "You can only set encoding this way, though. You can’t remove it:"
   ]
  },
  {
   "cell_type": "code",
   "execution_count": 199,
   "id": "fa67530a",
   "metadata": {},
   "outputs": [
    {
     "ename": "error",
     "evalue": "bad inline flags: cannot turn off flags 'a', 'u' and 'L' at position 4",
     "output_type": "error",
     "traceback": [
      "\u001b[0;31m---------------------------------------------------------------------------\u001b[0m",
      "\u001b[0;31merror\u001b[0m                                     Traceback (most recent call last)",
      "Input \u001b[0;32mIn [199]\u001b[0m, in \u001b[0;36m<cell line: 1>\u001b[0;34m()\u001b[0m\n\u001b[0;32m----> 1\u001b[0m \u001b[38;5;28mprint\u001b[39m (\u001b[43mre\u001b[49m\u001b[38;5;241;43m.\u001b[39;49m\u001b[43msearch\u001b[49m\u001b[43m(\u001b[49m\u001b[38;5;124;43m'\u001b[39;49m\u001b[38;5;124;43m(?-a:\u001b[39;49m\u001b[38;5;124;43m\\\u001b[39;49m\u001b[38;5;124;43mw+)\u001b[39;49m\u001b[38;5;124;43m'\u001b[39;49m\u001b[43m,\u001b[49m\u001b[43m \u001b[49m\u001b[43ms\u001b[49m\u001b[43m)\u001b[49m)\n",
      "File \u001b[0;32m~/anaconda3/lib/python3.9/re.py:201\u001b[0m, in \u001b[0;36msearch\u001b[0;34m(pattern, string, flags)\u001b[0m\n\u001b[1;32m    198\u001b[0m \u001b[38;5;28;01mdef\u001b[39;00m \u001b[38;5;21msearch\u001b[39m(pattern, string, flags\u001b[38;5;241m=\u001b[39m\u001b[38;5;241m0\u001b[39m):\n\u001b[1;32m    199\u001b[0m     \u001b[38;5;124;03m\"\"\"Scan through string looking for a match to the pattern, returning\u001b[39;00m\n\u001b[1;32m    200\u001b[0m \u001b[38;5;124;03m    a Match object, or None if no match was found.\"\"\"\u001b[39;00m\n\u001b[0;32m--> 201\u001b[0m     \u001b[38;5;28;01mreturn\u001b[39;00m \u001b[43m_compile\u001b[49m\u001b[43m(\u001b[49m\u001b[43mpattern\u001b[49m\u001b[43m,\u001b[49m\u001b[43m \u001b[49m\u001b[43mflags\u001b[49m\u001b[43m)\u001b[49m\u001b[38;5;241m.\u001b[39msearch(string)\n",
      "File \u001b[0;32m~/anaconda3/lib/python3.9/re.py:304\u001b[0m, in \u001b[0;36m_compile\u001b[0;34m(pattern, flags)\u001b[0m\n\u001b[1;32m    302\u001b[0m \u001b[38;5;28;01mif\u001b[39;00m \u001b[38;5;129;01mnot\u001b[39;00m sre_compile\u001b[38;5;241m.\u001b[39misstring(pattern):\n\u001b[1;32m    303\u001b[0m     \u001b[38;5;28;01mraise\u001b[39;00m \u001b[38;5;167;01mTypeError\u001b[39;00m(\u001b[38;5;124m\"\u001b[39m\u001b[38;5;124mfirst argument must be string or compiled pattern\u001b[39m\u001b[38;5;124m\"\u001b[39m)\n\u001b[0;32m--> 304\u001b[0m p \u001b[38;5;241m=\u001b[39m \u001b[43msre_compile\u001b[49m\u001b[38;5;241;43m.\u001b[39;49m\u001b[43mcompile\u001b[49m\u001b[43m(\u001b[49m\u001b[43mpattern\u001b[49m\u001b[43m,\u001b[49m\u001b[43m \u001b[49m\u001b[43mflags\u001b[49m\u001b[43m)\u001b[49m\n\u001b[1;32m    305\u001b[0m \u001b[38;5;28;01mif\u001b[39;00m \u001b[38;5;129;01mnot\u001b[39;00m (flags \u001b[38;5;241m&\u001b[39m DEBUG):\n\u001b[1;32m    306\u001b[0m     \u001b[38;5;28;01mif\u001b[39;00m \u001b[38;5;28mlen\u001b[39m(_cache) \u001b[38;5;241m>\u001b[39m\u001b[38;5;241m=\u001b[39m _MAXCACHE:\n\u001b[1;32m    307\u001b[0m         \u001b[38;5;66;03m# Drop the oldest item\u001b[39;00m\n",
      "File \u001b[0;32m~/anaconda3/lib/python3.9/sre_compile.py:788\u001b[0m, in \u001b[0;36mcompile\u001b[0;34m(p, flags)\u001b[0m\n\u001b[1;32m    786\u001b[0m \u001b[38;5;28;01mif\u001b[39;00m isstring(p):\n\u001b[1;32m    787\u001b[0m     pattern \u001b[38;5;241m=\u001b[39m p\n\u001b[0;32m--> 788\u001b[0m     p \u001b[38;5;241m=\u001b[39m \u001b[43msre_parse\u001b[49m\u001b[38;5;241;43m.\u001b[39;49m\u001b[43mparse\u001b[49m\u001b[43m(\u001b[49m\u001b[43mp\u001b[49m\u001b[43m,\u001b[49m\u001b[43m \u001b[49m\u001b[43mflags\u001b[49m\u001b[43m)\u001b[49m\n\u001b[1;32m    789\u001b[0m \u001b[38;5;28;01melse\u001b[39;00m:\n\u001b[1;32m    790\u001b[0m     pattern \u001b[38;5;241m=\u001b[39m \u001b[38;5;28;01mNone\u001b[39;00m\n",
      "File \u001b[0;32m~/anaconda3/lib/python3.9/sre_parse.py:955\u001b[0m, in \u001b[0;36mparse\u001b[0;34m(str, flags, state)\u001b[0m\n\u001b[1;32m    952\u001b[0m state\u001b[38;5;241m.\u001b[39mstr \u001b[38;5;241m=\u001b[39m \u001b[38;5;28mstr\u001b[39m\n\u001b[1;32m    954\u001b[0m \u001b[38;5;28;01mtry\u001b[39;00m:\n\u001b[0;32m--> 955\u001b[0m     p \u001b[38;5;241m=\u001b[39m \u001b[43m_parse_sub\u001b[49m\u001b[43m(\u001b[49m\u001b[43msource\u001b[49m\u001b[43m,\u001b[49m\u001b[43m \u001b[49m\u001b[43mstate\u001b[49m\u001b[43m,\u001b[49m\u001b[43m \u001b[49m\u001b[43mflags\u001b[49m\u001b[43m \u001b[49m\u001b[38;5;241;43m&\u001b[39;49m\u001b[43m \u001b[49m\u001b[43mSRE_FLAG_VERBOSE\u001b[49m\u001b[43m,\u001b[49m\u001b[43m \u001b[49m\u001b[38;5;241;43m0\u001b[39;49m\u001b[43m)\u001b[49m\n\u001b[1;32m    956\u001b[0m \u001b[38;5;28;01mexcept\u001b[39;00m Verbose:\n\u001b[1;32m    957\u001b[0m     \u001b[38;5;66;03m# the VERBOSE flag was switched on inside the pattern.  to be\u001b[39;00m\n\u001b[1;32m    958\u001b[0m     \u001b[38;5;66;03m# on the safe side, we'll parse the whole thing again...\u001b[39;00m\n\u001b[1;32m    959\u001b[0m     state \u001b[38;5;241m=\u001b[39m State()\n",
      "File \u001b[0;32m~/anaconda3/lib/python3.9/sre_parse.py:444\u001b[0m, in \u001b[0;36m_parse_sub\u001b[0;34m(source, state, verbose, nested)\u001b[0m\n\u001b[1;32m    442\u001b[0m start \u001b[38;5;241m=\u001b[39m source\u001b[38;5;241m.\u001b[39mtell()\n\u001b[1;32m    443\u001b[0m \u001b[38;5;28;01mwhile\u001b[39;00m \u001b[38;5;28;01mTrue\u001b[39;00m:\n\u001b[0;32m--> 444\u001b[0m     itemsappend(\u001b[43m_parse\u001b[49m\u001b[43m(\u001b[49m\u001b[43msource\u001b[49m\u001b[43m,\u001b[49m\u001b[43m \u001b[49m\u001b[43mstate\u001b[49m\u001b[43m,\u001b[49m\u001b[43m \u001b[49m\u001b[43mverbose\u001b[49m\u001b[43m,\u001b[49m\u001b[43m \u001b[49m\u001b[43mnested\u001b[49m\u001b[43m \u001b[49m\u001b[38;5;241;43m+\u001b[39;49m\u001b[43m \u001b[49m\u001b[38;5;241;43m1\u001b[39;49m\u001b[43m,\u001b[49m\n\u001b[1;32m    445\u001b[0m \u001b[43m                       \u001b[49m\u001b[38;5;129;43;01mnot\u001b[39;49;00m\u001b[43m \u001b[49m\u001b[43mnested\u001b[49m\u001b[43m \u001b[49m\u001b[38;5;129;43;01mand\u001b[39;49;00m\u001b[43m \u001b[49m\u001b[38;5;129;43;01mnot\u001b[39;49;00m\u001b[43m \u001b[49m\u001b[43mitems\u001b[49m\u001b[43m)\u001b[49m)\n\u001b[1;32m    446\u001b[0m     \u001b[38;5;28;01mif\u001b[39;00m \u001b[38;5;129;01mnot\u001b[39;00m sourcematch(\u001b[38;5;124m\"\u001b[39m\u001b[38;5;124m|\u001b[39m\u001b[38;5;124m\"\u001b[39m):\n\u001b[1;32m    447\u001b[0m         \u001b[38;5;28;01mbreak\u001b[39;00m\n",
      "File \u001b[0;32m~/anaconda3/lib/python3.9/sre_parse.py:810\u001b[0m, in \u001b[0;36m_parse\u001b[0;34m(source, state, verbose, nested, first)\u001b[0m\n\u001b[1;32m    806\u001b[0m     \u001b[38;5;28;01mcontinue\u001b[39;00m\n\u001b[1;32m    808\u001b[0m \u001b[38;5;28;01melif\u001b[39;00m char \u001b[38;5;129;01min\u001b[39;00m FLAGS \u001b[38;5;129;01mor\u001b[39;00m char \u001b[38;5;241m==\u001b[39m \u001b[38;5;124m\"\u001b[39m\u001b[38;5;124m-\u001b[39m\u001b[38;5;124m\"\u001b[39m:\n\u001b[1;32m    809\u001b[0m     \u001b[38;5;66;03m# flags\u001b[39;00m\n\u001b[0;32m--> 810\u001b[0m     flags \u001b[38;5;241m=\u001b[39m \u001b[43m_parse_flags\u001b[49m\u001b[43m(\u001b[49m\u001b[43msource\u001b[49m\u001b[43m,\u001b[49m\u001b[43m \u001b[49m\u001b[43mstate\u001b[49m\u001b[43m,\u001b[49m\u001b[43m \u001b[49m\u001b[43mchar\u001b[49m\u001b[43m)\u001b[49m\n\u001b[1;32m    811\u001b[0m     \u001b[38;5;28;01mif\u001b[39;00m flags \u001b[38;5;129;01mis\u001b[39;00m \u001b[38;5;28;01mNone\u001b[39;00m:  \u001b[38;5;66;03m# global flags\u001b[39;00m\n\u001b[1;32m    812\u001b[0m         \u001b[38;5;28;01mif\u001b[39;00m \u001b[38;5;129;01mnot\u001b[39;00m first \u001b[38;5;129;01mor\u001b[39;00m subpattern:\n",
      "File \u001b[0;32m~/anaconda3/lib/python3.9/sre_parse.py:911\u001b[0m, in \u001b[0;36m_parse_flags\u001b[0;34m(source, state, char)\u001b[0m\n\u001b[1;32m    909\u001b[0m \u001b[38;5;28;01mif\u001b[39;00m flag \u001b[38;5;241m&\u001b[39m TYPE_FLAGS:\n\u001b[1;32m    910\u001b[0m     msg \u001b[38;5;241m=\u001b[39m \u001b[38;5;124m\"\u001b[39m\u001b[38;5;124mbad inline flags: cannot turn off flags \u001b[39m\u001b[38;5;124m'\u001b[39m\u001b[38;5;124ma\u001b[39m\u001b[38;5;124m'\u001b[39m\u001b[38;5;124m, \u001b[39m\u001b[38;5;124m'\u001b[39m\u001b[38;5;124mu\u001b[39m\u001b[38;5;124m'\u001b[39m\u001b[38;5;124m and \u001b[39m\u001b[38;5;124m'\u001b[39m\u001b[38;5;124mL\u001b[39m\u001b[38;5;124m'\u001b[39m\u001b[38;5;124m\"\u001b[39m\n\u001b[0;32m--> 911\u001b[0m     \u001b[38;5;28;01mraise\u001b[39;00m source\u001b[38;5;241m.\u001b[39merror(msg)\n\u001b[1;32m    912\u001b[0m del_flags \u001b[38;5;241m|\u001b[39m\u001b[38;5;241m=\u001b[39m flag\n\u001b[1;32m    913\u001b[0m char \u001b[38;5;241m=\u001b[39m sourceget()\n",
      "\u001b[0;31merror\u001b[0m: bad inline flags: cannot turn off flags 'a', 'u' and 'L' at position 4"
     ]
    }
   ],
   "source": [
    "print (re.search('(?-a:\\w+)', s))"
   ]
  },
  {
   "cell_type": "markdown",
   "id": "d09fe312",
   "metadata": {},
   "source": [
    "Should display:\n",
    "```\n",
    "Traceback (most recent call last):\n",
    "  File \"<stdin>\", line 1, in <module>\n",
    "  File \"/usr/lib/python3.8/re.py\", line 199, in search\n",
    "    return _compile(pattern, flags).search(string)\n",
    "  File \"/usr/lib/python3.8/re.py\", line 302, in _compile\n",
    "    p = sre_compile.compile(pattern, flags)\n",
    "  File \"/usr/lib/python3.8/sre_compile.py\", line 764, in compile\n",
    "    p = sre_parse.parse(p, flags)\n",
    "  File \"/usr/lib/python3.8/sre_parse.py\", line 948, in parse\n",
    "    p = _parse_sub(source, state, flags & SRE_FLAG_VERBOSE, 0)\n",
    "  File \"/usr/lib/python3.8/sre_parse.py\", line 443, in _parse_sub\n",
    "    itemsappend(_parse(source, state, verbose, nested + 1,\n",
    "  File \"/usr/lib/python3.8/sre_parse.py\", line 805, in _parse\n",
    "    flags = _parse_flags(source, state, char)\n",
    "  File \"/usr/lib/python3.8/sre_parse.py\", line 904, in _parse_flags\n",
    "    raise source.error(msg)\n",
    "re.error: bad inline flags: cannot turn off flags 'a', 'u' and 'L' at\n",
    "position 4\n",
    "```"
   ]
  },
  {
   "cell_type": "markdown",
   "id": "ec0089dd",
   "metadata": {},
   "source": [
    "`u`, `a`, and `L` are mutually exclusive. Only one of them may appear per group."
   ]
  },
  {
   "cell_type": "markdown",
   "id": "2064b783",
   "metadata": {},
   "source": [
    "### RP - Conclusion"
   ]
  },
  {
   "cell_type": "markdown",
   "id": "5c002ae9",
   "metadata": {},
   "source": [
    "This concludes your introduction to regular expression matching and Python’s re module. Congratulations! You’ve mastered a tremendous amount of material."
   ]
  },
  {
   "cell_type": "markdown",
   "id": "b8526bc2",
   "metadata": {},
   "source": [
    "You now know how to:\n",
    "\n",
    "- Use `re.search()` to perform regex matching in Python\n",
    "- Create complex pattern matching searches with regex metacharacters\n",
    "- Tweak regex parsing behavior with flags\n",
    "\n",
    "But you’ve still seen only one function in the module: `re.search()`! The re module has many more useful functions and objects to add to your pattern-matching toolkit. The next tutorial in the series will introduce you to what else the `regex` module in Python has to offer."
   ]
  }
 ],
 "metadata": {
  "kernelspec": {
   "display_name": "Python 3 (ipykernel)",
   "language": "python",
   "name": "python3"
  },
  "language_info": {
   "codemirror_mode": {
    "name": "ipython",
    "version": 3
   },
   "file_extension": ".py",
   "mimetype": "text/x-python",
   "name": "python",
   "nbconvert_exporter": "python",
   "pygments_lexer": "ipython3",
   "version": "3.9.15"
  }
 },
 "nbformat": 4,
 "nbformat_minor": 5
}
